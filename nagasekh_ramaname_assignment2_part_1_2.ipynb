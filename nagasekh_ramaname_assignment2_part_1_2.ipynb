{
  "cells": [
    {
      "cell_type": "code",
      "execution_count": 1,
      "metadata": {
        "id": "6WrpfjB4nFa8"
      },
      "outputs": [],
      "source": [
        "#Step 1: Loading the Dataset"
      ],
      "id": "6WrpfjB4nFa8"
    },
    {
      "cell_type": "code",
      "execution_count": 2,
      "metadata": {
        "id": "fcc764c1"
      },
      "outputs": [],
      "source": [
        "#Import required libraries\n",
        "import pandas as pd\n",
        "import numpy as np\n",
        "import math\n",
        "import matplotlib.pyplot as plt\n",
        "from sklearn.preprocessing import StandardScaler\n",
        "import seaborn as sns\n",
        "from torch.utils.data import DataLoader,TensorDataset\n",
        "import torch\n",
        "import torch.nn as nn\n",
        "import torch.optim as optim"
      ],
      "id": "fcc764c1"
    },
    {
      "cell_type": "code",
      "execution_count": 3,
      "metadata": {
        "colab": {
          "base_uri": "https://localhost:8080/",
          "height": 419
        },
        "id": "bdbe9ab4",
        "outputId": "e3ada52f-26de-496b-f9f1-3d3c7a8394ec"
      },
      "outputs": [
        {
          "output_type": "execute_result",
          "data": {
            "text/plain": [
              "     f1   f2  f3  f4   f5    f6     f7  target\n",
              "0     6  148  72  35    0  33.6  0.627       1\n",
              "1     1   85  66  29    0  26.6  0.351       0\n",
              "2     8  183  64   0    0  23.3  0.672       1\n",
              "3     1   89  66  23   94  28.1  0.167       0\n",
              "4     0  137  40  35  168  43.1  2.288       1\n",
              "..   ..  ...  ..  ..  ...   ...    ...     ...\n",
              "761   9   89  62   0    0  22.5      e       0\n",
              "762  10  101  76  48  180     d  0.171       0\n",
              "763   2  122  70  27    b  36.8   0.34       0\n",
              "764   c  121  72  23  112  26.2  0.245       0\n",
              "765   1  126  60   a    0  30.1  0.349       1\n",
              "\n",
              "[766 rows x 8 columns]"
            ],
            "text/html": [
              "\n",
              "  <div id=\"df-1ecc539f-9ba6-46e0-b6c7-90cc3e8d8737\">\n",
              "    <div class=\"colab-df-container\">\n",
              "      <div>\n",
              "<style scoped>\n",
              "    .dataframe tbody tr th:only-of-type {\n",
              "        vertical-align: middle;\n",
              "    }\n",
              "\n",
              "    .dataframe tbody tr th {\n",
              "        vertical-align: top;\n",
              "    }\n",
              "\n",
              "    .dataframe thead th {\n",
              "        text-align: right;\n",
              "    }\n",
              "</style>\n",
              "<table border=\"1\" class=\"dataframe\">\n",
              "  <thead>\n",
              "    <tr style=\"text-align: right;\">\n",
              "      <th></th>\n",
              "      <th>f1</th>\n",
              "      <th>f2</th>\n",
              "      <th>f3</th>\n",
              "      <th>f4</th>\n",
              "      <th>f5</th>\n",
              "      <th>f6</th>\n",
              "      <th>f7</th>\n",
              "      <th>target</th>\n",
              "    </tr>\n",
              "  </thead>\n",
              "  <tbody>\n",
              "    <tr>\n",
              "      <th>0</th>\n",
              "      <td>6</td>\n",
              "      <td>148</td>\n",
              "      <td>72</td>\n",
              "      <td>35</td>\n",
              "      <td>0</td>\n",
              "      <td>33.6</td>\n",
              "      <td>0.627</td>\n",
              "      <td>1</td>\n",
              "    </tr>\n",
              "    <tr>\n",
              "      <th>1</th>\n",
              "      <td>1</td>\n",
              "      <td>85</td>\n",
              "      <td>66</td>\n",
              "      <td>29</td>\n",
              "      <td>0</td>\n",
              "      <td>26.6</td>\n",
              "      <td>0.351</td>\n",
              "      <td>0</td>\n",
              "    </tr>\n",
              "    <tr>\n",
              "      <th>2</th>\n",
              "      <td>8</td>\n",
              "      <td>183</td>\n",
              "      <td>64</td>\n",
              "      <td>0</td>\n",
              "      <td>0</td>\n",
              "      <td>23.3</td>\n",
              "      <td>0.672</td>\n",
              "      <td>1</td>\n",
              "    </tr>\n",
              "    <tr>\n",
              "      <th>3</th>\n",
              "      <td>1</td>\n",
              "      <td>89</td>\n",
              "      <td>66</td>\n",
              "      <td>23</td>\n",
              "      <td>94</td>\n",
              "      <td>28.1</td>\n",
              "      <td>0.167</td>\n",
              "      <td>0</td>\n",
              "    </tr>\n",
              "    <tr>\n",
              "      <th>4</th>\n",
              "      <td>0</td>\n",
              "      <td>137</td>\n",
              "      <td>40</td>\n",
              "      <td>35</td>\n",
              "      <td>168</td>\n",
              "      <td>43.1</td>\n",
              "      <td>2.288</td>\n",
              "      <td>1</td>\n",
              "    </tr>\n",
              "    <tr>\n",
              "      <th>...</th>\n",
              "      <td>...</td>\n",
              "      <td>...</td>\n",
              "      <td>...</td>\n",
              "      <td>...</td>\n",
              "      <td>...</td>\n",
              "      <td>...</td>\n",
              "      <td>...</td>\n",
              "      <td>...</td>\n",
              "    </tr>\n",
              "    <tr>\n",
              "      <th>761</th>\n",
              "      <td>9</td>\n",
              "      <td>89</td>\n",
              "      <td>62</td>\n",
              "      <td>0</td>\n",
              "      <td>0</td>\n",
              "      <td>22.5</td>\n",
              "      <td>e</td>\n",
              "      <td>0</td>\n",
              "    </tr>\n",
              "    <tr>\n",
              "      <th>762</th>\n",
              "      <td>10</td>\n",
              "      <td>101</td>\n",
              "      <td>76</td>\n",
              "      <td>48</td>\n",
              "      <td>180</td>\n",
              "      <td>d</td>\n",
              "      <td>0.171</td>\n",
              "      <td>0</td>\n",
              "    </tr>\n",
              "    <tr>\n",
              "      <th>763</th>\n",
              "      <td>2</td>\n",
              "      <td>122</td>\n",
              "      <td>70</td>\n",
              "      <td>27</td>\n",
              "      <td>b</td>\n",
              "      <td>36.8</td>\n",
              "      <td>0.34</td>\n",
              "      <td>0</td>\n",
              "    </tr>\n",
              "    <tr>\n",
              "      <th>764</th>\n",
              "      <td>c</td>\n",
              "      <td>121</td>\n",
              "      <td>72</td>\n",
              "      <td>23</td>\n",
              "      <td>112</td>\n",
              "      <td>26.2</td>\n",
              "      <td>0.245</td>\n",
              "      <td>0</td>\n",
              "    </tr>\n",
              "    <tr>\n",
              "      <th>765</th>\n",
              "      <td>1</td>\n",
              "      <td>126</td>\n",
              "      <td>60</td>\n",
              "      <td>a</td>\n",
              "      <td>0</td>\n",
              "      <td>30.1</td>\n",
              "      <td>0.349</td>\n",
              "      <td>1</td>\n",
              "    </tr>\n",
              "  </tbody>\n",
              "</table>\n",
              "<p>766 rows × 8 columns</p>\n",
              "</div>\n",
              "      <button class=\"colab-df-convert\" onclick=\"convertToInteractive('df-1ecc539f-9ba6-46e0-b6c7-90cc3e8d8737')\"\n",
              "              title=\"Convert this dataframe to an interactive table.\"\n",
              "              style=\"display:none;\">\n",
              "        \n",
              "  <svg xmlns=\"http://www.w3.org/2000/svg\" height=\"24px\"viewBox=\"0 0 24 24\"\n",
              "       width=\"24px\">\n",
              "    <path d=\"M0 0h24v24H0V0z\" fill=\"none\"/>\n",
              "    <path d=\"M18.56 5.44l.94 2.06.94-2.06 2.06-.94-2.06-.94-.94-2.06-.94 2.06-2.06.94zm-11 1L8.5 8.5l.94-2.06 2.06-.94-2.06-.94L8.5 2.5l-.94 2.06-2.06.94zm10 10l.94 2.06.94-2.06 2.06-.94-2.06-.94-.94-2.06-.94 2.06-2.06.94z\"/><path d=\"M17.41 7.96l-1.37-1.37c-.4-.4-.92-.59-1.43-.59-.52 0-1.04.2-1.43.59L10.3 9.45l-7.72 7.72c-.78.78-.78 2.05 0 2.83L4 21.41c.39.39.9.59 1.41.59.51 0 1.02-.2 1.41-.59l7.78-7.78 2.81-2.81c.8-.78.8-2.07 0-2.86zM5.41 20L4 18.59l7.72-7.72 1.47 1.35L5.41 20z\"/>\n",
              "  </svg>\n",
              "      </button>\n",
              "      \n",
              "  <style>\n",
              "    .colab-df-container {\n",
              "      display:flex;\n",
              "      flex-wrap:wrap;\n",
              "      gap: 12px;\n",
              "    }\n",
              "\n",
              "    .colab-df-convert {\n",
              "      background-color: #E8F0FE;\n",
              "      border: none;\n",
              "      border-radius: 50%;\n",
              "      cursor: pointer;\n",
              "      display: none;\n",
              "      fill: #1967D2;\n",
              "      height: 32px;\n",
              "      padding: 0 0 0 0;\n",
              "      width: 32px;\n",
              "    }\n",
              "\n",
              "    .colab-df-convert:hover {\n",
              "      background-color: #E2EBFA;\n",
              "      box-shadow: 0px 1px 2px rgba(60, 64, 67, 0.3), 0px 1px 3px 1px rgba(60, 64, 67, 0.15);\n",
              "      fill: #174EA6;\n",
              "    }\n",
              "\n",
              "    [theme=dark] .colab-df-convert {\n",
              "      background-color: #3B4455;\n",
              "      fill: #D2E3FC;\n",
              "    }\n",
              "\n",
              "    [theme=dark] .colab-df-convert:hover {\n",
              "      background-color: #434B5C;\n",
              "      box-shadow: 0px 1px 3px 1px rgba(0, 0, 0, 0.15);\n",
              "      filter: drop-shadow(0px 1px 2px rgba(0, 0, 0, 0.3));\n",
              "      fill: #FFFFFF;\n",
              "    }\n",
              "  </style>\n",
              "\n",
              "      <script>\n",
              "        const buttonEl =\n",
              "          document.querySelector('#df-1ecc539f-9ba6-46e0-b6c7-90cc3e8d8737 button.colab-df-convert');\n",
              "        buttonEl.style.display =\n",
              "          google.colab.kernel.accessAllowed ? 'block' : 'none';\n",
              "\n",
              "        async function convertToInteractive(key) {\n",
              "          const element = document.querySelector('#df-1ecc539f-9ba6-46e0-b6c7-90cc3e8d8737');\n",
              "          const dataTable =\n",
              "            await google.colab.kernel.invokeFunction('convertToInteractive',\n",
              "                                                     [key], {});\n",
              "          if (!dataTable) return;\n",
              "\n",
              "          const docLinkHtml = 'Like what you see? Visit the ' +\n",
              "            '<a target=\"_blank\" href=https://colab.research.google.com/notebooks/data_table.ipynb>data table notebook</a>'\n",
              "            + ' to learn more about interactive tables.';\n",
              "          element.innerHTML = '';\n",
              "          dataTable['output_type'] = 'display_data';\n",
              "          await google.colab.output.renderOutput(dataTable, element);\n",
              "          const docLink = document.createElement('div');\n",
              "          docLink.innerHTML = docLinkHtml;\n",
              "          element.appendChild(docLink);\n",
              "        }\n",
              "      </script>\n",
              "    </div>\n",
              "  </div>\n",
              "  "
            ]
          },
          "metadata": {},
          "execution_count": 3
        }
      ],
      "source": [
        "# function is used to load the dataset using pandas library.\n",
        "def load_data(file_name):\n",
        "    NNData = pd.read_csv(file_name, index_col=False)\n",
        "    return NNData\n",
        "NNData = load_data(\"dataset.csv\")\n",
        "NNData"
      ],
      "id": "bdbe9ab4"
    },
    {
      "cell_type": "code",
      "execution_count": 4,
      "metadata": {
        "colab": {
          "base_uri": "https://localhost:8080/"
        },
        "id": "8c304cfb",
        "outputId": "1a81198a-4a6a-422a-fc2d-196212a8ed0a"
      },
      "outputs": [
        {
          "output_type": "stream",
          "name": "stdout",
          "text": [
            "(766, 8)\n"
          ]
        }
      ],
      "source": [
        "# function is used to find the shape of the Dataset\n",
        "def shapeDataset(df):\n",
        "    print(df.shape)\n",
        "shapeDataset(NNData)"
      ],
      "id": "8c304cfb"
    },
    {
      "cell_type": "code",
      "execution_count": 5,
      "metadata": {
        "colab": {
          "base_uri": "https://localhost:8080/"
        },
        "id": "ce3d034d",
        "outputId": "a38cc9f0-a4cb-4196-c33e-09538b527b62"
      },
      "outputs": [
        {
          "output_type": "stream",
          "name": "stdout",
          "text": [
            "Index(['f1', 'f2', 'f3', 'f4', 'f5', 'f6', 'f7', 'target'], dtype='object')\n"
          ]
        }
      ],
      "source": [
        "# function is used to print all the Columns in the Dataset\n",
        "def columnNames(df):\n",
        "    print(df.columns)\n",
        "\n",
        "columnNames(NNData)"
      ],
      "id": "ce3d034d"
    },
    {
      "cell_type": "code",
      "execution_count": 6,
      "metadata": {
        "colab": {
          "base_uri": "https://localhost:8080/"
        },
        "id": "afec52c8",
        "outputId": "4d441c32-8247-4ce9-d5ca-67ded01d7788"
      },
      "outputs": [
        {
          "output_type": "stream",
          "name": "stdout",
          "text": [
            "f1        object\n",
            "f2        object\n",
            "f3         int64\n",
            "f4        object\n",
            "f5        object\n",
            "f6        object\n",
            "f7        object\n",
            "target     int64\n",
            "dtype: object\n"
          ]
        }
      ],
      "source": [
        "# function is used to print all datatypes of Columns in the Dataset\n",
        "def dataTypeInput(df):\n",
        "    print(df.dtypes)\n",
        "dataTypeInput(NNData)"
      ],
      "id": "afec52c8"
    },
    {
      "cell_type": "code",
      "execution_count": 7,
      "metadata": {
        "colab": {
          "base_uri": "https://localhost:8080/"
        },
        "id": "5e9ac8d3",
        "outputId": "105a49d1-94b1-4e06-daa7-d8861fa1bfca"
      },
      "outputs": [
        {
          "output_type": "stream",
          "name": "stdout",
          "text": [
            "<class 'pandas.core.frame.DataFrame'>\n",
            "RangeIndex: 766 entries, 0 to 765\n",
            "Data columns (total 8 columns):\n",
            " #   Column  Non-Null Count  Dtype \n",
            "---  ------  --------------  ----- \n",
            " 0   f1      766 non-null    object\n",
            " 1   f2      766 non-null    object\n",
            " 2   f3      766 non-null    int64 \n",
            " 3   f4      766 non-null    object\n",
            " 4   f5      766 non-null    object\n",
            " 5   f6      766 non-null    object\n",
            " 6   f7      766 non-null    object\n",
            " 7   target  766 non-null    int64 \n",
            "dtypes: int64(2), object(6)\n",
            "memory usage: 48.0+ KB\n",
            "None\n"
          ]
        }
      ],
      "source": [
        "# function is used to get more info about the datatypes \n",
        "def moreInfo(df):\n",
        "    print(df.info())\n",
        "moreInfo(NNData)"
      ],
      "id": "5e9ac8d3"
    },
    {
      "cell_type": "code",
      "execution_count": 8,
      "metadata": {
        "colab": {
          "base_uri": "https://localhost:8080/",
          "height": 297
        },
        "id": "21a739e4",
        "outputId": "d5245278-9cd7-4414-d06b-79e3ba1b6f62",
        "scrolled": true
      },
      "outputs": [
        {
          "output_type": "execute_result",
          "data": {
            "text/plain": [
              "               f3      target\n",
              "count  766.000000  766.000000\n",
              "mean    69.118799    0.349869\n",
              "std     19.376901    0.477240\n",
              "min      0.000000    0.000000\n",
              "25%     62.500000    0.000000\n",
              "50%     72.000000    0.000000\n",
              "75%     80.000000    1.000000\n",
              "max    122.000000    1.000000"
            ],
            "text/html": [
              "\n",
              "  <div id=\"df-43bf52ff-8d7d-4848-88ff-f3e275377e8c\">\n",
              "    <div class=\"colab-df-container\">\n",
              "      <div>\n",
              "<style scoped>\n",
              "    .dataframe tbody tr th:only-of-type {\n",
              "        vertical-align: middle;\n",
              "    }\n",
              "\n",
              "    .dataframe tbody tr th {\n",
              "        vertical-align: top;\n",
              "    }\n",
              "\n",
              "    .dataframe thead th {\n",
              "        text-align: right;\n",
              "    }\n",
              "</style>\n",
              "<table border=\"1\" class=\"dataframe\">\n",
              "  <thead>\n",
              "    <tr style=\"text-align: right;\">\n",
              "      <th></th>\n",
              "      <th>f3</th>\n",
              "      <th>target</th>\n",
              "    </tr>\n",
              "  </thead>\n",
              "  <tbody>\n",
              "    <tr>\n",
              "      <th>count</th>\n",
              "      <td>766.000000</td>\n",
              "      <td>766.000000</td>\n",
              "    </tr>\n",
              "    <tr>\n",
              "      <th>mean</th>\n",
              "      <td>69.118799</td>\n",
              "      <td>0.349869</td>\n",
              "    </tr>\n",
              "    <tr>\n",
              "      <th>std</th>\n",
              "      <td>19.376901</td>\n",
              "      <td>0.477240</td>\n",
              "    </tr>\n",
              "    <tr>\n",
              "      <th>min</th>\n",
              "      <td>0.000000</td>\n",
              "      <td>0.000000</td>\n",
              "    </tr>\n",
              "    <tr>\n",
              "      <th>25%</th>\n",
              "      <td>62.500000</td>\n",
              "      <td>0.000000</td>\n",
              "    </tr>\n",
              "    <tr>\n",
              "      <th>50%</th>\n",
              "      <td>72.000000</td>\n",
              "      <td>0.000000</td>\n",
              "    </tr>\n",
              "    <tr>\n",
              "      <th>75%</th>\n",
              "      <td>80.000000</td>\n",
              "      <td>1.000000</td>\n",
              "    </tr>\n",
              "    <tr>\n",
              "      <th>max</th>\n",
              "      <td>122.000000</td>\n",
              "      <td>1.000000</td>\n",
              "    </tr>\n",
              "  </tbody>\n",
              "</table>\n",
              "</div>\n",
              "      <button class=\"colab-df-convert\" onclick=\"convertToInteractive('df-43bf52ff-8d7d-4848-88ff-f3e275377e8c')\"\n",
              "              title=\"Convert this dataframe to an interactive table.\"\n",
              "              style=\"display:none;\">\n",
              "        \n",
              "  <svg xmlns=\"http://www.w3.org/2000/svg\" height=\"24px\"viewBox=\"0 0 24 24\"\n",
              "       width=\"24px\">\n",
              "    <path d=\"M0 0h24v24H0V0z\" fill=\"none\"/>\n",
              "    <path d=\"M18.56 5.44l.94 2.06.94-2.06 2.06-.94-2.06-.94-.94-2.06-.94 2.06-2.06.94zm-11 1L8.5 8.5l.94-2.06 2.06-.94-2.06-.94L8.5 2.5l-.94 2.06-2.06.94zm10 10l.94 2.06.94-2.06 2.06-.94-2.06-.94-.94-2.06-.94 2.06-2.06.94z\"/><path d=\"M17.41 7.96l-1.37-1.37c-.4-.4-.92-.59-1.43-.59-.52 0-1.04.2-1.43.59L10.3 9.45l-7.72 7.72c-.78.78-.78 2.05 0 2.83L4 21.41c.39.39.9.59 1.41.59.51 0 1.02-.2 1.41-.59l7.78-7.78 2.81-2.81c.8-.78.8-2.07 0-2.86zM5.41 20L4 18.59l7.72-7.72 1.47 1.35L5.41 20z\"/>\n",
              "  </svg>\n",
              "      </button>\n",
              "      \n",
              "  <style>\n",
              "    .colab-df-container {\n",
              "      display:flex;\n",
              "      flex-wrap:wrap;\n",
              "      gap: 12px;\n",
              "    }\n",
              "\n",
              "    .colab-df-convert {\n",
              "      background-color: #E8F0FE;\n",
              "      border: none;\n",
              "      border-radius: 50%;\n",
              "      cursor: pointer;\n",
              "      display: none;\n",
              "      fill: #1967D2;\n",
              "      height: 32px;\n",
              "      padding: 0 0 0 0;\n",
              "      width: 32px;\n",
              "    }\n",
              "\n",
              "    .colab-df-convert:hover {\n",
              "      background-color: #E2EBFA;\n",
              "      box-shadow: 0px 1px 2px rgba(60, 64, 67, 0.3), 0px 1px 3px 1px rgba(60, 64, 67, 0.15);\n",
              "      fill: #174EA6;\n",
              "    }\n",
              "\n",
              "    [theme=dark] .colab-df-convert {\n",
              "      background-color: #3B4455;\n",
              "      fill: #D2E3FC;\n",
              "    }\n",
              "\n",
              "    [theme=dark] .colab-df-convert:hover {\n",
              "      background-color: #434B5C;\n",
              "      box-shadow: 0px 1px 3px 1px rgba(0, 0, 0, 0.15);\n",
              "      filter: drop-shadow(0px 1px 2px rgba(0, 0, 0, 0.3));\n",
              "      fill: #FFFFFF;\n",
              "    }\n",
              "  </style>\n",
              "\n",
              "      <script>\n",
              "        const buttonEl =\n",
              "          document.querySelector('#df-43bf52ff-8d7d-4848-88ff-f3e275377e8c button.colab-df-convert');\n",
              "        buttonEl.style.display =\n",
              "          google.colab.kernel.accessAllowed ? 'block' : 'none';\n",
              "\n",
              "        async function convertToInteractive(key) {\n",
              "          const element = document.querySelector('#df-43bf52ff-8d7d-4848-88ff-f3e275377e8c');\n",
              "          const dataTable =\n",
              "            await google.colab.kernel.invokeFunction('convertToInteractive',\n",
              "                                                     [key], {});\n",
              "          if (!dataTable) return;\n",
              "\n",
              "          const docLinkHtml = 'Like what you see? Visit the ' +\n",
              "            '<a target=\"_blank\" href=https://colab.research.google.com/notebooks/data_table.ipynb>data table notebook</a>'\n",
              "            + ' to learn more about interactive tables.';\n",
              "          element.innerHTML = '';\n",
              "          dataTable['output_type'] = 'display_data';\n",
              "          await google.colab.output.renderOutput(dataTable, element);\n",
              "          const docLink = document.createElement('div');\n",
              "          docLink.innerHTML = docLinkHtml;\n",
              "          element.appendChild(docLink);\n",
              "        }\n",
              "      </script>\n",
              "    </div>\n",
              "  </div>\n",
              "  "
            ]
          },
          "metadata": {},
          "execution_count": 8
        }
      ],
      "source": [
        "# function is used to get Descriptive statistics\n",
        "def describeStats(df):\n",
        "    return df.describe()\n",
        "\n",
        "describeStats(NNData)"
      ],
      "id": "21a739e4"
    },
    {
      "cell_type": "code",
      "execution_count": 9,
      "metadata": {
        "colab": {
          "base_uri": "https://localhost:8080/"
        },
        "id": "691f84f9",
        "outputId": "2551e7f2-72cb-4548-96e3-f36388bf8c01"
      },
      "outputs": [
        {
          "output_type": "execute_result",
          "data": {
            "text/plain": [
              "f1        0\n",
              "f2        0\n",
              "f3        0\n",
              "f4        0\n",
              "f5        0\n",
              "f6        0\n",
              "f7        0\n",
              "target    0\n",
              "dtype: int64"
            ]
          },
          "metadata": {},
          "execution_count": 9
        }
      ],
      "source": [
        "# function is used to check the null values in datasets\n",
        "def checkNullSum(df):\n",
        "    return df.isnull().sum(axis=0)\n",
        "\n",
        "checkNullSum(NNData)"
      ],
      "id": "691f84f9"
    },
    {
      "cell_type": "code",
      "execution_count": 10,
      "metadata": {
        "id": "9ab70f2a"
      },
      "outputs": [],
      "source": [
        "# function is used to remove the imbalanced data from dataset\n",
        "def removeImbalancedData(df):\n",
        "    delete_row1 = df[df[\"f1\"]=='c'].index\n",
        "    delete_row2 = df[df[\"f2\"]=='f'].index\n",
        "    delete_row3 = df[df[\"f4\"]=='a'].index\n",
        "    delete_row4 = df[df[\"f5\"]=='b'].index\n",
        "    delete_row5 = df[df[\"f6\"]=='d'].index\n",
        "    delete_row6 = df[df[\"f7\"]=='e'].index\n",
        "    df = df.drop(delete_row1)\n",
        "    df = df.drop(delete_row2)\n",
        "    df = df.drop(delete_row3)\n",
        "    df = df.drop(delete_row4)\n",
        "    df = df.drop(delete_row5)\n",
        "    df = df.drop(delete_row6)\n",
        "    \n",
        "    return df\n",
        "NNData=removeImbalancedData(NNData)"
      ],
      "id": "9ab70f2a"
    },
    {
      "cell_type": "code",
      "execution_count": 11,
      "metadata": {
        "id": "3ad3c4c3"
      },
      "outputs": [],
      "source": [
        "# function is used to convert the data from objects to integers.\n",
        "def convertType(df):\n",
        "    list_col = df.dtypes[df.dtypes == \"object\"].index\n",
        "    df[list_col] = df[list_col].apply(pd.to_numeric, errors='coerce')\n",
        "convertType(NNData)"
      ],
      "id": "3ad3c4c3"
    },
    {
      "cell_type": "markdown",
      "metadata": {
        "id": "45d19242"
      },
      "source": [
        "# Visualization:1"
      ],
      "id": "45d19242"
    },
    {
      "cell_type": "code",
      "execution_count": 12,
      "metadata": {
        "colab": {
          "base_uri": "https://localhost:8080/",
          "height": 452
        },
        "id": "91256253",
        "outputId": "3a79b023-e34d-4ae3-976c-237f0013b87a"
      },
      "outputs": [
        {
          "output_type": "display_data",
          "data": {
            "text/plain": [
              "<Figure size 640x480 with 2 Axes>"
            ],
            "image/png": "[encoded data removed]"
          },
          "metadata": {}
        }
      ],
      "source": [
        "# function is used to print correlation between the variables using heatmap (in  seaborn library )\n",
        "def correlation(df):\n",
        "    sns.heatmap(df.corr(),annot=True).set(title=\"Correlation Heatmap\")\n",
        "    plt.show()\n",
        "correlation(NNData)"
      ],
      "id": "91256253"
    },
    {
      "cell_type": "code",
      "execution_count": 13,
      "metadata": {
        "colab": {
          "base_uri": "https://localhost:8080/",
          "height": 297
        },
        "id": "59a5053d",
        "outputId": "44ecb07b-d5bf-4e7c-9535-e10f8dbdcd49"
      },
      "outputs": [
        {
          "output_type": "execute_result",
          "data": {
            "text/plain": [
              "              f1        f2        f3        f4        f5        f6        f7  \\\n",
              "f1      1.000000  0.129712  0.140772 -0.085733 -0.076051  0.016894 -0.029486   \n",
              "f2      0.129712  1.000000  0.151915  0.057686  0.333169  0.217232  0.137290   \n",
              "f3      0.140772  0.151915  1.000000  0.206237  0.087869  0.281387  0.042023   \n",
              "f4     -0.085733  0.057686  0.206237  1.000000  0.437391  0.391973  0.185557   \n",
              "f5     -0.076051  0.333169  0.087869  0.437391  1.000000  0.199214  0.185638   \n",
              "f6      0.016894  0.217232  0.281387  0.391973  0.199214  1.000000  0.140369   \n",
              "f7     -0.029486  0.137290  0.042023  0.185557  0.185638  0.140369  1.000000   \n",
              "target  0.224872  0.464028  0.065462  0.078517  0.132497  0.290889  0.173610   \n",
              "\n",
              "          target  \n",
              "f1      0.224872  \n",
              "f2      0.464028  \n",
              "f3      0.065462  \n",
              "f4      0.078517  \n",
              "f5      0.132497  \n",
              "f6      0.290889  \n",
              "f7      0.173610  \n",
              "target  1.000000  "
            ],
            "text/html": [
              "\n",
              "  <div id=\"df-d3469f99-853e-41f2-aaf2-2892d3fcbdc1\">\n",
              "    <div class=\"colab-df-container\">\n",
              "      <div>\n",
              "<style scoped>\n",
              "    .dataframe tbody tr th:only-of-type {\n",
              "        vertical-align: middle;\n",
              "    }\n",
              "\n",
              "    .dataframe tbody tr th {\n",
              "        vertical-align: top;\n",
              "    }\n",
              "\n",
              "    .dataframe thead th {\n",
              "        text-align: right;\n",
              "    }\n",
              "</style>\n",
              "<table border=\"1\" class=\"dataframe\">\n",
              "  <thead>\n",
              "    <tr style=\"text-align: right;\">\n",
              "      <th></th>\n",
              "      <th>f1</th>\n",
              "      <th>f2</th>\n",
              "      <th>f3</th>\n",
              "      <th>f4</th>\n",
              "      <th>f5</th>\n",
              "      <th>f6</th>\n",
              "      <th>f7</th>\n",
              "      <th>target</th>\n",
              "    </tr>\n",
              "  </thead>\n",
              "  <tbody>\n",
              "    <tr>\n",
              "      <th>f1</th>\n",
              "      <td>1.000000</td>\n",
              "      <td>0.129712</td>\n",
              "      <td>0.140772</td>\n",
              "      <td>-0.085733</td>\n",
              "      <td>-0.076051</td>\n",
              "      <td>0.016894</td>\n",
              "      <td>-0.029486</td>\n",
              "      <td>0.224872</td>\n",
              "    </tr>\n",
              "    <tr>\n",
              "      <th>f2</th>\n",
              "      <td>0.129712</td>\n",
              "      <td>1.000000</td>\n",
              "      <td>0.151915</td>\n",
              "      <td>0.057686</td>\n",
              "      <td>0.333169</td>\n",
              "      <td>0.217232</td>\n",
              "      <td>0.137290</td>\n",
              "      <td>0.464028</td>\n",
              "    </tr>\n",
              "    <tr>\n",
              "      <th>f3</th>\n",
              "      <td>0.140772</td>\n",
              "      <td>0.151915</td>\n",
              "      <td>1.000000</td>\n",
              "      <td>0.206237</td>\n",
              "      <td>0.087869</td>\n",
              "      <td>0.281387</td>\n",
              "      <td>0.042023</td>\n",
              "      <td>0.065462</td>\n",
              "    </tr>\n",
              "    <tr>\n",
              "      <th>f4</th>\n",
              "      <td>-0.085733</td>\n",
              "      <td>0.057686</td>\n",
              "      <td>0.206237</td>\n",
              "      <td>1.000000</td>\n",
              "      <td>0.437391</td>\n",
              "      <td>0.391973</td>\n",
              "      <td>0.185557</td>\n",
              "      <td>0.078517</td>\n",
              "    </tr>\n",
              "    <tr>\n",
              "      <th>f5</th>\n",
              "      <td>-0.076051</td>\n",
              "      <td>0.333169</td>\n",
              "      <td>0.087869</td>\n",
              "      <td>0.437391</td>\n",
              "      <td>1.000000</td>\n",
              "      <td>0.199214</td>\n",
              "      <td>0.185638</td>\n",
              "      <td>0.132497</td>\n",
              "    </tr>\n",
              "    <tr>\n",
              "      <th>f6</th>\n",
              "      <td>0.016894</td>\n",
              "      <td>0.217232</td>\n",
              "      <td>0.281387</td>\n",
              "      <td>0.391973</td>\n",
              "      <td>0.199214</td>\n",
              "      <td>1.000000</td>\n",
              "      <td>0.140369</td>\n",
              "      <td>0.290889</td>\n",
              "    </tr>\n",
              "    <tr>\n",
              "      <th>f7</th>\n",
              "      <td>-0.029486</td>\n",
              "      <td>0.137290</td>\n",
              "      <td>0.042023</td>\n",
              "      <td>0.185557</td>\n",
              "      <td>0.185638</td>\n",
              "      <td>0.140369</td>\n",
              "      <td>1.000000</td>\n",
              "      <td>0.173610</td>\n",
              "    </tr>\n",
              "    <tr>\n",
              "      <th>target</th>\n",
              "      <td>0.224872</td>\n",
              "      <td>0.464028</td>\n",
              "      <td>0.065462</td>\n",
              "      <td>0.078517</td>\n",
              "      <td>0.132497</td>\n",
              "      <td>0.290889</td>\n",
              "      <td>0.173610</td>\n",
              "      <td>1.000000</td>\n",
              "    </tr>\n",
              "  </tbody>\n",
              "</table>\n",
              "</div>\n",
              "      <button class=\"colab-df-convert\" onclick=\"convertToInteractive('df-d3469f99-853e-41f2-aaf2-2892d3fcbdc1')\"\n",
              "              title=\"Convert this dataframe to an interactive table.\"\n",
              "              style=\"display:none;\">\n",
              "        \n",
              "  <svg xmlns=\"http://www.w3.org/2000/svg\" height=\"24px\"viewBox=\"0 0 24 24\"\n",
              "       width=\"24px\">\n",
              "    <path d=\"M0 0h24v24H0V0z\" fill=\"none\"/>\n",
              "    <path d=\"M18.56 5.44l.94 2.06.94-2.06 2.06-.94-2.06-.94-.94-2.06-.94 2.06-2.06.94zm-11 1L8.5 8.5l.94-2.06 2.06-.94-2.06-.94L8.5 2.5l-.94 2.06-2.06.94zm10 10l.94 2.06.94-2.06 2.06-.94-2.06-.94-.94-2.06-.94 2.06-2.06.94z\"/><path d=\"M17.41 7.96l-1.37-1.37c-.4-.4-.92-.59-1.43-.59-.52 0-1.04.2-1.43.59L10.3 9.45l-7.72 7.72c-.78.78-.78 2.05 0 2.83L4 21.41c.39.39.9.59 1.41.59.51 0 1.02-.2 1.41-.59l7.78-7.78 2.81-2.81c.8-.78.8-2.07 0-2.86zM5.41 20L4 18.59l7.72-7.72 1.47 1.35L5.41 20z\"/>\n",
              "  </svg>\n",
              "      </button>\n",
              "      \n",
              "  <style>\n",
              "    .colab-df-container {\n",
              "      display:flex;\n",
              "      flex-wrap:wrap;\n",
              "      gap: 12px;\n",
              "    }\n",
              "\n",
              "    .colab-df-convert {\n",
              "      background-color: #E8F0FE;\n",
              "      border: none;\n",
              "      border-radius: 50%;\n",
              "      cursor: pointer;\n",
              "      display: none;\n",
              "      fill: #1967D2;\n",
              "      height: 32px;\n",
              "      padding: 0 0 0 0;\n",
              "      width: 32px;\n",
              "    }\n",
              "\n",
              "    .colab-df-convert:hover {\n",
              "      background-color: #E2EBFA;\n",
              "      box-shadow: 0px 1px 2px rgba(60, 64, 67, 0.3), 0px 1px 3px 1px rgba(60, 64, 67, 0.15);\n",
              "      fill: #174EA6;\n",
              "    }\n",
              "\n",
              "    [theme=dark] .colab-df-convert {\n",
              "      background-color: #3B4455;\n",
              "      fill: #D2E3FC;\n",
              "    }\n",
              "\n",
              "    [theme=dark] .colab-df-convert:hover {\n",
              "      background-color: #434B5C;\n",
              "      box-shadow: 0px 1px 3px 1px rgba(0, 0, 0, 0.15);\n",
              "      filter: drop-shadow(0px 1px 2px rgba(0, 0, 0, 0.3));\n",
              "      fill: #FFFFFF;\n",
              "    }\n",
              "  </style>\n",
              "\n",
              "      <script>\n",
              "        const buttonEl =\n",
              "          document.querySelector('#df-d3469f99-853e-41f2-aaf2-2892d3fcbdc1 button.colab-df-convert');\n",
              "        buttonEl.style.display =\n",
              "          google.colab.kernel.accessAllowed ? 'block' : 'none';\n",
              "\n",
              "        async function convertToInteractive(key) {\n",
              "          const element = document.querySelector('#df-d3469f99-853e-41f2-aaf2-2892d3fcbdc1');\n",
              "          const dataTable =\n",
              "            await google.colab.kernel.invokeFunction('convertToInteractive',\n",
              "                                                     [key], {});\n",
              "          if (!dataTable) return;\n",
              "\n",
              "          const docLinkHtml = 'Like what you see? Visit the ' +\n",
              "            '<a target=\"_blank\" href=https://colab.research.google.com/notebooks/data_table.ipynb>data table notebook</a>'\n",
              "            + ' to learn more about interactive tables.';\n",
              "          element.innerHTML = '';\n",
              "          dataTable['output_type'] = 'display_data';\n",
              "          await google.colab.output.renderOutput(dataTable, element);\n",
              "          const docLink = document.createElement('div');\n",
              "          docLink.innerHTML = docLinkHtml;\n",
              "          element.appendChild(docLink);\n",
              "        }\n",
              "      </script>\n",
              "    </div>\n",
              "  </div>\n",
              "  "
            ]
          },
          "metadata": {},
          "execution_count": 13
        }
      ],
      "source": [
        "# function is used to print correlation martix.\n",
        "def corMat(df):\n",
        "    return df.corr()\n",
        "corMat(NNData)"
      ],
      "id": "59a5053d"
    },
    {
      "cell_type": "code",
      "execution_count": 14,
      "metadata": {
        "id": "HcAZCwdOr-s6"
      },
      "outputs": [],
      "source": [
        "# Inferances:\n",
        "# From correlation Matrix we can determine that features f1,f2,f5,f6 are important features"
      ],
      "id": "HcAZCwdOr-s6"
    },
    {
      "cell_type": "markdown",
      "metadata": {
        "id": "6f538c7a"
      },
      "source": [
        "\n",
        "\n",
        "# Visualization:2"
      ],
      "id": "6f538c7a"
    },
    {
      "cell_type": "code",
      "execution_count": 15,
      "metadata": {
        "colab": {
          "base_uri": "https://localhost:8080/",
          "height": 452
        },
        "id": "0af828c4",
        "outputId": "a5ae7a79-48ba-4470-d525-2667a6f2c5de"
      },
      "outputs": [
        {
          "output_type": "display_data",
          "data": {
            "text/plain": [
              "<Figure size 640x480 with 1 Axes>"
            ],
            "image/png": "[encoded data removed]"
          },
          "metadata": {}
        }
      ],
      "source": [
        "# function is used print histogram for the continous features[f1 to f7].\n",
        "def hist(df,variable):\n",
        "    figure=df[variable].hist(bins=50)\n",
        "    figure.set_title(variable)\n",
        "    \n",
        "hist(NNData,\"f1\")"
      ],
      "id": "0af828c4"
    },
    {
      "cell_type": "code",
      "execution_count": 16,
      "metadata": {
        "colab": {
          "base_uri": "https://localhost:8080/",
          "height": 452
        },
        "id": "566ba6f1",
        "outputId": "6a6b04d7-f670-4516-bd0e-54ab990bc6ea"
      },
      "outputs": [
        {
          "output_type": "display_data",
          "data": {
            "text/plain": [
              "<Figure size 640x480 with 1 Axes>"
            ],
            "image/png": "[encoded data removed]"
          },
          "metadata": {}
        }
      ],
      "source": [
        "hist(NNData,\"f2\")"
      ],
      "id": "566ba6f1"
    },
    {
      "cell_type": "code",
      "execution_count": 17,
      "metadata": {
        "colab": {
          "base_uri": "https://localhost:8080/",
          "height": 452
        },
        "id": "a58c0fd8",
        "outputId": "1e8ef3b2-a7da-46d1-c80e-d1bc5b3aa3e1"
      },
      "outputs": [
        {
          "output_type": "display_data",
          "data": {
            "text/plain": [
              "<Figure size 640x480 with 1 Axes>"
            ],
            "image/png": "[encoded data removed]"
          },
          "metadata": {}
        }
      ],
      "source": [
        "hist(NNData,\"f3\")"
      ],
      "id": "a58c0fd8"
    },
    {
      "cell_type": "code",
      "execution_count": 18,
      "metadata": {
        "colab": {
          "base_uri": "https://localhost:8080/",
          "height": 452
        },
        "id": "0a71f616",
        "outputId": "acb00da2-a2fb-4d8d-9afe-648893e1e183"
      },
      "outputs": [
        {
          "output_type": "display_data",
          "data": {
            "text/plain": [
              "<Figure size 640x480 with 1 Axes>"
            ],
            "image/png": "[encoded data removed]"
          },
          "metadata": {}
        }
      ],
      "source": [
        "hist(NNData,\"f4\")"
      ],
      "id": "0a71f616"
    },
    {
      "cell_type": "code",
      "execution_count": 19,
      "metadata": {
        "colab": {
          "base_uri": "https://localhost:8080/",
          "height": 452
        },
        "id": "794537b2",
        "outputId": "dee3d142-896c-46db-e995-50a038997a4a"
      },
      "outputs": [
        {
          "output_type": "display_data",
          "data": {
            "text/plain": [
              "<Figure size 640x480 with 1 Axes>"
            ],
            "image/png": "[encoded data removed]"
          },
          "metadata": {}
        }
      ],
      "source": [
        "hist(NNData,\"f5\")"
      ],
      "id": "794537b2"
    },
    {
      "cell_type": "code",
      "execution_count": 20,
      "metadata": {
        "colab": {
          "base_uri": "https://localhost:8080/",
          "height": 452
        },
        "id": "61c6a7c9",
        "outputId": "e058497a-19cf-460d-cd41-7a38c6b871a4"
      },
      "outputs": [
        {
          "output_type": "display_data",
          "data": {
            "text/plain": [
              "<Figure size 640x480 with 1 Axes>"
            ],
            "image/png": "[encoded data removed]"
          },
          "metadata": {}
        }
      ],
      "source": [
        "hist(NNData,\"f6\")"
      ],
      "id": "61c6a7c9"
    },
    {
      "cell_type": "code",
      "execution_count": 21,
      "metadata": {
        "colab": {
          "base_uri": "https://localhost:8080/",
          "height": 452
        },
        "id": "73647e82",
        "outputId": "7302e117-cda5-4cd8-dde9-2e154ad7384a"
      },
      "outputs": [
        {
          "output_type": "display_data",
          "data": {
            "text/plain": [
              "<Figure size 640x480 with 1 Axes>"
            ],
            "image/png": "[encoded data removed]"
          },
          "metadata": {}
        }
      ],
      "source": [
        "hist(NNData,\"f7\")"
      ],
      "id": "73647e82"
    },
    {
      "cell_type": "code",
      "execution_count": 22,
      "metadata": {
        "colab": {
          "base_uri": "https://localhost:8080/",
          "height": 506
        },
        "id": "591a7041",
        "outputId": "575ea92e-c90a-436e-a21b-8b4cc74af5b4"
      },
      "outputs": [
        {
          "output_type": "display_data",
          "data": {
            "text/plain": [
              "<Figure size 500x500 with 1 Axes>"
            ],
            "image/png": "[encoded data removed]"
          },
          "metadata": {}
        }
      ],
      "source": [
        "# function is print distplot for the features[f1 to f7].\n",
        "\n",
        "def displot(df,variable):\n",
        "    sns.displot(df[variable])\n",
        "\n",
        "displot(NNData,\"f1\")"
      ],
      "id": "591a7041"
    },
    {
      "cell_type": "code",
      "execution_count": 23,
      "metadata": {
        "colab": {
          "base_uri": "https://localhost:8080/",
          "height": 506
        },
        "id": "c7d6df61",
        "outputId": "fe833b29-9372-4483-d4ac-5dfed43b6f5c"
      },
      "outputs": [
        {
          "output_type": "display_data",
          "data": {
            "text/plain": [
              "<Figure size 500x500 with 1 Axes>"
            ],
            "image/png": "[encoded data removed]"
          },
          "metadata": {}
        }
      ],
      "source": [
        "displot(NNData,\"f2\")"
      ],
      "id": "c7d6df61"
    },
    {
      "cell_type": "code",
      "execution_count": 24,
      "metadata": {
        "colab": {
          "base_uri": "https://localhost:8080/",
          "height": 506
        },
        "id": "7afa4bec",
        "outputId": "18c9e017-d674-4ec5-ed1d-1c7bf310cde3"
      },
      "outputs": [
        {
          "output_type": "display_data",
          "data": {
            "text/plain": [
              "<Figure size 500x500 with 1 Axes>"
            ],
            "image/png": "[encoded data removed]"
          },
          "metadata": {}
        }
      ],
      "source": [
        "displot(NNData,\"f3\")"
      ],
      "id": "7afa4bec"
    },
    {
      "cell_type": "code",
      "execution_count": 25,
      "metadata": {
        "colab": {
          "base_uri": "https://localhost:8080/",
          "height": 506
        },
        "id": "f43e9c68",
        "outputId": "c21c455f-c323-4b7e-b203-584e42e88305"
      },
      "outputs": [
        {
          "output_type": "display_data",
          "data": {
            "text/plain": [
              "<Figure size 500x500 with 1 Axes>"
            ],
            "image/png": "[encoded data removed]"
          },
          "metadata": {}
        }
      ],
      "source": [
        "displot(NNData,\"f4\")"
      ],
      "id": "f43e9c68"
    },
    {
      "cell_type": "code",
      "execution_count": 26,
      "metadata": {
        "colab": {
          "base_uri": "https://localhost:8080/",
          "height": 506
        },
        "id": "86cfb6ef",
        "outputId": "f8251eff-515d-409f-c9cf-b755bfa015e4"
      },
      "outputs": [
        {
          "output_type": "display_data",
          "data": {
            "text/plain": [
              "<Figure size 500x500 with 1 Axes>"
            ],
            "image/png": "[encoded data removed]"
          },
          "metadata": {}
        }
      ],
      "source": [
        "displot(NNData,\"f5\")"
      ],
      "id": "86cfb6ef"
    },
    {
      "cell_type": "code",
      "execution_count": 27,
      "metadata": {
        "colab": {
          "base_uri": "https://localhost:8080/",
          "height": 506
        },
        "id": "b2eeee35",
        "outputId": "9c8e5371-0ba6-4d43-9c08-0e05332b3f1a"
      },
      "outputs": [
        {
          "output_type": "display_data",
          "data": {
            "text/plain": [
              "<Figure size 500x500 with 1 Axes>"
            ],
            "image/png": "[encoded data removed]"
          },
          "metadata": {}
        }
      ],
      "source": [
        "displot(NNData,\"f6\")"
      ],
      "id": "b2eeee35"
    },
    {
      "cell_type": "code",
      "execution_count": 28,
      "metadata": {
        "colab": {
          "base_uri": "https://localhost:8080/",
          "height": 506
        },
        "id": "fb5deea8",
        "outputId": "f84612f5-3836-44df-8c99-cb2be5ba2098"
      },
      "outputs": [
        {
          "output_type": "display_data",
          "data": {
            "text/plain": [
              "<Figure size 500x500 with 1 Axes>"
            ],
            "image/png": "[encoded data removed]"
          },
          "metadata": {}
        }
      ],
      "source": [
        "displot(NNData,\"f7\")"
      ],
      "id": "fb5deea8"
    },
    {
      "cell_type": "code",
      "execution_count": 29,
      "metadata": {
        "id": "X-Bx_---vIt3"
      },
      "outputs": [],
      "source": [
        "# Inferences:\n",
        "# From the above graphs we can infer that f1,f4,f5,f7 are having positive Skewness."
      ],
      "id": "X-Bx_---vIt3"
    },
    {
      "cell_type": "code",
      "execution_count": 30,
      "metadata": {
        "id": "ipyTwV_g51SD"
      },
      "outputs": [],
      "source": [
        "# Visualization-3"
      ],
      "id": "ipyTwV_g51SD"
    },
    {
      "cell_type": "code",
      "execution_count": 31,
      "metadata": {
        "colab": {
          "base_uri": "https://localhost:8080/",
          "height": 430
        },
        "id": "0bc67452",
        "outputId": "b6b2747f-2c82-4000-94a9-ca76d35eb51e"
      },
      "outputs": [
        {
          "output_type": "display_data",
          "data": {
            "text/plain": [
              "<Figure size 640x480 with 1 Axes>"
            ],
            "image/png": "[encoded data removed]"
          },
          "metadata": {}
        }
      ],
      "source": [
        "# function is used to print boxplot \n",
        "def boxplot(df,variable):\n",
        "    figure=df.boxplot(column=variable)\n",
        "boxplot(NNData,\"f1\")"
      ],
      "id": "0bc67452"
    },
    {
      "cell_type": "code",
      "execution_count": 32,
      "metadata": {
        "colab": {
          "base_uri": "https://localhost:8080/",
          "height": 430
        },
        "id": "548f24cc",
        "outputId": "d0cca398-71e1-4446-f10b-4045c4c00269"
      },
      "outputs": [
        {
          "output_type": "display_data",
          "data": {
            "text/plain": [
              "<Figure size 640x480 with 1 Axes>"
            ],
            "image/png": "[encoded data removed]"
          },
          "metadata": {}
        }
      ],
      "source": [
        "boxplot(NNData,\"f2\")"
      ],
      "id": "548f24cc"
    },
    {
      "cell_type": "code",
      "execution_count": 33,
      "metadata": {
        "colab": {
          "base_uri": "https://localhost:8080/",
          "height": 430
        },
        "id": "44bb92c7",
        "outputId": "550b50c2-73ff-4421-9703-9fda231cdff7"
      },
      "outputs": [
        {
          "output_type": "display_data",
          "data": {
            "text/plain": [
              "<Figure size 640x480 with 1 Axes>"
            ],
            "image/png": "[encoded data removed]"
          },
          "metadata": {}
        }
      ],
      "source": [
        "boxplot(NNData,\"f3\")"
      ],
      "id": "44bb92c7"
    },
    {
      "cell_type": "code",
      "execution_count": 34,
      "metadata": {
        "colab": {
          "base_uri": "https://localhost:8080/",
          "height": 430
        },
        "id": "27b45ffa",
        "outputId": "e2784d10-4441-4366-9876-1638bac02956"
      },
      "outputs": [
        {
          "output_type": "display_data",
          "data": {
            "text/plain": [
              "<Figure size 640x480 with 1 Axes>"
            ],
            "image/png": "[encoded data removed]"
          },
          "metadata": {}
        }
      ],
      "source": [
        "boxplot(NNData,\"f4\")"
      ],
      "id": "27b45ffa"
    },
    {
      "cell_type": "code",
      "execution_count": 35,
      "metadata": {
        "colab": {
          "base_uri": "https://localhost:8080/",
          "height": 430
        },
        "id": "76b89fe9",
        "outputId": "cf984c34-29a5-47fc-8679-80539b40293f"
      },
      "outputs": [
        {
          "output_type": "display_data",
          "data": {
            "text/plain": [
              "<Figure size 640x480 with 1 Axes>"
            ],
            "image/png": "[encoded data removed]"
          },
          "metadata": {}
        }
      ],
      "source": [
        "boxplot(NNData,\"f5\")"
      ],
      "id": "76b89fe9"
    },
    {
      "cell_type": "code",
      "execution_count": 36,
      "metadata": {
        "colab": {
          "base_uri": "https://localhost:8080/",
          "height": 433
        },
        "id": "68a73c7c",
        "outputId": "72a5c6aa-a704-4b76-d30d-bc71f04275ea"
      },
      "outputs": [
        {
          "output_type": "display_data",
          "data": {
            "text/plain": [
              "<Figure size 640x480 with 1 Axes>"
            ],
            "image/png": "[encoded data removed]"
          },
          "metadata": {}
        }
      ],
      "source": [
        "boxplot(NNData,\"f6\")"
      ],
      "id": "68a73c7c"
    },
    {
      "cell_type": "code",
      "execution_count": 37,
      "metadata": {
        "colab": {
          "base_uri": "https://localhost:8080/",
          "height": 430
        },
        "id": "7742585f",
        "outputId": "7ac1048d-0e33-48f6-a6b8-92d8f2513d8e"
      },
      "outputs": [
        {
          "output_type": "display_data",
          "data": {
            "text/plain": [
              "<Figure size 640x480 with 1 Axes>"
            ],
            "image/png": "[encoded data removed]"
          },
          "metadata": {}
        }
      ],
      "source": [
        "boxplot(NNData,\"f7\")"
      ],
      "id": "7742585f"
    },
    {
      "cell_type": "code",
      "execution_count": 38,
      "metadata": {
        "id": "JuVRm1Piyo0-"
      },
      "outputs": [],
      "source": [
        "# Interfere:\n",
        "# from the graph it is evident that there are outliers in all the features."
      ],
      "id": "JuVRm1Piyo0-"
    },
    {
      "cell_type": "code",
      "execution_count": 39,
      "metadata": {
        "id": "9uz4n0jN7Vzd"
      },
      "outputs": [],
      "source": [
        "#Step 2: Preprocessing the Dataset"
      ],
      "id": "9uz4n0jN7Vzd"
    },
    {
      "cell_type": "code",
      "execution_count": 40,
      "metadata": {
        "id": "d6312b30"
      },
      "outputs": [],
      "source": [
        "# function is used to prepare the data.\n",
        "def prepareDataset(df):\n",
        "    X=df.iloc[:,:-1]\n",
        "    Y=df['target']\n",
        "    return X,Y\n",
        "X,Y = prepareDataset(NNData)"
      ],
      "id": "d6312b30"
    },
    {
      "cell_type": "code",
      "execution_count": 41,
      "metadata": {
        "colab": {
          "base_uri": "https://localhost:8080/",
          "height": 266
        },
        "id": "beee8fc9",
        "outputId": "f498515e-6868-463e-cf14-5fe6d947c20f"
      },
      "outputs": [
        {
          "output_type": "execute_result",
          "data": {
            "text/plain": [
              "  Features        Score\n",
              "0       f1   113.330583\n",
              "1       f2  1385.431629\n",
              "2       f3    17.794564\n",
              "3       f4    58.103767\n",
              "4       f5  2218.560921\n",
              "5       f6   125.253307\n",
              "6       f7     5.337072"
            ],
            "text/html": [
              "\n",
              "  <div id=\"df-f9d44857-2541-439e-a275-e3cce9417b14\">\n",
              "    <div class=\"colab-df-container\">\n",
              "      <div>\n",
              "<style scoped>\n",
              "    .dataframe tbody tr th:only-of-type {\n",
              "        vertical-align: middle;\n",
              "    }\n",
              "\n",
              "    .dataframe tbody tr th {\n",
              "        vertical-align: top;\n",
              "    }\n",
              "\n",
              "    .dataframe thead th {\n",
              "        text-align: right;\n",
              "    }\n",
              "</style>\n",
              "<table border=\"1\" class=\"dataframe\">\n",
              "  <thead>\n",
              "    <tr style=\"text-align: right;\">\n",
              "      <th></th>\n",
              "      <th>Features</th>\n",
              "      <th>Score</th>\n",
              "    </tr>\n",
              "  </thead>\n",
              "  <tbody>\n",
              "    <tr>\n",
              "      <th>0</th>\n",
              "      <td>f1</td>\n",
              "      <td>113.330583</td>\n",
              "    </tr>\n",
              "    <tr>\n",
              "      <th>1</th>\n",
              "      <td>f2</td>\n",
              "      <td>1385.431629</td>\n",
              "    </tr>\n",
              "    <tr>\n",
              "      <th>2</th>\n",
              "      <td>f3</td>\n",
              "      <td>17.794564</td>\n",
              "    </tr>\n",
              "    <tr>\n",
              "      <th>3</th>\n",
              "      <td>f4</td>\n",
              "      <td>58.103767</td>\n",
              "    </tr>\n",
              "    <tr>\n",
              "      <th>4</th>\n",
              "      <td>f5</td>\n",
              "      <td>2218.560921</td>\n",
              "    </tr>\n",
              "    <tr>\n",
              "      <th>5</th>\n",
              "      <td>f6</td>\n",
              "      <td>125.253307</td>\n",
              "    </tr>\n",
              "    <tr>\n",
              "      <th>6</th>\n",
              "      <td>f7</td>\n",
              "      <td>5.337072</td>\n",
              "    </tr>\n",
              "  </tbody>\n",
              "</table>\n",
              "</div>\n",
              "      <button class=\"colab-df-convert\" onclick=\"convertToInteractive('df-f9d44857-2541-439e-a275-e3cce9417b14')\"\n",
              "              title=\"Convert this dataframe to an interactive table.\"\n",
              "              style=\"display:none;\">\n",
              "        \n",
              "  <svg xmlns=\"http://www.w3.org/2000/svg\" height=\"24px\"viewBox=\"0 0 24 24\"\n",
              "       width=\"24px\">\n",
              "    <path d=\"M0 0h24v24H0V0z\" fill=\"none\"/>\n",
              "    <path d=\"M18.56 5.44l.94 2.06.94-2.06 2.06-.94-2.06-.94-.94-2.06-.94 2.06-2.06.94zm-11 1L8.5 8.5l.94-2.06 2.06-.94-2.06-.94L8.5 2.5l-.94 2.06-2.06.94zm10 10l.94 2.06.94-2.06 2.06-.94-2.06-.94-.94-2.06-.94 2.06-2.06.94z\"/><path d=\"M17.41 7.96l-1.37-1.37c-.4-.4-.92-.59-1.43-.59-.52 0-1.04.2-1.43.59L10.3 9.45l-7.72 7.72c-.78.78-.78 2.05 0 2.83L4 21.41c.39.39.9.59 1.41.59.51 0 1.02-.2 1.41-.59l7.78-7.78 2.81-2.81c.8-.78.8-2.07 0-2.86zM5.41 20L4 18.59l7.72-7.72 1.47 1.35L5.41 20z\"/>\n",
              "  </svg>\n",
              "      </button>\n",
              "      \n",
              "  <style>\n",
              "    .colab-df-container {\n",
              "      display:flex;\n",
              "      flex-wrap:wrap;\n",
              "      gap: 12px;\n",
              "    }\n",
              "\n",
              "    .colab-df-convert {\n",
              "      background-color: #E8F0FE;\n",
              "      border: none;\n",
              "      border-radius: 50%;\n",
              "      cursor: pointer;\n",
              "      display: none;\n",
              "      fill: #1967D2;\n",
              "      height: 32px;\n",
              "      padding: 0 0 0 0;\n",
              "      width: 32px;\n",
              "    }\n",
              "\n",
              "    .colab-df-convert:hover {\n",
              "      background-color: #E2EBFA;\n",
              "      box-shadow: 0px 1px 2px rgba(60, 64, 67, 0.3), 0px 1px 3px 1px rgba(60, 64, 67, 0.15);\n",
              "      fill: #174EA6;\n",
              "    }\n",
              "\n",
              "    [theme=dark] .colab-df-convert {\n",
              "      background-color: #3B4455;\n",
              "      fill: #D2E3FC;\n",
              "    }\n",
              "\n",
              "    [theme=dark] .colab-df-convert:hover {\n",
              "      background-color: #434B5C;\n",
              "      box-shadow: 0px 1px 3px 1px rgba(0, 0, 0, 0.15);\n",
              "      filter: drop-shadow(0px 1px 2px rgba(0, 0, 0, 0.3));\n",
              "      fill: #FFFFFF;\n",
              "    }\n",
              "  </style>\n",
              "\n",
              "      <script>\n",
              "        const buttonEl =\n",
              "          document.querySelector('#df-f9d44857-2541-439e-a275-e3cce9417b14 button.colab-df-convert');\n",
              "        buttonEl.style.display =\n",
              "          google.colab.kernel.accessAllowed ? 'block' : 'none';\n",
              "\n",
              "        async function convertToInteractive(key) {\n",
              "          const element = document.querySelector('#df-f9d44857-2541-439e-a275-e3cce9417b14');\n",
              "          const dataTable =\n",
              "            await google.colab.kernel.invokeFunction('convertToInteractive',\n",
              "                                                     [key], {});\n",
              "          if (!dataTable) return;\n",
              "\n",
              "          const docLinkHtml = 'Like what you see? Visit the ' +\n",
              "            '<a target=\"_blank\" href=https://colab.research.google.com/notebooks/data_table.ipynb>data table notebook</a>'\n",
              "            + ' to learn more about interactive tables.';\n",
              "          element.innerHTML = '';\n",
              "          dataTable['output_type'] = 'display_data';\n",
              "          await google.colab.output.renderOutput(dataTable, element);\n",
              "          const docLink = document.createElement('div');\n",
              "          docLink.innerHTML = docLinkHtml;\n",
              "          element.appendChild(docLink);\n",
              "        }\n",
              "      </script>\n",
              "    </div>\n",
              "  </div>\n",
              "  "
            ]
          },
          "metadata": {},
          "execution_count": 41
        }
      ],
      "source": [
        "from sklearn.feature_selection import SelectKBest\n",
        "from sklearn.feature_selection import chi2\n",
        "\n",
        "# function is used to select best feaatures using SelectKBest\n",
        "def feature_selection(X,Y):\n",
        "    ordered_rank_features=SelectKBest(score_func=chi2,k=7)\n",
        "    ordered_feature=ordered_rank_features.fit(X,Y)\n",
        "    dfscores=pd.DataFrame(ordered_feature.scores_,columns=[\"Score\"])\n",
        "    dfcolumns=pd.DataFrame(X.columns)\n",
        "    features_rank=pd.concat([dfcolumns,dfscores],axis=1)\n",
        "    features_rank.columns=['Features','Score']\n",
        "    return features_rank\n",
        "\n",
        "feature_selection(X,Y)"
      ],
      "id": "beee8fc9"
    },
    {
      "cell_type": "code",
      "execution_count": 42,
      "metadata": {
        "colab": {
          "base_uri": "https://localhost:8080/"
        },
        "id": "f20be16d",
        "outputId": "231adeff-2071-4d0f-e7b3-8156db04b03c"
      },
      "outputs": [
        {
          "output_type": "stream",
          "name": "stdout",
          "text": [
            "StandardScaler()\n",
            "Mean for given Dataset [  3.83421053 120.96973684  69.11973684  20.50789474  80.23421053\n",
            "  31.99868421   0.47325   ]\n",
            "data            f1        f2        f3        f4        f5        f6        f7  \\\n",
            "0    0.644092  0.844637  0.148213  0.908737 -0.694636  0.202839  0.463021   \n",
            "1   -0.842876 -1.123976 -0.160536  0.532503 -0.694636 -0.683852 -0.368158   \n",
            "2    1.238879  1.938311 -0.263452 -1.285961 -0.694636 -1.101863  0.598540   \n",
            "3   -0.842876 -0.998985 -0.160536  0.156269  0.119179 -0.493847 -0.922278   \n",
            "4   -1.140270  0.500911 -1.498446  0.908737  0.759842  1.406204  5.465156   \n",
            "..        ...       ...       ...       ...       ...       ...       ...   \n",
            "755 -0.842876  0.219680  0.971542  1.159559  0.257700  0.570182  1.757975   \n",
            "756  0.941485  0.500911  1.074458  1.284971 -0.694636  0.000167 -0.247698   \n",
            "757 -1.140270  0.063441  0.148213 -1.285961 -0.694636  0.544848 -0.648230   \n",
            "758 -0.842876 -0.467772  0.354045 -1.285961 -0.694636  0.696852 -0.831932   \n",
            "759  0.644092  2.157046  1.177375 -1.285961 -0.694636  0.443512 -0.587999   \n",
            "\n",
            "     target  \n",
            "0         1  \n",
            "1         0  \n",
            "2         1  \n",
            "3         0  \n",
            "4         1  \n",
            "..      ...  \n",
            "755       1  \n",
            "756       0  \n",
            "757       1  \n",
            "758       0  \n",
            "759       1  \n",
            "\n",
            "[760 rows x 8 columns]\n"
          ]
        }
      ],
      "source": [
        "# function is used to normalise the data using StandardScaler\n",
        "def normalise(df,Y):\n",
        "    scaler = StandardScaler()\n",
        "    print(scaler.fit(df))\n",
        "    print(\"Mean for given Dataset\",scaler.mean_)\n",
        "    data = pd.DataFrame(scaler.transform(df),columns = df.columns)\n",
        "    data['target'] = Y\n",
        "    return data\n",
        "\n",
        "NNData = normalise(X,Y)\n",
        "print(\"data\",NNData)"
      ],
      "id": "f20be16d"
    },
    {
      "cell_type": "code",
      "execution_count": 43,
      "metadata": {
        "id": "46927df5"
      },
      "outputs": [],
      "source": [
        "# function is used to convert dataframe into tensor data\n",
        "def preparingtensorData(df):\n",
        "    X = torch.tensor(df.drop('target',axis = 1).values.astype(np.float32))\n",
        "    Y = torch.LongTensor(df['target'].values.astype(np.longlong))\n",
        "    return X,Y\n",
        "X,Y = preparingtensorData(NNData)"
      ],
      "id": "46927df5"
    },
    {
      "cell_type": "code",
      "execution_count": 44,
      "metadata": {
        "colab": {
          "base_uri": "https://localhost:8080/"
        },
        "id": "af67b1d9",
        "outputId": "71192ceb-4df3-4772-91a5-46df92d2c1d2"
      },
      "outputs": [
        {
          "output_type": "stream",
          "name": "stdout",
          "text": [
            "torch.Size([608, 7])\n",
            "torch.Size([152, 7])\n",
            "torch.Size([608])\n",
            "torch.Size([152])\n"
          ]
        }
      ],
      "source": [
        "from sklearn.model_selection import train_test_split\n",
        "# function is used to split the data into training and testing.\n",
        "def split_train_test(X,Y):\n",
        "    X_train,X_test,Y_train,Y_test = train_test_split(X,Y,test_size = 0.2)\n",
        "    return X_train,X_test,Y_train,Y_test\n",
        "\n",
        "X_train,X_test,Y_train,Y_test=split_train_test(X,Y)\n",
        "print(X_train.shape)\n",
        "print(X_test.shape)\n",
        "print(Y_train.shape)\n",
        "print(Y_test.shape)"
      ],
      "id": "af67b1d9"
    },
    {
      "cell_type": "code",
      "execution_count": 45,
      "metadata": {
        "id": "d70534cc"
      },
      "outputs": [],
      "source": [
        "# function is used to preare in such way that we can easily load the data in training and testing.\n",
        "def dataToLoad(X_train,Y_train,X_test,Y_test):\n",
        "  train_dataloader = DataLoader(TensorDataset(X_train,Y_train),shuffle=True,batch_size=10)\n",
        "  test_dataloader = DataLoader(TensorDataset(X_test,Y_test),shuffle=True,batch_size=10)\n",
        "  return train_dataloader,test_dataloader\n",
        "\n",
        "train_dataloader,test_dataloader = dataToLoad(X_train,Y_train,X_test,Y_test)"
      ],
      "id": "d70534cc"
    },
    {
      "cell_type": "code",
      "execution_count": 46,
      "metadata": {
        "colab": {
          "base_uri": "https://localhost:8080/"
        },
        "id": "14c9c31f",
        "outputId": "a384df68-6bec-47a6-994b-00812770a6e0"
      },
      "outputs": [
        {
          "output_type": "stream",
          "name": "stdout",
          "text": [
            "Using cpu device\n"
          ]
        }
      ],
      "source": [
        "# this piece of code is used to set the device to CPU or GPU.\n",
        "device = \"cuda\" if torch.cuda.is_available() else \"cpu\"\n",
        "print(f\"Using {device} device\")"
      ],
      "id": "14c9c31f"
    },
    {
      "cell_type": "code",
      "execution_count": 47,
      "metadata": {
        "id": "48rXVKPv8YBj"
      },
      "outputs": [],
      "source": [
        "#Step 3: Defining the Neural Network"
      ],
      "id": "48rXVKPv8YBj"
    },
    {
      "cell_type": "code",
      "execution_count": 48,
      "metadata": {
        "id": "8930b542"
      },
      "outputs": [],
      "source": [
        "class NeuralNetwork(nn.Module):\n",
        "    def __init__(self):\n",
        "        super().__init__()\n",
        "        self.flatten = nn.Flatten()\n",
        "        self.linear_relu_stack = nn.Sequential(\n",
        "            nn.Linear(7, 128),\n",
        "            nn.ReLU(),\n",
        "            nn.Linear(128, 128),\n",
        "            nn.ReLU(),\n",
        "            nn.Linear(128, 2),\n",
        "        )\n",
        "\n",
        "    def forward(self, x):\n",
        "        x = self.flatten(x)\n",
        "        logits = self.linear_relu_stack(x)\n",
        "        return logits"
      ],
      "id": "8930b542"
    },
    {
      "cell_type": "code",
      "execution_count": 49,
      "metadata": {
        "colab": {
          "base_uri": "https://localhost:8080/"
        },
        "id": "e331fb74",
        "outputId": "ba772ecb-9428-4de0-c2b1-68e6408e11ba",
        "scrolled": true
      },
      "outputs": [
        {
          "output_type": "stream",
          "name": "stdout",
          "text": [
            "NeuralNetwork(\n",
            "  (flatten): Flatten(start_dim=1, end_dim=-1)\n",
            "  (linear_relu_stack): Sequential(\n",
            "    (0): Linear(in_features=7, out_features=128, bias=True)\n",
            "    (1): ReLU()\n",
            "    (2): Linear(in_features=128, out_features=128, bias=True)\n",
            "    (3): ReLU()\n",
            "    (4): Linear(in_features=128, out_features=2, bias=True)\n",
            "  )\n",
            ")\n"
          ]
        }
      ],
      "source": [
        "model = NeuralNetwork().to(device)\n",
        "print(model)"
      ],
      "id": "e331fb74"
    },
    {
      "cell_type": "code",
      "execution_count": 50,
      "metadata": {
        "id": "YnF2h_0387rj"
      },
      "outputs": [],
      "source": [
        "# How many input neurons are there?\n",
        "  # The no.of input neurons are 7 as we have 7 no.of nodes\n",
        "\n",
        "# What activation function will you choose?\n",
        "  # The activation function used in this neuralNetwork is ReLU.\n",
        "\n",
        "# What is the number of hidden layers?\n",
        "  # For basic Neural Network we have used only one hidden layer.\n",
        "\n",
        "# What is the size of each hidden layer?\n",
        "  # The size of the hidden layer is 128\n",
        "\n",
        "# What activation function is used for the hidden and output layer?\n",
        "  # The activation function used in hidden layer is ReLU.\n",
        "  # we didn't used any activation function for output layer "
      ],
      "id": "YnF2h_0387rj"
    },
    {
      "cell_type": "code",
      "execution_count": 51,
      "metadata": {
        "id": "FtHOYuee-3Jo"
      },
      "outputs": [],
      "source": [
        "# Step 4: Training the Neural Network"
      ],
      "id": "FtHOYuee-3Jo"
    },
    {
      "cell_type": "code",
      "execution_count": 52,
      "metadata": {
        "id": "xZ9h-wFT-9VG"
      },
      "outputs": [],
      "source": [
        "''' 1.Set up the training loop: In this step, you will create a loop that iterates over the training data for a specified\n",
        " number of epochs. For each epoch, you will iterate over the batches of the training data, compute the forward\n",
        "  pass through the neural network, compute the loss, compute the gradients using backpropagation, and update the weights of the network using an \n",
        "  optimizer such as Stochastic Gradient Descent (SGD) or Adam.\n",
        "'''\n",
        "#Each epoch consists of two main parts:\n",
        "#The Train Loop - iterate over the training dataset and try to converge to optimal parameters.\n",
        "#The Validation/Test Loop - iterate over the test dataset to check if model performance is improving.\n",
        "\n",
        "def train_loop(dataloader, model, loss_fn, optimizer):\n",
        "    size = len(dataloader.dataset)\n",
        "    trainingloss_list = []\n",
        "    trainAcc_list = []\n",
        "    correct = 0\n",
        "    for batch_size, (X, y) in enumerate(dataloader):\n",
        "        # Compute prediction and loss\n",
        "        predict_val  = model(X)\n",
        "        loss =  loss_fn(predict_val, y)\n",
        "        trainingloss_list.append(loss.item())\n",
        "        correct += (predict_val.argmax(1) == y).type(torch.float).sum().item()\n",
        "\n",
        "        # Backpropagation\n",
        "        optimizer.zero_grad()\n",
        "        loss.backward()\n",
        "        optimizer.step()\n",
        "        \n",
        "        if batch_size % 100 == 0:\n",
        "            loss = loss.item()  \n",
        "            current= (batch_size + 1) * len(X)\n",
        "            print(f\"loss: {loss:>7f}  [{current:>5d}/{size:>5d}]\")\n",
        "            print(trainingloss_list[-1])\n",
        "\n",
        "    trainAcc_list.append(correct/size)\n",
        "    print(trainAcc_list[-1])\n",
        "    return trainingloss_list[-1],trainAcc_list[-1]\n"
      ],
      "id": "xZ9h-wFT-9VG"
    },
    {
      "cell_type": "code",
      "execution_count": 53,
      "metadata": {
        "id": "0XnkSK5M_tkM"
      },
      "outputs": [],
      "source": [
        "'''2.Define the loss function that will be used to compute the error between the predicted output of the neural network and the true labels of the\n",
        "training data.\n",
        "'''\n",
        "\n",
        "def test_loop(dataloader, model, loss_fn):\n",
        "    size , num_batches= len(dataloader.dataset),len(dataloader)\n",
        "    test_loss, correct = 0, 0\n",
        "    testloss_list=[]\n",
        "    testAcc_list=[]\n",
        "    y_predList = []\n",
        "    y_valList= []\n",
        "    with torch.no_grad():\n",
        "        for X, y in dataloader:\n",
        "            pred = model(X)\n",
        "            test_loss += loss_fn(pred, y).item()\n",
        "            correct += (pred.argmax(1) == y).type(torch.float).sum().item()\n",
        "            y_predList.extend(pred.argmax(1).tolist())\n",
        "            y_valList.extend(y.tolist())\n",
        "    test_loss /= num_batches\n",
        "    correct /= size\n",
        "    testloss_list.append(test_loss)\n",
        "    #print(pred_list)\n",
        "    print(f\"Test Error: \\n Accuracy: {(100*correct):>0.1f}%, Avg loss: {test_loss:>8f} \\n\")\n",
        "    return y_predList,y_valList,correct,testloss_list"
      ],
      "id": "0XnkSK5M_tkM"
    },
    {
      "cell_type": "code",
      "execution_count": 54,
      "metadata": {
        "id": "qcjg7-GuALSL"
      },
      "outputs": [],
      "source": [
        "'''3.Choose an optimizer and a learningrate. It will update the weights of the neural network during training.\n",
        "Stochastic Gradient Descent (SGD) is one of the commonly used, you can also explore other optimizers like Adam or RMSProp\n",
        "'''\n",
        "#Hyperparameters\n",
        "#Number of Epochs - the number times to iterate over the dataset\n",
        "#Batch Size - the number of data samples propagated through the network before the parameters are updated\n",
        "#Learning Rate - how much to update models parameters at each batch/epoch. Smaller values yield slow learning speed, while large values may result in unpredictable behavior during training.\n",
        "\n",
        "learning_rate = 1e-3\n",
        "batch_size = 10\n",
        "epochs = 100\n",
        "\n",
        "# Initialize the loss function and optimizer\n",
        "loss_fn = nn.CrossEntropyLoss()\n",
        "optimizer = torch.optim.SGD(model.parameters(), lr=learning_rate)\n"
      ],
      "id": "qcjg7-GuALSL"
    },
    {
      "cell_type": "code",
      "execution_count": 55,
      "metadata": {
        "colab": {
          "base_uri": "https://localhost:8080/"
        },
        "id": "6393f690",
        "outputId": "7aee5419-60e5-4e0a-fd73-7f7ead207f13"
      },
      "outputs": [
        {
          "output_type": "stream",
          "name": "stdout",
          "text": [
            "Epoch 1\n",
            "-------------------------------\n",
            "loss: 0.782824  [   10/  608]\n",
            "0.7828236222267151\n",
            "0.3667763157894737\n",
            "Test Error: \n",
            " Accuracy: 40.1%, Avg loss: 0.706520 \n",
            "\n",
            "Epoch 2\n",
            "-------------------------------\n",
            "loss: 0.681197  [   10/  608]\n",
            "0.681196928024292\n",
            "0.5230263157894737\n",
            "Test Error: \n",
            " Accuracy: 55.9%, Avg loss: 0.689757 \n",
            "\n",
            "Epoch 3\n",
            "-------------------------------\n",
            "loss: 0.673034  [   10/  608]\n",
            "0.6730343103408813\n",
            "0.6529605263157895\n",
            "Test Error: \n",
            " Accuracy: 63.2%, Avg loss: 0.672442 \n",
            "\n",
            "Epoch 4\n",
            "-------------------------------\n",
            "loss: 0.653341  [   10/  608]\n",
            "0.6533406972885132\n",
            "0.6825657894736842\n",
            "Test Error: \n",
            " Accuracy: 60.5%, Avg loss: 0.667600 \n",
            "\n",
            "Epoch 5\n",
            "-------------------------------\n",
            "loss: 0.693181  [   10/  608]\n",
            "0.6931809186935425\n",
            "0.6776315789473685\n",
            "Test Error: \n",
            " Accuracy: 61.8%, Avg loss: 0.666087 \n",
            "\n",
            "Epoch 6\n",
            "-------------------------------\n",
            "loss: 0.592067  [   10/  608]\n",
            "0.5920671224594116\n",
            "0.680921052631579\n",
            "Test Error: \n",
            " Accuracy: 61.8%, Avg loss: 0.654702 \n",
            "\n",
            "Epoch 7\n",
            "-------------------------------\n",
            "loss: 0.577811  [   10/  608]\n",
            "0.5778107643127441\n",
            "0.6825657894736842\n",
            "Test Error: \n",
            " Accuracy: 63.2%, Avg loss: 0.642061 \n",
            "\n",
            "Epoch 8\n",
            "-------------------------------\n",
            "loss: 0.686925  [   10/  608]\n",
            "0.6869248747825623\n",
            "0.6842105263157895\n",
            "Test Error: \n",
            " Accuracy: 63.2%, Avg loss: 0.640629 \n",
            "\n",
            "Epoch 9\n",
            "-------------------------------\n",
            "loss: 0.691591  [   10/  608]\n",
            "0.6915912628173828\n",
            "0.6842105263157895\n",
            "Test Error: \n",
            " Accuracy: 62.5%, Avg loss: 0.633975 \n",
            "\n",
            "Epoch 10\n",
            "-------------------------------\n",
            "loss: 0.755376  [   10/  608]\n",
            "0.7553757429122925\n",
            "0.6842105263157895\n",
            "Test Error: \n",
            " Accuracy: 62.5%, Avg loss: 0.621498 \n",
            "\n",
            "Epoch 11\n",
            "-------------------------------\n",
            "loss: 0.741403  [   10/  608]\n",
            "0.7414029240608215\n",
            "0.6891447368421053\n",
            "Test Error: \n",
            " Accuracy: 62.5%, Avg loss: 0.614955 \n",
            "\n",
            "Epoch 12\n",
            "-------------------------------\n",
            "loss: 0.586851  [   10/  608]\n",
            "0.5868505239486694\n",
            "0.6924342105263158\n",
            "Test Error: \n",
            " Accuracy: 62.5%, Avg loss: 0.633558 \n",
            "\n",
            "Epoch 13\n",
            "-------------------------------\n",
            "loss: 0.561517  [   10/  608]\n",
            "0.5615171194076538\n",
            "0.6990131578947368\n",
            "Test Error: \n",
            " Accuracy: 62.5%, Avg loss: 0.612682 \n",
            "\n",
            "Epoch 14\n",
            "-------------------------------\n",
            "loss: 0.531904  [   10/  608]\n",
            "0.5319043397903442\n",
            "0.7006578947368421\n",
            "Test Error: \n",
            " Accuracy: 62.5%, Avg loss: 0.616568 \n",
            "\n",
            "Epoch 15\n",
            "-------------------------------\n",
            "loss: 0.567773  [   10/  608]\n",
            "0.5677727460861206\n",
            "0.7039473684210527\n",
            "Test Error: \n",
            " Accuracy: 62.5%, Avg loss: 0.607220 \n",
            "\n",
            "Epoch 16\n",
            "-------------------------------\n",
            "loss: 0.673618  [   10/  608]\n",
            "0.6736183762550354\n",
            "0.7088815789473685\n",
            "Test Error: \n",
            " Accuracy: 61.8%, Avg loss: 0.597098 \n",
            "\n",
            "Epoch 17\n",
            "-------------------------------\n",
            "loss: 0.573742  [   10/  608]\n",
            "0.5737419128417969\n",
            "0.7105263157894737\n",
            "Test Error: \n",
            " Accuracy: 62.5%, Avg loss: 0.604042 \n",
            "\n",
            "Epoch 18\n",
            "-------------------------------\n",
            "loss: 0.574630  [   10/  608]\n",
            "0.5746301412582397\n",
            "0.7105263157894737\n",
            "Test Error: \n",
            " Accuracy: 63.2%, Avg loss: 0.616780 \n",
            "\n",
            "Epoch 19\n",
            "-------------------------------\n",
            "loss: 0.507280  [   10/  608]\n",
            "0.507280170917511\n",
            "0.7154605263157895\n",
            "Test Error: \n",
            " Accuracy: 64.5%, Avg loss: 0.616312 \n",
            "\n",
            "Epoch 20\n",
            "-------------------------------\n",
            "loss: 0.459278  [   10/  608]\n",
            "0.4592784345149994\n",
            "0.7171052631578947\n",
            "Test Error: \n",
            " Accuracy: 64.5%, Avg loss: 0.601774 \n",
            "\n",
            "Epoch 21\n",
            "-------------------------------\n",
            "loss: 0.503409  [   10/  608]\n",
            "0.5034089088439941\n",
            "0.71875\n",
            "Test Error: \n",
            " Accuracy: 65.1%, Avg loss: 0.598546 \n",
            "\n",
            "Epoch 22\n",
            "-------------------------------\n",
            "loss: 0.487960  [   10/  608]\n",
            "0.4879603385925293\n",
            "0.71875\n",
            "Test Error: \n",
            " Accuracy: 66.4%, Avg loss: 0.601780 \n",
            "\n",
            "Epoch 23\n",
            "-------------------------------\n",
            "loss: 0.512172  [   10/  608]\n",
            "0.5121721625328064\n",
            "0.7220394736842105\n",
            "Test Error: \n",
            " Accuracy: 67.1%, Avg loss: 0.583933 \n",
            "\n",
            "Epoch 24\n",
            "-------------------------------\n",
            "loss: 0.551623  [   10/  608]\n",
            "0.5516228675842285\n",
            "0.7236842105263158\n",
            "Test Error: \n",
            " Accuracy: 67.1%, Avg loss: 0.583700 \n",
            "\n",
            "Epoch 25\n",
            "-------------------------------\n",
            "loss: 0.554632  [   10/  608]\n",
            "0.5546324849128723\n",
            "0.725328947368421\n",
            "Test Error: \n",
            " Accuracy: 67.1%, Avg loss: 0.579863 \n",
            "\n",
            "Epoch 26\n",
            "-------------------------------\n",
            "loss: 0.540612  [   10/  608]\n",
            "0.5406124591827393\n",
            "0.7302631578947368\n",
            "Test Error: \n",
            " Accuracy: 68.4%, Avg loss: 0.578396 \n",
            "\n",
            "Epoch 27\n",
            "-------------------------------\n",
            "loss: 0.654896  [   10/  608]\n",
            "0.6548957824707031\n",
            "0.7302631578947368\n",
            "Test Error: \n",
            " Accuracy: 68.4%, Avg loss: 0.582129 \n",
            "\n",
            "Epoch 28\n",
            "-------------------------------\n",
            "loss: 0.462541  [   10/  608]\n",
            "0.46254149079322815\n",
            "0.7351973684210527\n",
            "Test Error: \n",
            " Accuracy: 67.8%, Avg loss: 0.570843 \n",
            "\n",
            "Epoch 29\n",
            "-------------------------------\n",
            "loss: 0.596334  [   10/  608]\n",
            "0.5963343381881714\n",
            "0.7368421052631579\n",
            "Test Error: \n",
            " Accuracy: 68.4%, Avg loss: 0.555439 \n",
            "\n",
            "Epoch 30\n",
            "-------------------------------\n",
            "loss: 0.675094  [   10/  608]\n",
            "0.6750936508178711\n",
            "0.7417763157894737\n",
            "Test Error: \n",
            " Accuracy: 69.1%, Avg loss: 0.569551 \n",
            "\n",
            "Epoch 31\n",
            "-------------------------------\n",
            "loss: 0.622551  [   10/  608]\n",
            "0.6225506067276001\n",
            "0.743421052631579\n",
            "Test Error: \n",
            " Accuracy: 69.7%, Avg loss: 0.575465 \n",
            "\n",
            "Epoch 32\n",
            "-------------------------------\n",
            "loss: 0.430867  [   10/  608]\n",
            "0.43086665868759155\n",
            "0.7450657894736842\n",
            "Test Error: \n",
            " Accuracy: 70.4%, Avg loss: 0.615957 \n",
            "\n",
            "Epoch 33\n",
            "-------------------------------\n",
            "loss: 0.530702  [   10/  608]\n",
            "0.5307016372680664\n",
            "0.75\n",
            "Test Error: \n",
            " Accuracy: 69.7%, Avg loss: 0.551826 \n",
            "\n",
            "Epoch 34\n",
            "-------------------------------\n",
            "loss: 0.415018  [   10/  608]\n",
            "0.4150181710720062\n",
            "0.75\n",
            "Test Error: \n",
            " Accuracy: 69.7%, Avg loss: 0.567062 \n",
            "\n",
            "Epoch 35\n",
            "-------------------------------\n",
            "loss: 0.487016  [   10/  608]\n",
            "0.4870157837867737\n",
            "0.75\n",
            "Test Error: \n",
            " Accuracy: 69.7%, Avg loss: 0.560087 \n",
            "\n",
            "Epoch 36\n",
            "-------------------------------\n",
            "loss: 0.572760  [   10/  608]\n",
            "0.5727596282958984\n",
            "0.7532894736842105\n",
            "Test Error: \n",
            " Accuracy: 70.4%, Avg loss: 0.543150 \n",
            "\n",
            "Epoch 37\n",
            "-------------------------------\n",
            "loss: 0.391876  [   10/  608]\n",
            "0.39187607169151306\n",
            "0.7549342105263158\n",
            "Test Error: \n",
            " Accuracy: 71.1%, Avg loss: 0.579248 \n",
            "\n",
            "Epoch 38\n",
            "-------------------------------\n",
            "loss: 0.633409  [   10/  608]\n",
            "0.6334091424942017\n",
            "0.7549342105263158\n",
            "Test Error: \n",
            " Accuracy: 71.7%, Avg loss: 0.557413 \n",
            "\n",
            "Epoch 39\n",
            "-------------------------------\n",
            "loss: 0.597867  [   10/  608]\n",
            "0.5978670716285706\n",
            "0.7582236842105263\n",
            "Test Error: \n",
            " Accuracy: 71.7%, Avg loss: 0.537207 \n",
            "\n",
            "Epoch 40\n",
            "-------------------------------\n",
            "loss: 0.544871  [   10/  608]\n",
            "0.5448705554008484\n",
            "0.756578947368421\n",
            "Test Error: \n",
            " Accuracy: 71.7%, Avg loss: 0.547036 \n",
            "\n",
            "Epoch 41\n",
            "-------------------------------\n",
            "loss: 0.536668  [   10/  608]\n",
            "0.5366681814193726\n",
            "0.7549342105263158\n",
            "Test Error: \n",
            " Accuracy: 71.7%, Avg loss: 0.565866 \n",
            "\n",
            "Epoch 42\n",
            "-------------------------------\n",
            "loss: 0.451078  [   10/  608]\n",
            "0.4510783553123474\n",
            "0.7532894736842105\n",
            "Test Error: \n",
            " Accuracy: 72.4%, Avg loss: 0.559667 \n",
            "\n",
            "Epoch 43\n",
            "-------------------------------\n",
            "loss: 0.526692  [   10/  608]\n",
            "0.5266920328140259\n",
            "0.7598684210526315\n",
            "Test Error: \n",
            " Accuracy: 71.7%, Avg loss: 0.535561 \n",
            "\n",
            "Epoch 44\n",
            "-------------------------------\n",
            "loss: 0.699671  [   10/  608]\n",
            "0.6996709108352661\n",
            "0.7598684210526315\n",
            "Test Error: \n",
            " Accuracy: 71.7%, Avg loss: 0.531028 \n",
            "\n",
            "Epoch 45\n",
            "-------------------------------\n",
            "loss: 0.479727  [   10/  608]\n",
            "0.47972697019577026\n",
            "0.7615131578947368\n",
            "Test Error: \n",
            " Accuracy: 71.7%, Avg loss: 0.531127 \n",
            "\n",
            "Epoch 46\n",
            "-------------------------------\n",
            "loss: 0.423111  [   10/  608]\n",
            "0.4231113791465759\n",
            "0.7648026315789473\n",
            "Test Error: \n",
            " Accuracy: 71.7%, Avg loss: 0.566392 \n",
            "\n",
            "Epoch 47\n",
            "-------------------------------\n",
            "loss: 0.465984  [   10/  608]\n",
            "0.4659835696220398\n",
            "0.7664473684210527\n",
            "Test Error: \n",
            " Accuracy: 71.7%, Avg loss: 0.540100 \n",
            "\n",
            "Epoch 48\n",
            "-------------------------------\n",
            "loss: 0.400402  [   10/  608]\n",
            "0.4004022181034088\n",
            "0.7664473684210527\n",
            "Test Error: \n",
            " Accuracy: 71.7%, Avg loss: 0.538439 \n",
            "\n",
            "Epoch 49\n",
            "-------------------------------\n",
            "loss: 0.423574  [   10/  608]\n",
            "0.42357364296913147\n",
            "0.7648026315789473\n",
            "Test Error: \n",
            " Accuracy: 71.7%, Avg loss: 0.539416 \n",
            "\n",
            "Epoch 50\n",
            "-------------------------------\n",
            "loss: 0.532918  [   10/  608]\n",
            "0.5329184532165527\n",
            "0.7664473684210527\n",
            "Test Error: \n",
            " Accuracy: 71.7%, Avg loss: 0.559904 \n",
            "\n",
            "Epoch 51\n",
            "-------------------------------\n",
            "loss: 0.682527  [   10/  608]\n",
            "0.6825270056724548\n",
            "0.774671052631579\n",
            "Test Error: \n",
            " Accuracy: 71.7%, Avg loss: 0.552432 \n",
            "\n",
            "Epoch 52\n",
            "-------------------------------\n",
            "loss: 0.586041  [   10/  608]\n",
            "0.5860413312911987\n",
            "0.7763157894736842\n",
            "Test Error: \n",
            " Accuracy: 72.4%, Avg loss: 0.552091 \n",
            "\n",
            "Epoch 53\n",
            "-------------------------------\n",
            "loss: 0.685164  [   10/  608]\n",
            "0.6851643323898315\n",
            "0.7796052631578947\n",
            "Test Error: \n",
            " Accuracy: 72.4%, Avg loss: 0.556032 \n",
            "\n",
            "Epoch 54\n",
            "-------------------------------\n",
            "loss: 0.578336  [   10/  608]\n",
            "0.5783364176750183\n",
            "0.7763157894736842\n",
            "Test Error: \n",
            " Accuracy: 72.4%, Avg loss: 0.553130 \n",
            "\n",
            "Epoch 55\n",
            "-------------------------------\n",
            "loss: 0.619935  [   10/  608]\n",
            "0.6199346780776978\n",
            "0.774671052631579\n",
            "Test Error: \n",
            " Accuracy: 73.0%, Avg loss: 0.568279 \n",
            "\n",
            "Epoch 56\n",
            "-------------------------------\n",
            "loss: 0.290356  [   10/  608]\n",
            "0.29035598039627075\n",
            "0.78125\n",
            "Test Error: \n",
            " Accuracy: 72.4%, Avg loss: 0.527304 \n",
            "\n",
            "Epoch 57\n",
            "-------------------------------\n",
            "loss: 0.549490  [   10/  608]\n",
            "0.5494898557662964\n",
            "0.7845394736842105\n",
            "Test Error: \n",
            " Accuracy: 72.4%, Avg loss: 0.517785 \n",
            "\n",
            "Epoch 58\n",
            "-------------------------------\n",
            "loss: 0.763228  [   10/  608]\n",
            "0.7632278203964233\n",
            "0.7828947368421053\n",
            "Test Error: \n",
            " Accuracy: 72.4%, Avg loss: 0.593903 \n",
            "\n",
            "Epoch 59\n",
            "-------------------------------\n",
            "loss: 0.507649  [   10/  608]\n",
            "0.5076487064361572\n",
            "0.7828947368421053\n",
            "Test Error: \n",
            " Accuracy: 72.4%, Avg loss: 0.513803 \n",
            "\n",
            "Epoch 60\n",
            "-------------------------------\n",
            "loss: 0.434515  [   10/  608]\n",
            "0.4345146715641022\n",
            "0.7845394736842105\n",
            "Test Error: \n",
            " Accuracy: 72.4%, Avg loss: 0.516292 \n",
            "\n",
            "Epoch 61\n",
            "-------------------------------\n",
            "loss: 0.375821  [   10/  608]\n",
            "0.3758206367492676\n",
            "0.7845394736842105\n",
            "Test Error: \n",
            " Accuracy: 72.4%, Avg loss: 0.536375 \n",
            "\n",
            "Epoch 62\n",
            "-------------------------------\n",
            "loss: 0.483064  [   10/  608]\n",
            "0.4830644726753235\n",
            "0.7845394736842105\n",
            "Test Error: \n",
            " Accuracy: 73.0%, Avg loss: 0.526696 \n",
            "\n",
            "Epoch 63\n",
            "-------------------------------\n",
            "loss: 0.370791  [   10/  608]\n",
            "0.3707905411720276\n",
            "0.7845394736842105\n",
            "Test Error: \n",
            " Accuracy: 73.0%, Avg loss: 0.593833 \n",
            "\n",
            "Epoch 64\n",
            "-------------------------------\n",
            "loss: 0.679442  [   10/  608]\n",
            "0.6794421076774597\n",
            "0.7861842105263158\n",
            "Test Error: \n",
            " Accuracy: 73.0%, Avg loss: 0.513145 \n",
            "\n",
            "Epoch 65\n",
            "-------------------------------\n",
            "loss: 0.569801  [   10/  608]\n",
            "0.5698010921478271\n",
            "0.7845394736842105\n",
            "Test Error: \n",
            " Accuracy: 73.0%, Avg loss: 0.531188 \n",
            "\n",
            "Epoch 66\n",
            "-------------------------------\n",
            "loss: 0.596143  [   10/  608]\n",
            "0.5961425304412842\n",
            "0.7845394736842105\n",
            "Test Error: \n",
            " Accuracy: 73.0%, Avg loss: 0.524503 \n",
            "\n",
            "Epoch 67\n",
            "-------------------------------\n",
            "loss: 0.438644  [   10/  608]\n",
            "0.43864431977272034\n",
            "0.7845394736842105\n",
            "Test Error: \n",
            " Accuracy: 72.4%, Avg loss: 0.522194 \n",
            "\n",
            "Epoch 68\n",
            "-------------------------------\n",
            "loss: 0.836657  [   10/  608]\n",
            "0.836656928062439\n",
            "0.7845394736842105\n",
            "Test Error: \n",
            " Accuracy: 72.4%, Avg loss: 0.515179 \n",
            "\n",
            "Epoch 69\n",
            "-------------------------------\n",
            "loss: 0.570982  [   10/  608]\n",
            "0.5709817409515381\n",
            "0.7845394736842105\n",
            "Test Error: \n",
            " Accuracy: 72.4%, Avg loss: 0.571231 \n",
            "\n",
            "Epoch 70\n",
            "-------------------------------\n",
            "loss: 0.611669  [   10/  608]\n",
            "0.6116687059402466\n",
            "0.7845394736842105\n",
            "Test Error: \n",
            " Accuracy: 72.4%, Avg loss: 0.532445 \n",
            "\n",
            "Epoch 71\n",
            "-------------------------------\n",
            "loss: 0.727890  [   10/  608]\n",
            "0.7278900742530823\n",
            "0.7845394736842105\n",
            "Test Error: \n",
            " Accuracy: 72.4%, Avg loss: 0.539393 \n",
            "\n",
            "Epoch 72\n",
            "-------------------------------\n",
            "loss: 0.291054  [   10/  608]\n",
            "0.2910541594028473\n",
            "0.7861842105263158\n",
            "Test Error: \n",
            " Accuracy: 72.4%, Avg loss: 0.506100 \n",
            "\n",
            "Epoch 73\n",
            "-------------------------------\n",
            "loss: 0.580913  [   10/  608]\n",
            "0.5809128284454346\n",
            "0.7845394736842105\n",
            "Test Error: \n",
            " Accuracy: 72.4%, Avg loss: 0.545174 \n",
            "\n",
            "Epoch 74\n",
            "-------------------------------\n",
            "loss: 0.392213  [   10/  608]\n",
            "0.3922126889228821\n",
            "0.7845394736842105\n",
            "Test Error: \n",
            " Accuracy: 72.4%, Avg loss: 0.525455 \n",
            "\n",
            "Epoch 75\n",
            "-------------------------------\n",
            "loss: 0.408943  [   10/  608]\n",
            "0.4089426100254059\n",
            "0.7845394736842105\n",
            "Test Error: \n",
            " Accuracy: 72.4%, Avg loss: 0.534321 \n",
            "\n",
            "Epoch 76\n",
            "-------------------------------\n",
            "loss: 0.467698  [   10/  608]\n",
            "0.4676976203918457\n",
            "0.7845394736842105\n",
            "Test Error: \n",
            " Accuracy: 72.4%, Avg loss: 0.516238 \n",
            "\n",
            "Epoch 77\n",
            "-------------------------------\n",
            "loss: 0.364243  [   10/  608]\n",
            "0.3642428517341614\n",
            "0.7828947368421053\n",
            "Test Error: \n",
            " Accuracy: 72.4%, Avg loss: 0.529952 \n",
            "\n",
            "Epoch 78\n",
            "-------------------------------\n",
            "loss: 0.492629  [   10/  608]\n",
            "0.49262887239456177\n",
            "0.7828947368421053\n",
            "Test Error: \n",
            " Accuracy: 72.4%, Avg loss: 0.524650 \n",
            "\n",
            "Epoch 79\n",
            "-------------------------------\n",
            "loss: 0.760652  [   10/  608]\n",
            "0.7606516480445862\n",
            "0.7845394736842105\n",
            "Test Error: \n",
            " Accuracy: 73.0%, Avg loss: 0.545931 \n",
            "\n",
            "Epoch 80\n",
            "-------------------------------\n",
            "loss: 0.437319  [   10/  608]\n",
            "0.4373186230659485\n",
            "0.7845394736842105\n",
            "Test Error: \n",
            " Accuracy: 73.0%, Avg loss: 0.533182 \n",
            "\n",
            "Epoch 81\n",
            "-------------------------------\n",
            "loss: 0.411128  [   10/  608]\n",
            "0.41112837195396423\n",
            "0.7861842105263158\n",
            "Test Error: \n",
            " Accuracy: 73.0%, Avg loss: 0.546051 \n",
            "\n",
            "Epoch 82\n",
            "-------------------------------\n",
            "loss: 0.388384  [   10/  608]\n",
            "0.38838380575180054\n",
            "0.7861842105263158\n",
            "Test Error: \n",
            " Accuracy: 73.0%, Avg loss: 0.530547 \n",
            "\n",
            "Epoch 83\n",
            "-------------------------------\n",
            "loss: 0.462089  [   10/  608]\n",
            "0.462089478969574\n",
            "0.787828947368421\n",
            "Test Error: \n",
            " Accuracy: 73.0%, Avg loss: 0.513659 \n",
            "\n",
            "Epoch 84\n",
            "-------------------------------\n",
            "loss: 0.591093  [   10/  608]\n",
            "0.5910932421684265\n",
            "0.7911184210526315\n",
            "Test Error: \n",
            " Accuracy: 73.0%, Avg loss: 0.534925 \n",
            "\n",
            "Epoch 85\n",
            "-------------------------------\n",
            "loss: 0.458631  [   10/  608]\n",
            "0.45863065123558044\n",
            "0.7927631578947368\n",
            "Test Error: \n",
            " Accuracy: 73.0%, Avg loss: 0.632004 \n",
            "\n",
            "Epoch 86\n",
            "-------------------------------\n",
            "loss: 0.576586  [   10/  608]\n",
            "0.5765863060951233\n",
            "0.7944078947368421\n",
            "Test Error: \n",
            " Accuracy: 73.0%, Avg loss: 0.526675 \n",
            "\n",
            "Epoch 87\n",
            "-------------------------------\n",
            "loss: 0.411188  [   10/  608]\n",
            "0.41118788719177246\n",
            "0.7927631578947368\n",
            "Test Error: \n",
            " Accuracy: 73.0%, Avg loss: 0.526140 \n",
            "\n",
            "Epoch 88\n",
            "-------------------------------\n",
            "loss: 0.584523  [   10/  608]\n",
            "0.5845228433609009\n",
            "0.7944078947368421\n",
            "Test Error: \n",
            " Accuracy: 73.0%, Avg loss: 0.514852 \n",
            "\n",
            "Epoch 89\n",
            "-------------------------------\n",
            "loss: 0.352400  [   10/  608]\n",
            "0.35239991545677185\n",
            "0.7960526315789473\n",
            "Test Error: \n",
            " Accuracy: 72.4%, Avg loss: 0.508515 \n",
            "\n",
            "Epoch 90\n",
            "-------------------------------\n",
            "loss: 0.324934  [   10/  608]\n",
            "0.3249337673187256\n",
            "0.7944078947368421\n",
            "Test Error: \n",
            " Accuracy: 72.4%, Avg loss: 0.519010 \n",
            "\n",
            "Epoch 91\n",
            "-------------------------------\n",
            "loss: 0.477167  [   10/  608]\n",
            "0.4771669805049896\n",
            "0.7960526315789473\n",
            "Test Error: \n",
            " Accuracy: 72.4%, Avg loss: 0.513141 \n",
            "\n",
            "Epoch 92\n",
            "-------------------------------\n",
            "loss: 0.333955  [   10/  608]\n",
            "0.3339546322822571\n",
            "0.7944078947368421\n",
            "Test Error: \n",
            " Accuracy: 72.4%, Avg loss: 0.526312 \n",
            "\n",
            "Epoch 93\n",
            "-------------------------------\n",
            "loss: 0.357455  [   10/  608]\n",
            "0.3574545979499817\n",
            "0.7960526315789473\n",
            "Test Error: \n",
            " Accuracy: 72.4%, Avg loss: 0.514337 \n",
            "\n",
            "Epoch 94\n",
            "-------------------------------\n",
            "loss: 0.539975  [   10/  608]\n",
            "0.5399746894836426\n",
            "0.7944078947368421\n",
            "Test Error: \n",
            " Accuracy: 72.4%, Avg loss: 0.525259 \n",
            "\n",
            "Epoch 95\n",
            "-------------------------------\n",
            "loss: 0.788736  [   10/  608]\n",
            "0.7887363433837891\n",
            "0.7944078947368421\n",
            "Test Error: \n",
            " Accuracy: 72.4%, Avg loss: 0.538229 \n",
            "\n",
            "Epoch 96\n",
            "-------------------------------\n",
            "loss: 0.655341  [   10/  608]\n",
            "0.6553412675857544\n",
            "0.7960526315789473\n",
            "Test Error: \n",
            " Accuracy: 72.4%, Avg loss: 0.506342 \n",
            "\n",
            "Epoch 97\n",
            "-------------------------------\n",
            "loss: 0.439917  [   10/  608]\n",
            "0.4399174749851227\n",
            "0.7944078947368421\n",
            "Test Error: \n",
            " Accuracy: 72.4%, Avg loss: 0.507360 \n",
            "\n",
            "Epoch 98\n",
            "-------------------------------\n",
            "loss: 0.456220  [   10/  608]\n",
            "0.4562198221683502\n",
            "0.7976973684210527\n",
            "Test Error: \n",
            " Accuracy: 72.4%, Avg loss: 0.543492 \n",
            "\n",
            "Epoch 99\n",
            "-------------------------------\n",
            "loss: 0.346292  [   10/  608]\n",
            "0.34629231691360474\n",
            "0.7927631578947368\n",
            "Test Error: \n",
            " Accuracy: 72.4%, Avg loss: 0.530643 \n",
            "\n",
            "Epoch 100\n",
            "-------------------------------\n",
            "loss: 0.388411  [   10/  608]\n",
            "0.3884113132953644\n",
            "0.7927631578947368\n",
            "Test Error: \n",
            " Accuracy: 72.4%, Avg loss: 0.506547 \n",
            "\n",
            "Done!\n"
          ]
        }
      ],
      "source": [
        "''' 4.Train the neural network. Run the training loop and train the neural network on the training data. Select the number of epochs and batch size.\n",
        " Monitor the training loss and the validation loss at each epoch to ensure that the model is not overfitting to the training data.\n",
        "'''\n",
        "baseacc_list = []\n",
        "traininglosses=[]\n",
        "trainingAcc = []\n",
        "testlosses = []\n",
        "epochs = 100\n",
        "testAcc_list = 0\n",
        "testloss_list=0\n",
        "\n",
        "for t in range(epochs):\n",
        "    print(f\"Epoch {t+1}\\n-------------------------------\")\n",
        "    trainingloss_list, trainAcc_list =train_loop(train_dataloader, model, loss_fn, optimizer)\n",
        "    traininglosses.append(trainingloss_list)\n",
        "    trainingAcc.append(trainAcc_list*100)\n",
        "    y_predList,y_valList,testAcc_list,testloss_list = test_loop(test_dataloader, model, loss_fn)\n",
        "    baseacc_list.append(testAcc_list*100)\n",
        "    testlosses.append(testloss_list)\n",
        "    \n",
        "print(\"Done!\")"
      ],
      "id": "6393f690"
    },
    {
      "cell_type": "code",
      "execution_count": 56,
      "metadata": {
        "colab": {
          "base_uri": "https://localhost:8080/",
          "height": 489
        },
        "id": "veR3fI7tagwv",
        "outputId": "572056d8-b9af-4fd6-cb34-6e14088f468e"
      },
      "outputs": [
        {
          "output_type": "execute_result",
          "data": {
            "text/plain": [
              "Text(0.5, 1.0, 'TRAIN LOSS PLOT Vs TEST LOSS ')"
            ]
          },
          "metadata": {},
          "execution_count": 56
        },
        {
          "output_type": "display_data",
          "data": {
            "text/plain": [
              "<Figure size 640x480 with 1 Axes>"
            ],
            "image/png": "[encoded data removed]"
          },
          "metadata": {}
        }
      ],
      "source": [
        "import matplotlib.pyplot as plt\n",
        "l=[i for i in range(len(traininglosses))]\n",
        "plt.plot(l,traininglosses)\n",
        "plt.plot(l,testlosses)\n",
        "plt.xlabel(\"EPOCHES\")\n",
        "plt.ylabel(\"LOSS\")\n",
        "plt.title(\"TRAIN LOSS PLOT Vs TEST LOSS \")"
      ],
      "id": "veR3fI7tagwv"
    },
    {
      "cell_type": "code",
      "execution_count": 57,
      "metadata": {
        "colab": {
          "base_uri": "https://localhost:8080/",
          "height": 489
        },
        "id": "NSkxqT-jbXg9",
        "outputId": "32fafceb-c02b-462f-dc3f-864a3f70c7b7"
      },
      "outputs": [
        {
          "output_type": "execute_result",
          "data": {
            "text/plain": [
              "Text(0.5, 1.0, 'TRAIN ACC PLOT Vs TEST ACC ')"
            ]
          },
          "metadata": {},
          "execution_count": 57
        },
        {
          "output_type": "display_data",
          "data": {
            "text/plain": [
              "<Figure size 640x480 with 1 Axes>"
            ],
            "image/png": "[encoded data removed]"
          },
          "metadata": {}
        }
      ],
      "source": [
        "import matplotlib.pyplot as plt\n",
        "l=[i for i in range(len(traininglosses))]\n",
        "plt.plot(l,trainingAcc)\n",
        "plt.plot(l,baseacc_list)\n",
        "plt.xlabel(\"EPOCHES\")\n",
        "plt.ylabel(\"LOSS\")\n",
        "plt.title(\"TRAIN ACC PLOT Vs TEST ACC \")"
      ],
      "id": "NSkxqT-jbXg9"
    },
    {
      "cell_type": "code",
      "execution_count": 58,
      "metadata": {
        "id": "5a83da63"
      },
      "outputs": [],
      "source": [
        "# 5. Evaluate the performance of the model on the testing data.\n",
        "# The expected accuracy for this task is more than 75%.\n",
        "  # the testing accuracy is 80.9% with the following hyperparameters\n",
        "   # - learning_rate = 1e-3\n",
        "   # - batch_size = 10\n",
        "   # - epochs = 100\n",
        "   # - loss function = CrossEntropyLoss\n",
        "   # - optimizer = SGD"
      ],
      "id": "5a83da63"
    },
    {
      "cell_type": "code",
      "execution_count": 59,
      "metadata": {
        "colab": {
          "base_uri": "https://localhost:8080/"
        },
        "id": "zMNbXtliB5Zb",
        "outputId": "e4662b28-d3b1-4f3b-8f94-0c67772b6dec"
      },
      "outputs": [
        {
          "output_type": "execute_result",
          "data": {
            "text/plain": [
              "OrderedDict([('linear_relu_stack.0.weight',\n",
              "              tensor([[ 2.1099e-01,  1.1591e-02,  2.8984e-01,  2.4204e-01,  3.6198e-01,\n",
              "                       -7.6305e-02,  2.4736e-01],\n",
              "                      [ 2.2592e-02,  2.6988e-01,  3.4158e-01, -1.0654e-02,  3.1444e-01,\n",
              "                       -4.2555e-02, -3.3247e-02],\n",
              "                      [ 3.1127e-01,  3.1228e-01,  8.6067e-02, -1.7405e-01, -3.4682e-01,\n",
              "                        1.2896e-01,  9.4593e-02],\n",
              "                      [-2.8773e-01, -7.7251e-02,  1.8930e-01,  2.6126e-01, -3.4653e-01,\n",
              "                       -8.6309e-02, -8.9126e-02],\n",
              "                      [ 1.6043e-01,  9.0498e-02,  2.7771e-01, -1.6115e-01,  1.1802e-01,\n",
              "                       -7.1112e-02, -4.3577e-02],\n",
              "                      [-3.0257e-01,  1.7380e-01, -1.4332e-01, -1.1376e-01,  1.6086e-01,\n",
              "                        2.0961e-01,  5.5679e-02],\n",
              "                      [-3.0496e-01, -1.0882e-01,  2.9220e-01,  3.0598e-01, -1.4703e-01,\n",
              "                       -1.8030e-01,  2.8744e-01],\n",
              "                      [ 6.7118e-02, -1.8968e-01, -2.5918e-01,  8.3329e-02, -2.0807e-01,\n",
              "                        3.4041e-01, -2.4968e-01],\n",
              "                      [-5.6965e-02,  2.5748e-01,  1.7244e-01, -1.8685e-01,  3.0636e-01,\n",
              "                       -2.3344e-02,  2.5833e-02],\n",
              "                      [-1.3710e-01,  2.4487e-01,  2.1936e-01,  1.9582e-01,  2.6508e-01,\n",
              "                        4.3798e-02, -2.2738e-01],\n",
              "                      [ 6.4228e-02, -1.4089e-01,  2.7364e-01,  3.4733e-01, -2.5948e-01,\n",
              "                       -1.4402e-01, -1.3381e-01],\n",
              "                      [ 1.8592e-01,  1.0441e-01, -1.9546e-01,  2.4641e-01,  1.1089e-01,\n",
              "                       -1.1645e-01, -1.2488e-01],\n",
              "                      [ 2.0278e-02,  3.7919e-01,  7.5712e-02, -3.8176e-02, -9.7370e-02,\n",
              "                        1.7613e-01,  8.8646e-02],\n",
              "                      [-8.0574e-02,  1.6574e-02,  1.4707e-01, -3.3909e-01,  3.5327e-01,\n",
              "                       -1.1579e-01, -3.1140e-01],\n",
              "                      [-1.1798e-01, -9.9683e-02,  6.7143e-02,  3.0853e-01,  8.3032e-02,\n",
              "                        1.8985e-01, -1.3628e-02],\n",
              "                      [-2.5547e-01,  2.7976e-01, -3.3505e-01, -1.5010e-01,  2.5705e-02,\n",
              "                        3.0497e-02, -3.6775e-01],\n",
              "                      [ 1.0583e-01,  3.1072e-01, -3.4390e-01, -2.0408e-01,  3.0917e-01,\n",
              "                        3.6892e-01, -5.6797e-02],\n",
              "                      [-2.9710e-01, -1.8564e-01,  2.2035e-01, -1.4813e-02, -1.6086e-02,\n",
              "                       -6.5628e-03, -3.7351e-01],\n",
              "                      [-2.8518e-01,  3.5466e-01,  3.2435e-01, -1.4173e-01,  3.5053e-01,\n",
              "                        4.1047e-02, -2.3166e-01],\n",
              "                      [ 2.3098e-01, -1.4058e-01, -2.8689e-01, -1.4419e-01, -6.3876e-03,\n",
              "                        3.4188e-03, -1.9723e-01],\n",
              "                      [-1.5111e-02,  3.5569e-02,  2.3004e-01, -2.3350e-01,  3.3245e-01,\n",
              "                       -2.1713e-01,  1.8688e-01],\n",
              "                      [ 1.2635e-01,  3.4495e-02,  3.7156e-01,  2.2784e-01,  3.2261e-01,\n",
              "                        1.8614e-01, -3.2827e-02],\n",
              "                      [ 3.3241e-01, -2.1643e-01, -2.7500e-01, -2.5980e-01,  3.2399e-01,\n",
              "                        1.9127e-01,  3.7085e-01],\n",
              "                      [ 8.5600e-02,  1.2918e-01,  2.0807e-01, -1.3502e-01, -5.8153e-02,\n",
              "                        6.7238e-02, -3.1896e-01],\n",
              "                      [ 2.2085e-01,  1.0424e-01,  9.5412e-02, -3.0394e-01,  3.6743e-02,\n",
              "                       -1.4764e-01, -1.2294e-01],\n",
              "                      [-2.9098e-01,  1.9424e-01, -3.7515e-01, -3.3923e-01, -3.5923e-01,\n",
              "                        2.1565e-01,  1.9660e-01],\n",
              "                      [-9.8096e-02, -1.0368e-01, -1.9594e-01, -1.7518e-01, -2.3111e-01,\n",
              "                       -2.7040e-01, -1.0733e-01],\n",
              "                      [ 4.8119e-02,  1.8278e-01, -2.0875e-01, -2.1375e-01, -1.4005e-02,\n",
              "                       -3.1644e-01,  1.6585e-01],\n",
              "                      [-1.6223e-01, -2.5785e-02, -1.5410e-01,  1.6655e-01, -3.3482e-01,\n",
              "                       -1.7420e-01,  3.1616e-01],\n",
              "                      [-3.3738e-01, -2.6782e-01, -3.8152e-01, -3.5892e-01, -2.3172e-01,\n",
              "                        1.2188e-01, -1.4423e-01],\n",
              "                      [ 1.7816e-01,  2.0442e-01,  1.3675e-01,  5.0249e-02,  2.7721e-01,\n",
              "                        4.6633e-02,  2.6211e-01],\n",
              "                      [ 2.8728e-01, -2.4712e-01, -2.2083e-01,  1.4201e-01,  2.2109e-01,\n",
              "                        5.6378e-02,  1.8356e-01],\n",
              "                      [-1.4231e-01, -2.7830e-01,  1.8519e-01, -3.5103e-01,  2.7020e-01,\n",
              "                        3.1414e-01, -3.6475e-02],\n",
              "                      [-1.6840e-01,  2.9554e-01, -5.5643e-02, -4.4615e-03,  7.7250e-02,\n",
              "                       -1.3700e-04, -1.9709e-01],\n",
              "                      [-2.9931e-01,  8.2180e-02,  2.6979e-01, -1.4343e-03, -8.7502e-02,\n",
              "                        2.4687e-01,  1.0770e-01],\n",
              "                      [ 2.1048e-01, -1.6232e-01,  1.0970e-01,  3.0154e-02, -2.9402e-01,\n",
              "                       -3.3698e-01,  2.0429e-01],\n",
              "                      [-2.4255e-01,  1.1226e-01, -1.5748e-01, -1.8811e-01,  2.4636e-01,\n",
              "                       -1.3578e-02, -4.0164e-02],\n",
              "                      [ 1.6991e-01, -3.0348e-01,  9.7951e-02,  3.6458e-01, -3.1532e-01,\n",
              "                        2.8410e-01,  7.5046e-02],\n",
              "                      [ 7.7132e-02,  3.7650e-02, -1.0665e-01, -9.4844e-02, -3.2504e-01,\n",
              "                        5.5539e-02, -1.4729e-02],\n",
              "                      [ 7.8498e-02, -2.2590e-01,  4.6816e-02, -3.5900e-01, -1.9481e-01,\n",
              "                       -2.4322e-01, -1.4814e-01],\n",
              "                      [-3.4772e-01,  6.4824e-02,  2.3850e-01, -2.9857e-01, -4.8895e-02,\n",
              "                       -2.2265e-01,  3.2853e-01],\n",
              "                      [-1.1209e-01, -2.7291e-01,  1.2993e-01,  2.7987e-01,  8.2650e-02,\n",
              "                        4.0797e-02, -7.8363e-02],\n",
              "                      [ 1.6706e-01,  3.3432e-01,  2.0010e-01, -6.6372e-02,  1.1968e-01,\n",
              "                       -1.5412e-01, -3.7822e-01],\n",
              "                      [ 3.6744e-01,  2.8610e-01, -7.9019e-02,  1.5315e-01, -2.1048e-01,\n",
              "                        2.5862e-01, -6.7084e-02],\n",
              "                      [-6.8141e-02, -1.4157e-01,  3.7364e-01, -2.4901e-01, -2.9456e-01,\n",
              "                       -1.2030e-01, -2.7717e-01],\n",
              "                      [ 3.9923e-03, -3.7722e-01,  2.3368e-01,  2.9585e-01, -3.0100e-01,\n",
              "                       -3.6687e-01, -1.2977e-03],\n",
              "                      [-1.8901e-01,  2.6239e-01,  3.5447e-01,  2.6225e-01, -9.1833e-02,\n",
              "                        2.0808e-01, -1.8103e-01],\n",
              "                      [-2.7883e-01, -2.9628e-01, -2.5381e-01,  4.5167e-02, -3.4983e-01,\n",
              "                        3.3818e-01, -2.6567e-01],\n",
              "                      [-2.3044e-02, -4.9414e-03, -8.4214e-02,  6.4613e-02,  6.0567e-02,\n",
              "                        3.1674e-01, -2.4293e-01],\n",
              "                      [-1.4567e-01,  2.9003e-01,  3.3748e-01, -1.8847e-01, -1.6468e-01,\n",
              "                       -2.9991e-01,  3.4868e-01],\n",
              "                      [ 1.4595e-01, -3.7239e-01, -2.1253e-01,  1.5591e-01,  3.6878e-01,\n",
              "                       -1.6889e-01,  1.8674e-01],\n",
              "                      [ 1.1581e-01,  2.9592e-01, -1.5947e-01,  2.4532e-01, -3.7073e-01,\n",
              "                       -8.6739e-02,  3.7494e-02],\n",
              "                      [ 3.4392e-01,  7.4580e-02,  1.8281e-01,  1.2444e-01,  2.0819e-01,\n",
              "                       -6.5174e-02, -1.5315e-01],\n",
              "                      [ 3.4746e-01,  3.1120e-01, -1.7772e-02, -1.7109e-01,  2.6997e-01,\n",
              "                        2.3503e-01,  7.2497e-02],\n",
              "                      [-1.6097e-01, -9.4532e-02,  3.7064e-02,  1.7093e-01,  2.2368e-01,\n",
              "                       -1.8392e-01,  2.1758e-01],\n",
              "                      [ 3.4773e-01,  9.6751e-02, -6.9740e-02, -2.1688e-02,  2.3634e-01,\n",
              "                       -1.0533e-01,  1.1507e-02],\n",
              "                      [ 1.2073e-01, -2.5476e-01, -3.4723e-01,  3.0290e-02,  2.1523e-01,\n",
              "                       -2.3770e-01, -7.2311e-02],\n",
              "                      [ 1.0127e-01,  2.7783e-02,  1.8987e-01,  2.5803e-01, -1.5396e-02,\n",
              "                       -3.2994e-01, -3.6663e-01],\n",
              "                      [-1.5696e-01, -1.3110e-02,  2.2507e-01, -2.4987e-01, -7.2262e-02,\n",
              "                       -3.7585e-01,  2.8122e-01],\n",
              "                      [-1.5607e-01, -3.0747e-01,  2.0351e-03,  1.0541e-01,  1.0004e-01,\n",
              "                       -8.0483e-02,  2.5866e-01],\n",
              "                      [ 1.9672e-01,  1.1985e-01,  1.3773e-01, -1.0968e-01,  3.6914e-01,\n",
              "                       -3.1333e-01, -1.2988e-01],\n",
              "                      [-1.9667e-01, -2.8145e-02, -2.6945e-01, -3.5749e-01, -1.4723e-01,\n",
              "                       -1.3631e-01, -1.6610e-01],\n",
              "                      [-2.7232e-01,  1.8736e-01,  2.5918e-01, -2.3878e-01,  2.8179e-01,\n",
              "                        3.1657e-01, -2.9236e-01],\n",
              "                      [-2.5820e-01,  2.8649e-01, -1.0263e-01,  2.3231e-01, -1.9486e-01,\n",
              "                       -1.9467e-01, -3.4297e-01],\n",
              "                      [ 1.3239e-01, -1.3880e-02,  9.2432e-03,  1.4980e-01,  9.8118e-02,\n",
              "                        3.5535e-01,  2.5311e-01],\n",
              "                      [ 9.1513e-02, -4.7460e-02, -6.5697e-02,  3.5266e-01,  3.7709e-01,\n",
              "                       -3.6590e-01,  3.1861e-01],\n",
              "                      [ 8.9088e-02,  1.3739e-01,  1.3038e-01,  2.6878e-01,  3.3247e-01,\n",
              "                       -2.9294e-01,  1.7453e-01],\n",
              "                      [-3.0662e-01,  2.7696e-01, -3.2181e-01,  1.5378e-01, -1.1708e-01,\n",
              "                        3.6954e-01, -3.1834e-01],\n",
              "                      [ 2.6422e-01,  2.6240e-01, -1.6414e-01, -3.7471e-01,  1.9041e-01,\n",
              "                        3.6348e-01,  1.3658e-01],\n",
              "                      [-3.4866e-01,  1.8265e-01,  3.0917e-01, -1.8820e-01, -1.3036e-02,\n",
              "                       -1.7927e-01,  5.3505e-02],\n",
              "                      [ 3.5041e-01,  7.0473e-02,  2.3010e-01,  1.9532e-01, -2.4349e-01,\n",
              "                        2.6232e-01,  6.9703e-02],\n",
              "                      [ 1.8992e-02,  3.7659e-01,  3.1434e-01,  8.2125e-02,  7.7559e-03,\n",
              "                        3.1358e-01, -2.0483e-01],\n",
              "                      [ 5.9523e-02,  3.0332e-01,  2.0397e-01,  4.7878e-03,  3.9762e-02,\n",
              "                        2.1302e-01,  7.4241e-02],\n",
              "                      [-2.4457e-01, -3.3380e-01, -2.9921e-01,  1.3235e-01,  2.3281e-01,\n",
              "                       -1.7556e-02,  7.2283e-02],\n",
              "                      [ 2.1767e-01, -2.2417e-01,  2.7456e-01,  1.9712e-01,  6.9405e-02,\n",
              "                        3.2882e-01, -4.4483e-02],\n",
              "                      [-3.6713e-01, -2.8967e-01, -2.5081e-01, -1.9123e-01, -7.3157e-02,\n",
              "                        2.0417e-02, -1.4226e-02],\n",
              "                      [ 3.5288e-01,  9.7355e-02,  2.5140e-01, -3.2925e-03,  1.1263e-01,\n",
              "                       -3.8838e-02, -8.1063e-02],\n",
              "                      [ 9.4797e-02, -2.4023e-01, -1.6077e-01,  2.1529e-01, -1.9356e-01,\n",
              "                       -2.8568e-01, -9.1777e-02],\n",
              "                      [ 3.7666e-01,  2.1908e-01,  4.2432e-02,  2.7648e-01, -1.1356e-01,\n",
              "                        2.4476e-01,  2.0266e-01],\n",
              "                      [-3.5658e-01, -1.6890e-01,  1.3091e-01, -1.5436e-01,  3.7236e-01,\n",
              "                        5.9655e-02, -1.1240e-01],\n",
              "                      [ 5.1427e-02,  2.4830e-01, -2.5112e-01,  6.1829e-02, -1.3723e-01,\n",
              "                        2.9848e-01, -1.3691e-01],\n",
              "                      [ 1.6216e-01, -2.5736e-01,  7.1457e-02,  2.9863e-01,  3.5488e-01,\n",
              "                        4.9617e-02, -4.6940e-02],\n",
              "                      [-3.6792e-01,  3.3660e-01,  7.1481e-02,  3.1142e-01, -5.3485e-02,\n",
              "                        1.7968e-01,  9.9249e-02],\n",
              "                      [ 3.1671e-01,  2.8680e-01, -2.1146e-01, -1.8468e-01, -1.4430e-01,\n",
              "                        1.5519e-01, -1.1073e-01],\n",
              "                      [-7.3156e-02, -3.6902e-01,  1.6894e-01, -2.5223e-01, -5.4949e-02,\n",
              "                        1.1286e-01,  1.0136e-01],\n",
              "                      [-3.4725e-01, -3.7323e-01, -2.9687e-01, -1.7739e-03, -2.1804e-01,\n",
              "                        1.7203e-01, -6.7201e-02],\n",
              "                      [-1.7234e-01,  8.4709e-02, -1.9068e-01, -1.2116e-01,  1.2499e-01,\n",
              "                       -1.7532e-01, -1.4215e-01],\n",
              "                      [ 2.6227e-01,  3.7546e-01,  1.6998e-01, -5.5985e-02, -3.6483e-01,\n",
              "                       -6.4300e-02, -3.2848e-01],\n",
              "                      [-2.4998e-01, -3.3100e-01,  3.6378e-01,  2.2445e-02,  1.1438e-01,\n",
              "                        2.2835e-01, -9.8022e-02],\n",
              "                      [-6.8278e-02, -1.5569e-01,  3.4855e-01, -2.9792e-01,  1.1116e-01,\n",
              "                       -3.4008e-01, -7.0843e-02],\n",
              "                      [ 2.5622e-01,  2.9175e-01, -1.6737e-01,  3.5039e-01,  2.5681e-01,\n",
              "                       -2.9505e-02,  1.6394e-01],\n",
              "                      [-3.7330e-01, -5.1311e-02,  2.6766e-01,  2.9628e-01, -3.0815e-01,\n",
              "                        9.9504e-02,  1.2642e-01],\n",
              "                      [ 3.6490e-01,  3.5896e-02, -9.3662e-02,  6.3077e-02,  3.7591e-02,\n",
              "                       -2.4250e-02,  1.7809e-01],\n",
              "                      [ 3.1793e-01,  1.0355e-01,  2.6903e-01, -3.2479e-01,  2.1086e-02,\n",
              "                        1.7233e-01, -2.0923e-01],\n",
              "                      [-2.4543e-01,  2.8989e-01, -5.8690e-02, -2.3011e-01,  2.9228e-02,\n",
              "                        2.9592e-01, -1.3583e-01],\n",
              "                      [-2.9096e-01,  5.5962e-02, -1.1497e-01, -5.5230e-02, -3.2436e-01,\n",
              "                        2.0111e-01,  1.1985e-01],\n",
              "                      [-2.9815e-02, -3.6895e-01,  3.0752e-01,  7.9603e-02, -2.2030e-01,\n",
              "                        3.6924e-01,  1.0724e-01],\n",
              "                      [ 7.5279e-02,  1.6508e-01,  2.2631e-01,  2.8194e-01,  9.1772e-02,\n",
              "                        2.1785e-01,  1.7658e-01],\n",
              "                      [ 2.6360e-01,  1.8834e-01,  3.4232e-01,  2.8474e-02, -3.6019e-01,\n",
              "                       -2.1295e-01, -9.7293e-02],\n",
              "                      [ 3.6027e-01,  1.5082e-01, -3.5639e-01, -3.1471e-02, -1.6409e-01,\n",
              "                       -2.1498e-01,  1.4018e-01],\n",
              "                      [ 3.0984e-01,  1.9870e-01, -3.5207e-01,  1.3586e-01,  3.1304e-02,\n",
              "                       -3.4969e-01,  9.4705e-04],\n",
              "                      [-4.3558e-02,  1.5685e-01,  2.4411e-02, -8.3334e-02, -1.1176e-02,\n",
              "                        1.8659e-01, -2.5638e-01],\n",
              "                      [ 1.5662e-01,  1.8212e-01, -1.0279e-01,  2.4752e-01,  1.8110e-01,\n",
              "                        6.0261e-03, -1.5820e-01],\n",
              "                      [-1.0694e-01,  6.6333e-02,  1.7834e-02,  2.8969e-01,  5.1021e-02,\n",
              "                       -2.2793e-01,  1.7627e-01],\n",
              "                      [-2.2580e-01, -7.2108e-02,  1.7659e-01, -3.6918e-01,  1.1236e-01,\n",
              "                        2.0063e-02,  7.5001e-02],\n",
              "                      [-1.1159e-01, -2.7118e-01,  2.9269e-01,  3.0990e-01, -1.4707e-01,\n",
              "                        1.3589e-01, -9.8167e-03],\n",
              "                      [ 3.5076e-01,  3.1252e-01, -2.5396e-01,  3.7093e-01,  2.0824e-01,\n",
              "                        3.2424e-01, -5.3150e-02],\n",
              "                      [ 2.7959e-02, -3.1027e-01,  1.1192e-01, -1.3205e-01, -2.8780e-01,\n",
              "                        3.5442e-01, -2.9508e-01],\n",
              "                      [ 2.5559e-01,  1.0355e-01,  2.2336e-01,  3.4670e-01,  3.3185e-01,\n",
              "                       -6.8353e-02, -4.7258e-02],\n",
              "                      [-3.1951e-01,  2.0046e-01,  1.8351e-01, -3.8097e-01, -3.6580e-01,\n",
              "                        3.1042e-01, -3.2512e-01],\n",
              "                      [-1.7554e-01, -2.7648e-01, -2.1233e-02,  8.5177e-02, -1.4034e-01,\n",
              "                        1.6622e-01,  8.2687e-02],\n",
              "                      [-1.2922e-01,  1.8185e-01,  1.6372e-01,  3.0045e-02, -1.5373e-01,\n",
              "                       -2.1334e-01, -4.4550e-02],\n",
              "                      [ 9.9512e-02,  2.7207e-01,  3.6289e-01,  1.8082e-03, -5.2917e-02,\n",
              "                       -5.9631e-03,  3.3111e-01],\n",
              "                      [-9.4046e-02, -2.7650e-02,  3.6297e-01, -5.9568e-02, -3.0837e-01,\n",
              "                       -1.9328e-01, -1.4085e-02],\n",
              "                      [-2.5479e-01, -2.1840e-01, -6.1843e-03,  2.3216e-01,  2.2761e-01,\n",
              "                       -3.0348e-01,  8.3035e-02],\n",
              "                      [ 2.1233e-01,  1.4880e-02,  1.8499e-02, -1.7101e-01,  3.5997e-01,\n",
              "                       -3.0079e-01,  1.0828e-01],\n",
              "                      [-5.7540e-02, -2.8115e-01,  7.8492e-02, -2.4042e-01, -1.4926e-01,\n",
              "                        1.2950e-01, -1.9353e-01],\n",
              "                      [ 1.4395e-01, -1.6763e-01, -2.2233e-01,  1.6176e-01, -1.9846e-01,\n",
              "                       -1.7823e-01,  3.6846e-01],\n",
              "                      [ 3.3771e-01, -1.1144e-01,  3.7619e-01, -7.4694e-02, -1.1021e-01,\n",
              "                        1.8650e-01, -9.2455e-02],\n",
              "                      [ 3.0487e-01,  2.0348e-01, -2.9453e-01,  1.1909e-01,  2.2914e-01,\n",
              "                       -9.5836e-02,  9.8902e-02],\n",
              "                      [-3.7731e-01, -1.6854e-01, -5.7364e-02,  3.5639e-01,  9.3460e-02,\n",
              "                       -3.6229e-01, -2.9817e-01],\n",
              "                      [-1.4787e-01,  2.0155e-01,  9.9464e-02,  5.9258e-02, -3.2460e-01,\n",
              "                        2.8724e-03, -1.4693e-02],\n",
              "                      [ 2.6742e-01, -2.6943e-01,  3.5823e-01,  6.4296e-03,  1.8761e-01,\n",
              "                        3.3891e-01,  8.3077e-02],\n",
              "                      [ 3.1567e-01, -1.7560e-01, -2.4491e-01, -2.8754e-01,  3.6149e-01,\n",
              "                       -4.6288e-02, -3.4492e-01],\n",
              "                      [-3.3227e-02, -1.6619e-01, -6.2261e-02, -3.0742e-01,  2.7917e-02,\n",
              "                       -6.2431e-02, -2.3624e-01],\n",
              "                      [-3.3714e-01, -1.7489e-01, -3.0868e-01, -3.5810e-02,  1.7752e-01,\n",
              "                        9.1637e-02,  2.7939e-01],\n",
              "                      [ 1.0485e-02, -9.6142e-02,  2.5653e-01,  9.3769e-03, -1.3184e-01,\n",
              "                       -8.8492e-03,  1.6916e-01],\n",
              "                      [ 1.8994e-01, -1.7176e-01,  2.8574e-01,  2.0197e-01, -1.7433e-01,\n",
              "                        3.4395e-01, -8.2499e-02]])),\n",
              "             ('linear_relu_stack.0.bias',\n",
              "              tensor([-0.3513, -0.3565,  0.0567,  0.1433,  0.2730,  0.0686,  0.0260,  0.2885,\n",
              "                      -0.1225,  0.0315,  0.3475,  0.0547, -0.3199, -0.3042, -0.2478,  0.1658,\n",
              "                       0.1310, -0.2003,  0.2600, -0.0682, -0.1329, -0.2070,  0.2947,  0.0468,\n",
              "                       0.0233,  0.1670, -0.1881,  0.0448,  0.3887,  0.2862,  0.3676,  0.3649,\n",
              "                      -0.1332, -0.2892,  0.1436,  0.2996, -0.3487,  0.1365,  0.3313, -0.3450,\n",
              "                      -0.2926,  0.3209, -0.1168, -0.0189,  0.3381,  0.2531,  0.1954, -0.0440,\n",
              "                       0.1682,  0.1839, -0.1644, -0.2563,  0.1214,  0.0967, -0.2987,  0.2439,\n",
              "                      -0.0128,  0.2678, -0.2617,  0.2978, -0.0285,  0.1295,  0.1827,  0.1577,\n",
              "                       0.0075, -0.1829,  0.1743, -0.3570, -0.0428, -0.3598,  0.2480, -0.3709,\n",
              "                       0.0609,  0.3641, -0.3660,  0.0788,  0.3135, -0.0211,  0.1116,  0.1492,\n",
              "                       0.2924,  0.0227,  0.0220, -0.1681,  0.2546, -0.3004,  0.3709, -0.3632,\n",
              "                      -0.0339, -0.1203, -0.0855, -0.1196, -0.0719,  0.2807, -0.1343,  0.3215,\n",
              "                       0.1778,  0.2948, -0.3663, -0.1319,  0.3634, -0.2226, -0.0938,  0.2819,\n",
              "                       0.0563, -0.2432,  0.1967, -0.2680, -0.3750, -0.2449,  0.0055,  0.3483,\n",
              "                       0.0226, -0.3356, -0.0370, -0.2976,  0.0941,  0.2184,  0.1454,  0.0789,\n",
              "                       0.0782, -0.1337,  0.2202, -0.2548,  0.1284,  0.2716,  0.2478, -0.1449])),\n",
              "             ('linear_relu_stack.2.weight',\n",
              "              tensor([[-0.0871, -0.0262,  0.0808,  ..., -0.0386,  0.0189, -0.0864],\n",
              "                      [-0.0218,  0.0109, -0.0501,  ..., -0.0753,  0.0534,  0.0187],\n",
              "                      [-0.0732,  0.0060,  0.0105,  ..., -0.0783,  0.0153,  0.0745],\n",
              "                      ...,\n",
              "                      [ 0.0306,  0.0336,  0.0569,  ..., -0.0505, -0.0524, -0.0562],\n",
              "                      [ 0.0659, -0.0042, -0.1071,  ...,  0.0081, -0.0041, -0.0052],\n",
              "                      [ 0.0432,  0.0443,  0.0001,  ...,  0.0606, -0.0530, -0.0284]])),\n",
              "             ('linear_relu_stack.2.bias',\n",
              "              tensor([-0.0308,  0.0750, -0.0216, -0.0563, -0.0626,  0.0011, -0.0681,  0.0298,\n",
              "                      -0.0858,  0.0031, -0.0249, -0.0794, -0.0497, -0.0799,  0.0502, -0.0591,\n",
              "                       0.0564,  0.0557,  0.0322,  0.0808,  0.1445, -0.0321,  0.0565, -0.0796,\n",
              "                      -0.0083,  0.0215, -0.0703, -0.0084, -0.0126,  0.0310,  0.0341,  0.0614,\n",
              "                       0.0920,  0.0135,  0.0607,  0.0506,  0.0103,  0.0033, -0.0138, -0.0383,\n",
              "                       0.0557,  0.0853,  0.0028, -0.0489,  0.0303,  0.0460, -0.0270, -0.0020,\n",
              "                      -0.0500, -0.0211,  0.0115,  0.0110, -0.0110, -0.0264,  0.0967, -0.0224,\n",
              "                      -0.0643,  0.0247,  0.0340,  0.0396,  0.0609,  0.0607, -0.0739,  0.0305,\n",
              "                       0.0715, -0.0118,  0.1005, -0.0109, -0.0780,  0.0186,  0.0112, -0.0531,\n",
              "                       0.0476, -0.0578, -0.0677, -0.0641, -0.0424, -0.0637, -0.0568, -0.0551,\n",
              "                       0.0900, -0.0197,  0.0825, -0.0516, -0.0093, -0.0850, -0.0733, -0.0171,\n",
              "                       0.0304,  0.0568,  0.0857, -0.0719,  0.0878,  0.0292, -0.0060, -0.0926,\n",
              "                      -0.0555, -0.0027,  0.0459, -0.0264,  0.0089, -0.0125, -0.0057,  0.0660,\n",
              "                       0.0280,  0.0677, -0.0346, -0.0583, -0.0761, -0.0700, -0.0461, -0.0847,\n",
              "                       0.0334,  0.0421, -0.0514, -0.0097, -0.0248,  0.0163,  0.0273,  0.0577,\n",
              "                      -0.0154, -0.0638, -0.0137, -0.0409,  0.0991, -0.0254,  0.0130, -0.0384])),\n",
              "             ('linear_relu_stack.4.weight',\n",
              "              tensor([[-0.0772,  0.0176,  0.0887,  0.0742, -0.0693, -0.0187, -0.1606, -0.0175,\n",
              "                       -0.0676,  0.0309, -0.0812, -0.0494, -0.0213, -0.0800, -0.0740,  0.0524,\n",
              "                       -0.0443,  0.0697,  0.1037, -0.0892,  0.2189, -0.0116,  0.0265,  0.0330,\n",
              "                        0.0365,  0.0298,  0.0310,  0.1364, -0.0195, -0.0794,  0.0103,  0.1828,\n",
              "                        0.0401, -0.0543, -0.0513, -0.0656, -0.0771, -0.0845, -0.0755,  0.0622,\n",
              "                       -0.0659,  0.0003, -0.0346, -0.0863,  0.0255, -0.0516, -0.0774,  0.0585,\n",
              "                       -0.0284, -0.0046, -0.0220, -0.0216, -0.1500, -0.0805,  0.1335, -0.0047,\n",
              "                        0.0800,  0.0968, -0.0200, -0.0966, -0.0168, -0.0023, -0.0560, -0.0373,\n",
              "                       -0.0249,  0.1064,  0.1366, -0.0272,  0.0249,  0.0230, -0.0242,  0.0446,\n",
              "                       -0.0580, -0.0457, -0.0279, -0.1049, -0.0155, -0.0935, -0.0728, -0.1177,\n",
              "                        0.1343,  0.0148,  0.0427, -0.0472, -0.0232,  0.0374, -0.0416,  0.0085,\n",
              "                       -0.0141,  0.1756, -0.0049,  0.0248,  0.0153,  0.0245,  0.1101, -0.0835,\n",
              "                       -0.0266,  0.0837, -0.0242,  0.0538,  0.0441, -0.0545, -0.0012, -0.0009,\n",
              "                       -0.0043,  0.0321, -0.0866, -0.0552,  0.0471,  0.0369, -0.0801,  0.0373,\n",
              "                       -0.0182,  0.0825, -0.0620, -0.0730,  0.0627, -0.0324, -0.0320, -0.0611,\n",
              "                       -0.0547, -0.0476, -0.0638,  0.0017,  0.0411, -0.0873,  0.1387,  0.0595],\n",
              "                      [-0.0623,  0.0574,  0.0379, -0.0820, -0.0212, -0.0353,  0.1462, -0.0966,\n",
              "                       -0.0440,  0.0173,  0.0851, -0.0592, -0.0878,  0.0537,  0.0132, -0.0321,\n",
              "                        0.0225, -0.0788,  0.0247, -0.0035, -0.2470,  0.0958,  0.0633, -0.0209,\n",
              "                       -0.0890, -0.0172, -0.0556, -0.0979,  0.0557,  0.0273,  0.0616, -0.1913,\n",
              "                       -0.0351, -0.0298,  0.0897,  0.1170,  0.0139, -0.0152,  0.0749, -0.0158,\n",
              "                       -0.0167, -0.0137,  0.1180,  0.0803, -0.0440, -0.0377,  0.0322,  0.0287,\n",
              "                       -0.1036,  0.0137, -0.1157, -0.0509,  0.1873,  0.1368, -0.1303,  0.0694,\n",
              "                       -0.0111, -0.0078,  0.0981, -0.0157, -0.0173,  0.0081,  0.0433,  0.0117,\n",
              "                        0.0194, -0.0371, -0.0335,  0.0095, -0.0094, -0.0927, -0.1044,  0.0321,\n",
              "                       -0.0333,  0.0293, -0.0313, -0.0215,  0.0071,  0.0262,  0.0504,  0.0948,\n",
              "                       -0.1458, -0.0220, -0.0154,  0.0177,  0.0332, -0.0134,  0.0333, -0.0328,\n",
              "                       -0.0219, -0.1724,  0.0996,  0.0407,  0.0751,  0.0120, -0.0150,  0.0678,\n",
              "                        0.0815,  0.0891,  0.0816, -0.0441, -0.0648, -0.0649, -0.0408,  0.0239,\n",
              "                       -0.0427, -0.0026, -0.0043,  0.0287,  0.0342,  0.0425, -0.0567,  0.0691,\n",
              "                       -0.0220, -0.0777, -0.0675,  0.0638, -0.0173, -0.0367, -0.0564, -0.0134,\n",
              "                       -0.0311,  0.1071,  0.0464,  0.0418, -0.0607,  0.1021, -0.1481,  0.0440]])),\n",
              "             ('linear_relu_stack.4.bias', tensor([ 0.1301, -0.1936]))])"
            ]
          },
          "metadata": {},
          "execution_count": 59
        }
      ],
      "source": [
        "# 6. Save the weights of the trained neural network.\n",
        "\n",
        "model.state_dict()"
      ],
      "id": "zMNbXtliB5Zb"
    },
    {
      "cell_type": "markdown",
      "source": [],
      "metadata": {
        "id": "vjLjVdHo7gpX"
      },
      "id": "vjLjVdHo7gpX"
    },
    {
      "cell_type": "code",
      "execution_count": 65,
      "metadata": {
        "colab": {
          "base_uri": "https://localhost:8080/"
        },
        "id": "YDeZ-l82ZcGc",
        "outputId": "2ab96bfb-d1b7-466a-f47a-297c8b5daa7a"
      },
      "outputs": [
        {
          "output_type": "stream",
          "name": "stdout",
          "text": [
            "Drive already mounted at /content/gdrive; to attempt to forcibly remount, call drive.mount(\"/content/gdrive\", force_remount=True).\n"
          ]
        }
      ],
      "source": [
        "from google.colab import drive\n",
        "drive.mount('/content/gdrive')\n",
        "\n",
        "model_path = '/content/gdrive/My Drive/models/my_model.pth'\n",
        "torch.save(model,model_path)"
      ],
      "id": "YDeZ-l82ZcGc"
    },
    {
      "cell_type": "code",
      "execution_count": 68,
      "metadata": {
        "colab": {
          "base_uri": "https://localhost:8080/"
        },
        "id": "t955j7YWiG1U",
        "outputId": "7e6b2103-b1b5-4f80-e6a9-6fe269fdcf74"
      },
      "outputs": [
        {
          "output_type": "execute_result",
          "data": {
            "text/plain": [
              "NeuralNetwork(\n",
              "  (flatten): Flatten(start_dim=1, end_dim=-1)\n",
              "  (linear_relu_stack): Sequential(\n",
              "    (0): Linear(in_features=7, out_features=128, bias=True)\n",
              "    (1): ReLU()\n",
              "    (2): Linear(in_features=128, out_features=128, bias=True)\n",
              "    (3): ReLU()\n",
              "    (4): Linear(in_features=128, out_features=2, bias=True)\n",
              "  )\n",
              ")"
            ]
          },
          "metadata": {},
          "execution_count": 68
        }
      ],
      "source": [
        "# Model class must be defined somewhere\n",
        "state_dict = torch.load(model_path)\n",
        "\n",
        "# Create an instance of the model\n",
        "model = NeuralNetwork()\n",
        "\n",
        "# Load the state dictionary into the model\n",
        "model.load_state_dict(state_dict)\n",
        "\n",
        "model.eval()"
      ],
      "id": "t955j7YWiG1U"
    },
    {
      "cell_type": "code",
      "execution_count": null,
      "metadata": {
        "id": "NNtAWzDknEXI"
      },
      "outputs": [],
      "source": [
        "  # 7.Visualize the results.Use visualization techniques such as confusion matrices.\n",
        "\n",
        "# confusion Matrix\n",
        "from sklearn.metrics import confusion_matrix\n",
        "confusion_mat = confusion_matrix(y_valList,y_predList)\n",
        "confusion_mat"
      ],
      "id": "NNtAWzDknEXI"
    },
    {
      "cell_type": "code",
      "execution_count": null,
      "metadata": {
        "id": "WRmfAkZ3SJFL"
      },
      "outputs": [],
      "source": [
        "plt.figure(figsize=(8, 6))\n",
        "sns.heatmap(confusion_mat, annot=True, cmap=\"YlGnBu\", fmt='g')\n",
        "plt.xlabel('Predicted labels')\n",
        "plt.ylabel('True labels')\n",
        "plt.title('Confusion Matrix')\n",
        "plt.show()"
      ],
      "id": "WRmfAkZ3SJFL"
    },
    {
      "cell_type": "code",
      "execution_count": null,
      "metadata": {
        "id": "5u3MR8BQq5ue"
      },
      "outputs": [],
      "source": [
        "## Part II: Optimizing NN"
      ],
      "id": "5u3MR8BQq5ue"
    },
    {
      "cell_type": "code",
      "execution_count": null,
      "metadata": {
        "id": "_RgsJZkuJF5D"
      },
      "outputs": [],
      "source": [
        "#1.Dropout"
      ],
      "id": "_RgsJZkuJF5D"
    },
    {
      "cell_type": "code",
      "execution_count": null,
      "metadata": {
        "id": "LqkPyGCYvp1D"
      },
      "outputs": [],
      "source": [
        "# STEP-1 : Choose one hyperparameter to modify(e.g.Dropout).\n",
        "# Fix the NN structure and all other parameters, and change values only for your chosen hyperparameter. \n",
        "\n",
        "class NeuralNetwork(nn.Module):\n",
        "    def __init__(self, dropout_rate):\n",
        "        super().__init__()\n",
        "        self.flatten = nn.Flatten()\n",
        "        self.linear_relu_stack = nn.Sequential(\n",
        "            nn.Linear(7, 128),\n",
        "            nn.ReLU(),\n",
        "            nn.Dropout(p=dropout_rate),\n",
        "            nn.Linear(128, 128),\n",
        "            nn.ReLU(),\n",
        "            nn.Dropout(p=dropout_rate),\n",
        "            nn.Linear(128, 2),\n",
        "        )\n",
        "\n",
        "    def forward(self, x):\n",
        "        x = self.flatten(x)\n",
        "        logits = self.linear_relu_stack(x)\n",
        "        return logits\n"
      ],
      "id": "LqkPyGCYvp1D"
    },
    {
      "cell_type": "code",
      "execution_count": null,
      "metadata": {
        "id": "Bd0yZvv925n1"
      },
      "outputs": [],
      "source": [
        "model = NeuralNetwork(0.2).to(device)\n",
        "print(model)"
      ],
      "id": "Bd0yZvv925n1"
    },
    {
      "cell_type": "code",
      "execution_count": null,
      "metadata": {
        "id": "AmT1JiL53yIS"
      },
      "outputs": [],
      "source": [
        "# epochs = 100\n",
        "# for t in range(epochs):\n",
        "#     print(f\"Epoch {t+1}\\n-------------------------------\")\n",
        "#     train_loop(train_dataloader, model, loss_fn, optimizer)\n",
        "#     test_loop(test_dataloader, model, loss_fn)\n",
        "# print(\"Done!\")\n",
        "\n",
        "\n",
        "baseacc_list = []\n",
        "traininglosses=[]\n",
        "trainingAcc = []\n",
        "testlosses = []\n",
        "epochs = 100\n",
        "testAcc_list = 0\n",
        "testloss_list=0\n",
        "\n",
        "for t in range(epochs):\n",
        "    print(f\"Epoch {t+1}\\n-------------------------------\")\n",
        "    trainingloss_list, trainAcc_list =train_loop(train_dataloader, model, loss_fn, optimizer)\n",
        "    traininglosses.append(trainingloss_list)\n",
        "    trainingAcc.append(trainAcc_list*100)\n",
        "    y_predList,y_valList,testAcc_list,testloss_list = test_loop(test_dataloader, model, loss_fn)\n",
        "    baseacc_list.append(testAcc_list*100)\n",
        "    testlosses.append(testloss_list)\n",
        "print(\"Done!\")"
      ],
      "id": "AmT1JiL53yIS"
    },
    {
      "cell_type": "code",
      "execution_count": null,
      "metadata": {
        "id": "8rHEaMkacx6O"
      },
      "outputs": [],
      "source": [
        "import matplotlib.pyplot as plt\n",
        "l=[i for i in range(len(traininglosses))]\n",
        "plt.plot(l,trainingAcc)\n",
        "plt.plot(l,baseacc_list)\n",
        "plt.xlabel(\"EPOCHES\")\n",
        "plt.ylabel(\"LOSS\")\n",
        "plt.title(\"TRAIN ACC PLOT Vs TEST ACC WITH DROPOUT 0.2 \")"
      ],
      "id": "8rHEaMkacx6O"
    },
    {
      "cell_type": "code",
      "execution_count": null,
      "metadata": {
        "id": "DKqp-_cw5MdR"
      },
      "outputs": [],
      "source": [
        "model = NeuralNetwork(0.4).to(device)\n",
        "print(model)"
      ],
      "id": "DKqp-_cw5MdR"
    },
    {
      "cell_type": "code",
      "execution_count": null,
      "metadata": {
        "id": "QelPvqs55YM7"
      },
      "outputs": [],
      "source": [
        "baseacc_list = []\n",
        "traininglosses=[]\n",
        "trainingAcc = []\n",
        "testlosses = []\n",
        "epochs = 100\n",
        "testAcc_list = 0\n",
        "testloss_list=0\n",
        "\n",
        "for t in range(epochs):\n",
        "    print(f\"Epoch {t+1}\\n-------------------------------\")\n",
        "    trainingloss_list, trainAcc_list =train_loop(train_dataloader, model, loss_fn, optimizer)\n",
        "    traininglosses.append(trainingloss_list)\n",
        "    trainingAcc.append(trainAcc_list*100)\n",
        "    y_predList,y_valList,testAcc_list,testloss_list = test_loop(test_dataloader, model, loss_fn)\n",
        "    baseacc_list.append(testAcc_list*100)\n",
        "    testlosses.append(testloss_list)\n",
        "print(\"Done!\")"
      ],
      "id": "QelPvqs55YM7"
    },
    {
      "cell_type": "code",
      "execution_count": null,
      "metadata": {
        "id": "eqYzcdlZeCpM"
      },
      "outputs": [],
      "source": [
        "import matplotlib.pyplot as plt\n",
        "l=[i for i in range(len(traininglosses))]\n",
        "plt.plot(l,trainingAcc)\n",
        "plt.plot(l,baseacc_list)\n",
        "plt.xlabel(\"EPOCHES\")\n",
        "plt.ylabel(\"LOSS\")\n",
        "plt.title(\"TRAIN ACC PLOT Vs TEST ACC WITH DROPOUT 0.4 \")"
      ],
      "id": "eqYzcdlZeCpM"
    },
    {
      "cell_type": "code",
      "execution_count": null,
      "metadata": {
        "id": "1nwQuDbQ5cDJ"
      },
      "outputs": [],
      "source": [
        "model = NeuralNetwork(0.6).to(device)\n",
        "print(model)"
      ],
      "id": "1nwQuDbQ5cDJ"
    },
    {
      "cell_type": "code",
      "execution_count": null,
      "metadata": {
        "id": "i27IIS4h5pmj"
      },
      "outputs": [],
      "source": [
        "baseacc_list = []\n",
        "traininglosses=[]\n",
        "trainingAcc = []\n",
        "testlosses = []\n",
        "epochs = 100\n",
        "testAcc_list = 0\n",
        "testloss_list=0\n",
        "\n",
        "for t in range(epochs):\n",
        "    print(f\"Epoch {t+1}\\n-------------------------------\")\n",
        "    trainingloss_list, trainAcc_list =train_loop(train_dataloader, model, loss_fn, optimizer)\n",
        "    traininglosses.append(trainingloss_list)\n",
        "    trainingAcc.append(trainAcc_list*100)\n",
        "    y_predList,y_valList,testAcc_list,testloss_list = test_loop(test_dataloader, model, loss_fn)\n",
        "    baseacc_list.append(testAcc_list*100)\n",
        "    testlosses.append(testloss_list)\n",
        "print(\"Done!\")"
      ],
      "id": "i27IIS4h5pmj"
    },
    {
      "cell_type": "code",
      "execution_count": null,
      "metadata": {
        "id": "JUbJKJ8keGuJ"
      },
      "outputs": [],
      "source": [
        "import matplotlib.pyplot as plt\n",
        "l=[i for i in range(len(traininglosses))]\n",
        "plt.plot(l,trainingAcc)\n",
        "plt.plot(l,baseacc_list)\n",
        "plt.xlabel(\"EPOCHES\")\n",
        "plt.ylabel(\"LOSS\")\n",
        "plt.title(\"TRAIN ACC PLOT Vs TEST ACC WITH DROPOUT 0.6 \")"
      ],
      "id": "JUbJKJ8keGuJ"
    },
    {
      "cell_type": "code",
      "execution_count": null,
      "metadata": {
        "id": "Gn9kcu1l5s7q"
      },
      "outputs": [],
      "source": [
        "#2 Optimizer"
      ],
      "id": "Gn9kcu1l5s7q"
    },
    {
      "cell_type": "code",
      "execution_count": null,
      "metadata": {
        "id": "7u4LZDG3_vlm"
      },
      "outputs": [],
      "source": [
        "class NeuralNetwork(nn.Module):\n",
        "    def __init__(self):\n",
        "        super().__init__()\n",
        "        self.flatten = nn.Flatten()\n",
        "        self.linear_relu_stack = nn.Sequential(\n",
        "            nn.Linear(7, 128),\n",
        "            nn.ReLU(),\n",
        "            nn.Linear(128, 128),\n",
        "            nn.ReLU(),\n",
        "            nn.Linear(128, 2),\n",
        "        )\n",
        "\n",
        "    def forward(self, x):\n",
        "        x = self.flatten(x)\n",
        "        logits = self.linear_relu_stack(x)\n",
        "        return logits"
      ],
      "id": "7u4LZDG3_vlm"
    },
    {
      "cell_type": "code",
      "execution_count": null,
      "metadata": {
        "id": "3-aoKB5EJ2f6"
      },
      "outputs": [],
      "source": [
        "model = NeuralNetwork().to(device)\n",
        "print(model)"
      ],
      "id": "3-aoKB5EJ2f6"
    },
    {
      "cell_type": "code",
      "execution_count": null,
      "metadata": {
        "id": "GZXQNeWqJ6Gx"
      },
      "outputs": [],
      "source": [
        "#Hyperparameters\n",
        "#Number of Epochs - the number times to iterate over the dataset\n",
        "#Batch Size - the number of data samples propagated through the network before the parameters are updated\n",
        "#Learning Rate - how much to update models parameters at each batch/epoch. Smaller values yield slow learning speed, while large values may result in unpredictable behavior during training.\n",
        "\n",
        "learning_rate = 1e-3\n",
        "batch_size = 10\n",
        "epochs = 100\n",
        "\n",
        "# Initialize the loss function and optimizer\n",
        "loss_fn = nn.CrossEntropyLoss()\n",
        "optimizer = torch.optim.RMSprop(model.parameters(), lr=learning_rate)\n"
      ],
      "id": "GZXQNeWqJ6Gx"
    },
    {
      "cell_type": "code",
      "execution_count": null,
      "metadata": {
        "id": "b00GC2SNN-8Q"
      },
      "outputs": [],
      "source": [
        "baseacc_list = []\n",
        "traininglosses=[]\n",
        "trainingAcc = []\n",
        "testlosses = []\n",
        "epochs = 100\n",
        "testAcc_list = 0\n",
        "testloss_list=0\n",
        "\n",
        "for t in range(epochs):\n",
        "    print(f\"Epoch {t+1}\\n-------------------------------\")\n",
        "    trainingloss_list, trainAcc_list =train_loop(train_dataloader, model, loss_fn, optimizer)\n",
        "    traininglosses.append(trainingloss_list)\n",
        "    trainingAcc.append(trainAcc_list*100)\n",
        "    y_predList,y_valList,testAcc_list,testloss_list = test_loop(test_dataloader, model, loss_fn)\n",
        "    baseacc_list.append(testAcc_list*100)\n",
        "    testlosses.append(testloss_list)\n",
        "print(\"Done!\")"
      ],
      "id": "b00GC2SNN-8Q"
    },
    {
      "cell_type": "code",
      "execution_count": null,
      "metadata": {
        "id": "RBMb7_5amMOq"
      },
      "outputs": [],
      "source": [
        "import matplotlib.pyplot as plt\n",
        "l=[i for i in range(len(traininglosses))]\n",
        "plt.plot(l,trainingAcc)\n",
        "plt.plot(l,baseacc_list)\n",
        "plt.xlabel(\"EPOCHES\")\n",
        "plt.ylabel(\"LOSS\")\n",
        "plt.title(\"TRAIN ACC PLOT Vs TEST ACC WITH Optimizer as RMSprop \")"
      ],
      "id": "RBMb7_5amMOq"
    },
    {
      "cell_type": "code",
      "execution_count": null,
      "metadata": {
        "id": "-3UEj4VZODaJ"
      },
      "outputs": [],
      "source": [
        "#Hyperparameters\n",
        "#Number of Epochs - the number times to iterate over the dataset\n",
        "#Batch Size - the number of data samples propagated through the network before the parameters are updated\n",
        "#Learning Rate - how much to update models parameters at each batch/epoch. Smaller values yield slow learning speed, while large values may result in unpredictable behavior during training.\n",
        "\n",
        "learning_rate = 1e-3\n",
        "batch_size = 10\n",
        "epochs = 100\n",
        "\n",
        "# Initialize the loss function and optimizer\n",
        "loss_fn = nn.CrossEntropyLoss()\n",
        "optimizer = torch.optim.Adam(model.parameters(), lr=learning_rate)"
      ],
      "id": "-3UEj4VZODaJ"
    },
    {
      "cell_type": "code",
      "execution_count": null,
      "metadata": {
        "id": "5CMFtIWiOg5Q"
      },
      "outputs": [],
      "source": [
        "baseacc_list = []\n",
        "traininglosses=[]\n",
        "trainingAcc = []\n",
        "testlosses = []\n",
        "epochs = 100\n",
        "testAcc_list = 0\n",
        "testloss_list=0\n",
        "\n",
        "for t in range(epochs):\n",
        "    print(f\"Epoch {t+1}\\n-------------------------------\")\n",
        "    trainingloss_list, trainAcc_list =train_loop(train_dataloader, model, loss_fn, optimizer)\n",
        "    traininglosses.append(trainingloss_list)\n",
        "    trainingAcc.append(trainAcc_list*100)\n",
        "    y_predList,y_valList,testAcc_list,testloss_list = test_loop(test_dataloader, model, loss_fn)\n",
        "    baseacc_list.append(testAcc_list*100)\n",
        "    testlosses.append(testloss_list)\n",
        "print(\"Done!\")"
      ],
      "id": "5CMFtIWiOg5Q"
    },
    {
      "cell_type": "code",
      "execution_count": null,
      "metadata": {
        "id": "Ums9XYCfmqf3"
      },
      "outputs": [],
      "source": [
        "import matplotlib.pyplot as plt\n",
        "l=[i for i in range(len(traininglosses))]\n",
        "plt.plot(l,trainingAcc)\n",
        "plt.plot(l,baseacc_list)\n",
        "plt.xlabel(\"EPOCHES\")\n",
        "plt.ylabel(\"LOSS\")\n",
        "plt.title(\"TRAIN ACC PLOT Vs TEST ACC WITH Optimizer as ADAM \")"
      ],
      "id": "Ums9XYCfmqf3"
    },
    {
      "cell_type": "code",
      "execution_count": null,
      "metadata": {
        "id": "4BxOadqcOlGW"
      },
      "outputs": [],
      "source": [
        "learning_rate = 1e-3\n",
        "batch_size = 10\n",
        "epochs = 100\n",
        "\n",
        "# Initialize the loss function and optimizer\n",
        "loss_fn = nn.CrossEntropyLoss()\n",
        "optimizer = torch.optim.Adagrad(model.parameters(), lr=learning_rate)"
      ],
      "id": "4BxOadqcOlGW"
    },
    {
      "cell_type": "code",
      "execution_count": null,
      "metadata": {
        "id": "V6W-m1vXTKik"
      },
      "outputs": [],
      "source": [
        "baseacc_list = []\n",
        "traininglosses=[]\n",
        "trainingAcc = []\n",
        "testlosses = []\n",
        "epochs = 100\n",
        "testAcc_list = 0\n",
        "testloss_list=0\n",
        "\n",
        "for t in range(epochs):\n",
        "    print(f\"Epoch {t+1}\\n-------------------------------\")\n",
        "    trainingloss_list, trainAcc_list =train_loop(train_dataloader, model, loss_fn, optimizer)\n",
        "    traininglosses.append(trainingloss_list)\n",
        "    trainingAcc.append(trainAcc_list*100)\n",
        "    y_predList,y_valList,testAcc_list,testloss_list = test_loop(test_dataloader, model, loss_fn)\n",
        "    baseacc_list.append(testAcc_list*100)\n",
        "    testlosses.append(testloss_list)\n",
        "print(\"Done!\")"
      ],
      "id": "V6W-m1vXTKik"
    },
    {
      "cell_type": "code",
      "execution_count": null,
      "metadata": {
        "id": "B7HjxCwcm8eW"
      },
      "outputs": [],
      "source": [
        "import matplotlib.pyplot as plt\n",
        "l=[i for i in range(len(traininglosses))]\n",
        "plt.plot(l,trainingAcc)\n",
        "plt.plot(l,baseacc_list)\n",
        "plt.xlabel(\"EPOCHES\")\n",
        "plt.ylabel(\"LOSS\")\n",
        "plt.title(\"TRAIN ACC PLOT Vs TEST ACC WITH Optimizer as ADAGRAD \")"
      ],
      "id": "B7HjxCwcm8eW"
    },
    {
      "cell_type": "code",
      "execution_count": null,
      "metadata": {
        "id": "G7BlOV-OTRI0"
      },
      "outputs": [],
      "source": [
        "#3 Activation Function: LeakyReLU(0.1)"
      ],
      "id": "G7BlOV-OTRI0"
    },
    {
      "cell_type": "code",
      "execution_count": null,
      "metadata": {
        "id": "Nm5tF_SuT7sQ"
      },
      "outputs": [],
      "source": [
        "class NeuralNetwork(nn.Module):\n",
        "    def __init__(self):\n",
        "        super().__init__()\n",
        "        self.flatten = nn.Flatten()\n",
        "        self.linear_relu_stack = nn.Sequential(\n",
        "            nn.Linear(7, 128),\n",
        "            nn.LeakyReLU(0.1),\n",
        "            nn.Linear(128, 128),\n",
        "            nn.LeakyReLU(0.1),\n",
        "            nn.Linear(128, 2),\n",
        "        )\n",
        "\n",
        "    def forward(self, x):\n",
        "        x = self.flatten(x)\n",
        "        logits = self.linear_relu_stack(x)\n",
        "        return logits"
      ],
      "id": "Nm5tF_SuT7sQ"
    },
    {
      "cell_type": "code",
      "execution_count": null,
      "metadata": {
        "id": "0T6SR6GmwWMA"
      },
      "outputs": [],
      "source": [
        "model = NeuralNetwork().to(device)\n",
        "print(model)"
      ],
      "id": "0T6SR6GmwWMA"
    },
    {
      "cell_type": "code",
      "execution_count": null,
      "metadata": {
        "id": "LX4ONyoXwmUL"
      },
      "outputs": [],
      "source": [
        "learning_rate = 1e-3\n",
        "batch_size = 10\n",
        "epochs = 100\n",
        "\n",
        "# Initialize the loss function and optimizer\n",
        "loss_fn = nn.CrossEntropyLoss()\n",
        "optimizer = torch.optim.SGD(model.parameters(), lr=learning_rate)"
      ],
      "id": "LX4ONyoXwmUL"
    },
    {
      "cell_type": "code",
      "execution_count": null,
      "metadata": {
        "id": "pwzqA336xcCU"
      },
      "outputs": [],
      "source": [
        "baseacc_list = []\n",
        "traininglosses=[]\n",
        "trainingAcc = []\n",
        "testlosses = []\n",
        "epochs = 100\n",
        "testAcc_list = 0\n",
        "testloss_list=0\n",
        "\n",
        "for t in range(epochs):\n",
        "    print(f\"Epoch {t+1}\\n-------------------------------\")\n",
        "    trainingloss_list, trainAcc_list =train_loop(train_dataloader, model, loss_fn, optimizer)\n",
        "    traininglosses.append(trainingloss_list)\n",
        "    trainingAcc.append(trainAcc_list*100)\n",
        "    y_predList,y_valList,testAcc_list,testloss_list = test_loop(test_dataloader, model, loss_fn)\n",
        "    baseacc_list.append(testAcc_list*100)\n",
        "    testlosses.append(testloss_list)\n",
        "print(\"Done!\")"
      ],
      "id": "pwzqA336xcCU"
    },
    {
      "cell_type": "code",
      "execution_count": null,
      "metadata": {
        "id": "atlkc6HFnFtO"
      },
      "outputs": [],
      "source": [
        "import matplotlib.pyplot as plt\n",
        "l=[i for i in range(len(traininglosses))]\n",
        "plt.plot(l,trainingAcc)\n",
        "plt.plot(l,baseacc_list)\n",
        "plt.xlabel(\"EPOCHES\")\n",
        "plt.ylabel(\"LOSS\")\n",
        "plt.title(\"TRAIN ACC PLOT Vs TEST ACC WITH Activation function Leaky ReLU \")"
      ],
      "id": "atlkc6HFnFtO"
    },
    {
      "cell_type": "code",
      "execution_count": null,
      "metadata": {
        "id": "gJQ-4htSxgHX"
      },
      "outputs": [],
      "source": [
        "class NeuralNetwork(nn.Module):\n",
        "    def __init__(self):\n",
        "        super().__init__()\n",
        "        self.flatten = nn.Flatten()\n",
        "        self.linear_relu_stack = nn.Sequential(\n",
        "            nn.Linear(7, 128),\n",
        "            nn.Tanh(),\n",
        "            nn.Linear(128, 128),\n",
        "            nn.Tanh(),\n",
        "            nn.Linear(128, 2),\n",
        "        )\n",
        "\n",
        "    def forward(self, x):\n",
        "        x = self.flatten(x)\n",
        "        logits = self.linear_relu_stack(x)\n",
        "        return logits"
      ],
      "id": "gJQ-4htSxgHX"
    },
    {
      "cell_type": "code",
      "execution_count": null,
      "metadata": {
        "id": "jJUkat7M1eLO"
      },
      "outputs": [],
      "source": [
        "model = NeuralNetwork().to(device)\n",
        "print(model)"
      ],
      "id": "jJUkat7M1eLO"
    },
    {
      "cell_type": "code",
      "execution_count": null,
      "metadata": {
        "id": "QDVu-H731jtq"
      },
      "outputs": [],
      "source": [
        "learning_rate = 1e-3\n",
        "batch_size = 10\n",
        "epochs = 100\n",
        "\n",
        "# Initialize the loss function and optimizer\n",
        "loss_fn = nn.CrossEntropyLoss()\n",
        "optimizer = torch.optim.SGD(model.parameters(), lr=learning_rate)"
      ],
      "id": "QDVu-H731jtq"
    },
    {
      "cell_type": "code",
      "execution_count": null,
      "metadata": {
        "id": "QdGRZZu71tEG"
      },
      "outputs": [],
      "source": [
        "baseacc_list = []\n",
        "traininglosses=[]\n",
        "trainingAcc = []\n",
        "testlosses = []\n",
        "epochs = 100\n",
        "testAcc_list = 0\n",
        "testloss_list=0\n",
        "\n",
        "for t in range(epochs):\n",
        "    print(f\"Epoch {t+1}\\n-------------------------------\")\n",
        "    trainingloss_list, trainAcc_list =train_loop(train_dataloader, model, loss_fn, optimizer)\n",
        "    traininglosses.append(trainingloss_list)\n",
        "    trainingAcc.append(trainAcc_list*100)\n",
        "    y_predList,y_valList,testAcc_list,testloss_list = test_loop(test_dataloader, model, loss_fn)\n",
        "    baseacc_list.append(testAcc_list*100)\n",
        "    testlosses.append(testloss_list)\n",
        "print(\"Done!\")"
      ],
      "id": "QdGRZZu71tEG"
    },
    {
      "cell_type": "code",
      "execution_count": null,
      "metadata": {
        "id": "fkFdTWRfnHIG"
      },
      "outputs": [],
      "source": [
        "import matplotlib.pyplot as plt\n",
        "l=[i for i in range(len(traininglosses))]\n",
        "plt.plot(l,trainingAcc)\n",
        "plt.plot(l,baseacc_list)\n",
        "plt.xlabel(\"EPOCHES\")\n",
        "plt.ylabel(\"LOSS\")\n",
        "plt.title(\"TRAIN ACC PLOT Vs TEST ACC WITH ACtivation Function Tanh \")"
      ],
      "id": "fkFdTWRfnHIG"
    },
    {
      "cell_type": "code",
      "execution_count": null,
      "metadata": {
        "id": "0as-ZBdm1xq5"
      },
      "outputs": [],
      "source": [
        "class NeuralNetwork(nn.Module):\n",
        "    def __init__(self):\n",
        "        super().__init__()\n",
        "        self.flatten = nn.Flatten()\n",
        "        self.linear_relu_stack = nn.Sequential(\n",
        "            nn.Linear(7, 128),\n",
        "            nn.PReLU(),\n",
        "            nn.Linear(128, 128),\n",
        "            nn.PReLU(),\n",
        "            nn.Linear(128, 2),\n",
        "        )\n",
        "\n",
        "    def forward(self, x):\n",
        "        x = self.flatten(x)\n",
        "        logits = self.linear_relu_stack(x)\n",
        "        return logits"
      ],
      "id": "0as-ZBdm1xq5"
    },
    {
      "cell_type": "code",
      "execution_count": null,
      "metadata": {
        "id": "KZhE7ct6SStS"
      },
      "outputs": [],
      "source": [
        "model = NeuralNetwork().to(device)\n",
        "print(model)"
      ],
      "id": "KZhE7ct6SStS"
    },
    {
      "cell_type": "code",
      "execution_count": null,
      "metadata": {
        "id": "_LxTCSb8SWbK"
      },
      "outputs": [],
      "source": [
        "learning_rate = 1e-3\n",
        "batch_size = 10\n",
        "epochs = 100\n",
        "\n",
        "# Initialize the loss function and optimizer\n",
        "loss_fn = nn.CrossEntropyLoss()\n",
        "optimizer = torch.optim.SGD(model.parameters(), lr=learning_rate)"
      ],
      "id": "_LxTCSb8SWbK"
    },
    {
      "cell_type": "code",
      "execution_count": null,
      "metadata": {
        "id": "Ge00EUeGSZ-i"
      },
      "outputs": [],
      "source": [
        "baseacc_list = []\n",
        "traininglosses=[]\n",
        "trainingAcc = []\n",
        "testlosses = []\n",
        "epochs = 100\n",
        "testAcc_list = 0\n",
        "testloss_list=0\n",
        "\n",
        "for t in range(epochs):\n",
        "    print(f\"Epoch {t+1}\\n-------------------------------\")\n",
        "    trainingloss_list, trainAcc_list =train_loop(train_dataloader, model, loss_fn, optimizer)\n",
        "    traininglosses.append(trainingloss_list)\n",
        "    trainingAcc.append(trainAcc_list*100)\n",
        "    y_predList,y_valList,testAcc_list,testloss_list = test_loop(test_dataloader, model, loss_fn)\n",
        "    baseacc_list.append(testAcc_list*100)\n",
        "    testlosses.append(testloss_list)\n",
        "print(\"Done!\")"
      ],
      "id": "Ge00EUeGSZ-i"
    },
    {
      "cell_type": "code",
      "execution_count": null,
      "metadata": {
        "id": "IYXQhOnJnJD_"
      },
      "outputs": [],
      "source": [
        "import matplotlib.pyplot as plt\n",
        "l=[i for i in range(len(traininglosses))]\n",
        "plt.plot(l,trainingAcc)\n",
        "plt.plot(l,baseacc_list)\n",
        "plt.xlabel(\"EPOCHES\")\n",
        "plt.ylabel(\"LOSS\")\n",
        "plt.title(\"TRAIN ACC PLOT Vs TEST ACC WITH Activation function PerLU \")"
      ],
      "id": "IYXQhOnJnJD_"
    },
    {
      "cell_type": "code",
      "execution_count": null,
      "metadata": {
        "id": "emjgIBIjSd6f"
      },
      "outputs": [],
      "source": [
        "# 4 Initializer"
      ],
      "id": "emjgIBIjSd6f"
    },
    {
      "cell_type": "code",
      "execution_count": null,
      "metadata": {
        "id": "zKCf-rOfTYum"
      },
      "outputs": [],
      "source": [
        "import torch.nn as nn\n",
        "import torch.nn.init as init\n",
        "\n",
        "class NeuralNetwork(nn.Module):\n",
        "    def __init__(self):\n",
        "        super().__init__()\n",
        "        self.flatten = nn.Flatten()\n",
        "        self.linear_relu_stack = nn.Sequential(\n",
        "            nn.Linear(7, 128),\n",
        "            nn.ReLU(),\n",
        "            nn.Linear(128, 128),\n",
        "            nn.ReLU(),\n",
        "            nn.Linear(128, 2),\n",
        "        )\n",
        "        for layer in self.linear_relu_stack:\n",
        "            if isinstance(layer, nn.Linear):\n",
        "                init.xavier_uniform_(layer.weight)\n",
        "\n",
        "    def forward(self, x):\n",
        "        x = self.flatten(x)\n",
        "        logits = self.linear_relu_stack(x)\n",
        "        return logits"
      ],
      "id": "zKCf-rOfTYum"
    },
    {
      "cell_type": "code",
      "execution_count": null,
      "metadata": {
        "id": "jynXqekAApoT"
      },
      "outputs": [],
      "source": [
        "model = NeuralNetwork().to(device)\n",
        "print(model)"
      ],
      "id": "jynXqekAApoT"
    },
    {
      "cell_type": "code",
      "execution_count": null,
      "metadata": {
        "id": "CLCKQb_xDr8w"
      },
      "outputs": [],
      "source": [
        "learning_rate = 1e-3\n",
        "batch_size = 10\n",
        "epochs = 100\n",
        "\n",
        "# Initialize the loss function and optimizer\n",
        "loss_fn = nn.CrossEntropyLoss()\n",
        "optimizer = torch.optim.SGD(model.parameters(), lr=learning_rate)"
      ],
      "id": "CLCKQb_xDr8w"
    },
    {
      "cell_type": "code",
      "execution_count": null,
      "metadata": {
        "id": "DSpuaqL8Dv-m"
      },
      "outputs": [],
      "source": [
        "baseacc_list = []\n",
        "traininglosses=[]\n",
        "trainingAcc = []\n",
        "testlosses = []\n",
        "epochs = 100\n",
        "testAcc_list = 0\n",
        "testloss_list=0\n",
        "\n",
        "for t in range(epochs):\n",
        "    print(f\"Epoch {t+1}\\n-------------------------------\")\n",
        "    trainingloss_list, trainAcc_list =train_loop(train_dataloader, model, loss_fn, optimizer)\n",
        "    traininglosses.append(trainingloss_list)\n",
        "    trainingAcc.append(trainAcc_list*100)\n",
        "    y_predList,y_valList,testAcc_list,testloss_list = test_loop(test_dataloader, model, loss_fn)\n",
        "    baseacc_list.append(testAcc_list*100)\n",
        "    testlosses.append(testloss_list)\n",
        "print(\"Done!\")"
      ],
      "id": "DSpuaqL8Dv-m"
    },
    {
      "cell_type": "code",
      "execution_count": null,
      "metadata": {
        "id": "5OLs3f49woQo"
      },
      "outputs": [],
      "source": [
        "import matplotlib.pyplot as plt\n",
        "l=[i for i in range(len(traininglosses))]\n",
        "plt.plot(l,trainingAcc)\n",
        "plt.plot(l,baseacc_list)\n",
        "plt.xlabel(\"EPOCHES\")\n",
        "plt.ylabel(\"LOSS\")\n",
        "plt.title(\"TRAIN ACC PLOT Vs TEST ACC WITH Weight Initialiser as Xavier \")"
      ],
      "id": "5OLs3f49woQo"
    },
    {
      "cell_type": "code",
      "execution_count": null,
      "metadata": {
        "id": "YEKsgXlhEzKn"
      },
      "outputs": [],
      "source": [
        "import torch.nn as nn\n",
        "import torch.nn.init as init\n",
        "\n",
        "class NeuralNetwork(nn.Module):\n",
        "    def __init__(self):\n",
        "        super().__init__()\n",
        "        self.flatten = nn.Flatten()\n",
        "        self.linear_relu_stack = nn.Sequential(\n",
        "            nn.Linear(7, 128),\n",
        "            nn.ReLU(),\n",
        "            nn.Linear(128, 128),\n",
        "            nn.ReLU(),\n",
        "            nn.Linear(128, 2),\n",
        "        )\n",
        "\n",
        "        for m in self.modules():\n",
        "            if isinstance(m, nn.Linear):\n",
        "                nn.init.kaiming_uniform_(m.weight, mode='fan_in', nonlinearity='relu')\n",
        "\n",
        "    def forward(self, x):\n",
        "        x = self.flatten(x)\n",
        "        logits = self.linear_relu_stack(x)\n",
        "        return logits\n"
      ],
      "id": "YEKsgXlhEzKn"
    },
    {
      "cell_type": "code",
      "execution_count": null,
      "metadata": {
        "id": "mQwsfEAcE5dW"
      },
      "outputs": [],
      "source": [
        "model = NeuralNetwork().to(device)\n",
        "print(model)"
      ],
      "id": "mQwsfEAcE5dW"
    },
    {
      "cell_type": "code",
      "execution_count": null,
      "metadata": {
        "id": "TaTFH1uAE_bI"
      },
      "outputs": [],
      "source": [
        "learning_rate = 1e-3\n",
        "batch_size = 10\n",
        "epochs = 100\n",
        "\n",
        "# Initialize the loss function and optimizer\n",
        "loss_fn = nn.CrossEntropyLoss()\n",
        "optimizer = torch.optim.SGD(model.parameters(), lr=learning_rate)"
      ],
      "id": "TaTFH1uAE_bI"
    },
    {
      "cell_type": "code",
      "execution_count": null,
      "metadata": {
        "id": "7t5zCGsQFUKE"
      },
      "outputs": [],
      "source": [
        "baseacc_list = []\n",
        "traininglosses=[]\n",
        "trainingAcc = []\n",
        "testlosses = []\n",
        "epochs = 100\n",
        "testAcc_list = 0\n",
        "testloss_list=0\n",
        "\n",
        "for t in range(epochs):\n",
        "    print(f\"Epoch {t+1}\\n-------------------------------\")\n",
        "    trainingloss_list, trainAcc_list =train_loop(train_dataloader, model, loss_fn, optimizer)\n",
        "    traininglosses.append(trainingloss_list)\n",
        "    trainingAcc.append(trainAcc_list*100)\n",
        "    y_predList,y_valList,testAcc_list,testloss_list = test_loop(test_dataloader, model, loss_fn)\n",
        "    baseacc_list.append(testAcc_list*100)\n",
        "    testlosses.append(testloss_list)\n",
        "print(\"Done!\")"
      ],
      "id": "7t5zCGsQFUKE"
    },
    {
      "cell_type": "code",
      "execution_count": null,
      "metadata": {
        "id": "k2twAvGbw1K3"
      },
      "outputs": [],
      "source": [
        "import matplotlib.pyplot as plt\n",
        "l=[i for i in range(len(traininglosses))]\n",
        "plt.plot(l,trainingAcc)\n",
        "plt.plot(l,baseacc_list)\n",
        "plt.xlabel(\"EPOCHES\")\n",
        "plt.ylabel(\"LOSS\")\n",
        "plt.title(\"TRAIN ACC PLOT Vs TEST ACC WITH Weight Intializer as Kaiming \")"
      ],
      "id": "k2twAvGbw1K3"
    },
    {
      "cell_type": "code",
      "execution_count": null,
      "metadata": {
        "id": "JXMajVQQFYVf"
      },
      "outputs": [],
      "source": [
        "def custom_init(m):\n",
        "    if isinstance(m, nn.Linear):\n",
        "        fan_in, _ = init._calculate_fan_in_and_fan_out(m.weight)\n",
        "        bound = 1 / fan_in\n",
        "        init.uniform_(m.weight, -bound, bound)\n",
        "        init.zeros_(m.bias)\n",
        "\n",
        "class NeuralNetwork(nn.Module):\n",
        "    def __init__(self):\n",
        "        super().__init__()\n",
        "        self.flatten = nn.Flatten()\n",
        "        self.linear_relu_stack = nn.Sequential(\n",
        "            nn.Linear(7, 128),\n",
        "            nn.ReLU(),\n",
        "            nn.Linear(128, 128),\n",
        "            nn.ReLU(),\n",
        "            nn.Linear(128, 2),\n",
        "        )\n",
        "\n",
        "        self.apply(custom_init)\n",
        "\n",
        "    def forward(self, x):\n",
        "        x = self.flatten(x)\n",
        "        logits = self.linear_relu_stack(x)\n",
        "        return logits\n"
      ],
      "id": "JXMajVQQFYVf"
    },
    {
      "cell_type": "code",
      "execution_count": null,
      "metadata": {
        "id": "7588URs-GAZ9"
      },
      "outputs": [],
      "source": [
        "model = NeuralNetwork().to(device)\n",
        "print(model)"
      ],
      "id": "7588URs-GAZ9"
    },
    {
      "cell_type": "code",
      "execution_count": null,
      "metadata": {
        "id": "derunw4uGL0P"
      },
      "outputs": [],
      "source": [
        "learning_rate = 1e-3\n",
        "batch_size = 10\n",
        "epochs = 100\n",
        "\n",
        "# Initialize the loss function and optimizer\n",
        "loss_fn = nn.CrossEntropyLoss()\n",
        "optimizer = torch.optim.SGD(model.parameters(), lr=learning_rate)"
      ],
      "id": "derunw4uGL0P"
    },
    {
      "cell_type": "code",
      "execution_count": null,
      "metadata": {
        "id": "WdakYF73GPpV"
      },
      "outputs": [],
      "source": [
        "baseacc_list = []\n",
        "traininglosses=[]\n",
        "trainingAcc = []\n",
        "testlosses = []\n",
        "epochs = 100\n",
        "testAcc_list = 0\n",
        "testloss_list=0\n",
        "\n",
        "for t in range(epochs):\n",
        "    print(f\"Epoch {t+1}\\n-------------------------------\")\n",
        "    trainingloss_list, trainAcc_list =train_loop(train_dataloader, model, loss_fn, optimizer)\n",
        "    traininglosses.append(trainingloss_list)\n",
        "    trainingAcc.append(trainAcc_list*100)\n",
        "    y_predList,y_valList,testAcc_list,testloss_list = test_loop(test_dataloader, model, loss_fn)\n",
        "    baseacc_list.append(testAcc_list*100)\n",
        "    testlosses.append(testloss_list)\n",
        "print(\"Done!\")"
      ],
      "id": "WdakYF73GPpV"
    },
    {
      "cell_type": "code",
      "execution_count": null,
      "metadata": {
        "id": "ZoRqF9j0xAwA"
      },
      "outputs": [],
      "source": [
        "import matplotlib.pyplot as plt\n",
        "l=[i for i in range(len(traininglosses))]\n",
        "plt.plot(l,trainingAcc)\n",
        "plt.plot(l,baseacc_list)\n",
        "plt.xlabel(\"EPOCHES\")\n",
        "plt.ylabel(\"LOSS\")\n",
        "plt.title(\"TRAIN ACC PLOT Vs TEST ACC WITH weight Initalization as custom Values \")"
      ],
      "id": "ZoRqF9j0xAwA"
    },
    {
      "cell_type": "code",
      "execution_count": null,
      "metadata": {
        "id": "VCHovdwvGTKF"
      },
      "outputs": [],
      "source": [
        "# Step 3"
      ],
      "id": "VCHovdwvGTKF"
    },
    {
      "cell_type": "code",
      "execution_count": null,
      "metadata": {
        "id": "FvzSP2H1dq3S"
      },
      "outputs": [],
      "source": [
        "# 1.Batch Normalisation"
      ],
      "id": "FvzSP2H1dq3S"
    },
    {
      "cell_type": "code",
      "execution_count": null,
      "metadata": {
        "id": "zno9_GeoMT0j"
      },
      "outputs": [],
      "source": [
        "class NeuralNetwork(nn.Module):\n",
        "    def __init__(self):\n",
        "        super().__init__()\n",
        "        self.flatten = nn.Flatten()\n",
        "        self.linear_relu_stack = nn.Sequential(\n",
        "            nn.Linear(7, 128),\n",
        "            nn.BatchNorm1d(128),\n",
        "            nn.ReLU(),\n",
        "            nn.Linear(128, 128),\n",
        "            nn.BatchNorm1d(128),\n",
        "            nn.ReLU(),\n",
        "            nn.Linear(128, 2),\n",
        "        )\n",
        "\n",
        "    def forward(self, x):\n",
        "        x = self.flatten(x)\n",
        "        logits = self.linear_relu_stack(x)\n",
        "        return logits;"
      ],
      "id": "zno9_GeoMT0j"
    },
    {
      "cell_type": "code",
      "execution_count": null,
      "metadata": {
        "id": "I2S8z2VKcOzn"
      },
      "outputs": [],
      "source": [
        "model = NeuralNetwork().to(device)\n",
        "print(model)"
      ],
      "id": "I2S8z2VKcOzn"
    },
    {
      "cell_type": "code",
      "execution_count": null,
      "metadata": {
        "id": "bIBjiKw8cdJu"
      },
      "outputs": [],
      "source": [
        "learning_rate = 1e-3\n",
        "batch_size = 10\n",
        "epochs = 100\n",
        "\n",
        "# Initialize the loss function and optimizer\n",
        "loss_fn = nn.CrossEntropyLoss()\n",
        "optimizer = torch.optim.SGD(model.parameters(), lr=learning_rate)"
      ],
      "id": "bIBjiKw8cdJu"
    },
    {
      "cell_type": "code",
      "execution_count": null,
      "metadata": {
        "id": "mtufcucGdfZO"
      },
      "outputs": [],
      "source": [
        "accListWeight = []\n",
        "epochs = 100\n",
        "for t in range(epochs):\n",
        "    print(f\"Epoch {t+1}\\n-------------------------------\")\n",
        "    trainingloss_list, trainAcc_list =train_loop(train_dataloader, model, loss_fn, optimizer)\n",
        "    traininglosses.append(trainingloss_list)\n",
        "    trainingAcc.append(trainAcc_list*100)\n",
        "    y_predList,y_valList,testAcc_list,testloss_list = test_loop(test_dataloader, model, loss_fn)\n",
        "\n",
        "    accListWeight.append(testAcc_list*100)\n",
        "print(\"Done!\")"
      ],
      "id": "mtufcucGdfZO"
    },
    {
      "cell_type": "code",
      "execution_count": null,
      "metadata": {
        "id": "gVqFc_XMoj1c"
      },
      "outputs": [],
      "source": [
        "plt.plot(baseacc_list, label='base Acc')\n",
        "plt.plot(accListWeight, label='weight decay Acc')\n",
        "plt.legend()\n",
        "plt.show()"
      ],
      "id": "gVqFc_XMoj1c"
    },
    {
      "cell_type": "code",
      "execution_count": null,
      "metadata": {
        "id": "QXap-0GRdj9h"
      },
      "outputs": [],
      "source": [
        "# 2.learning rate scheduler"
      ],
      "id": "QXap-0GRdj9h"
    },
    {
      "cell_type": "code",
      "execution_count": null,
      "metadata": {
        "id": "8LpVt_vh92G9"
      },
      "outputs": [],
      "source": [
        "class NeuralNetwork(nn.Module):\n",
        "    def __init__(self):\n",
        "        super().__init__()\n",
        "        self.flatten = nn.Flatten()\n",
        "        self.linear_relu_stack = nn.Sequential(\n",
        "            nn.Linear(7, 128),\n",
        "            nn.ReLU(),\n",
        "            nn.Linear(128, 128),\n",
        "            nn.ReLU(),\n",
        "            nn.Linear(128, 2),\n",
        "        )\n",
        "\n",
        "    def forward(self, x):\n",
        "        x = self.flatten(x)\n",
        "        logits = self.linear_relu_stack(x)\n",
        "        return logits"
      ],
      "id": "8LpVt_vh92G9"
    },
    {
      "cell_type": "code",
      "execution_count": null,
      "metadata": {
        "id": "DIZV3zca95dZ"
      },
      "outputs": [],
      "source": [
        "model = NeuralNetwork().to(device)\n",
        "print(model)"
      ],
      "id": "DIZV3zca95dZ"
    },
    {
      "cell_type": "code",
      "execution_count": null,
      "metadata": {
        "id": "48Kf7_Ax-D8k"
      },
      "outputs": [],
      "source": [
        "learning_rate = 1e-3\n",
        "batch_size = 10\n",
        "epochs = 100\n",
        "\n",
        "# Initialize the loss function and optimizer\n",
        "loss_fn = nn.CrossEntropyLoss()\n",
        "optimizer = torch.optim.SGD(model.parameters(), lr=learning_rate)\n",
        "scheduler = torch.optim.lr_scheduler.StepLR(optimizer, step_size=5, gamma=0.1)"
      ],
      "id": "48Kf7_Ax-D8k"
    },
    {
      "cell_type": "code",
      "execution_count": null,
      "metadata": {
        "id": "BeyTV1FGFm5J"
      },
      "outputs": [],
      "source": [
        "def train_loop(dataloader, model, loss_fn, optimizer):\n",
        "    size = len(dataloader.dataset)\n",
        "    for batch, (X, y) in enumerate(dataloader):\n",
        "        # Compute prediction and loss\n",
        "        pred = model(X)\n",
        "        loss = loss_fn(pred, y)\n",
        "\n",
        "        # Backpropagation\n",
        "        optimizer.zero_grad()\n",
        "        loss.backward()\n",
        "        optimizer.step()\n",
        "        scheduler.step()\n",
        "\n",
        "        if batch % 100 == 0:\n",
        "            loss, current = loss.item(), (batch + 1) * len(X)\n",
        "            print(f\"loss: {loss:>7f}  [{current:>5d}/{size:>5d}]\")\n",
        "\n"
      ],
      "id": "BeyTV1FGFm5J"
    },
    {
      "cell_type": "code",
      "execution_count": null,
      "metadata": {
        "id": "t6zQwUZzNc9t"
      },
      "outputs": [],
      "source": [
        "accListWeight = []\n",
        "epochs = 100\n",
        "for t in range(epochs):\n",
        "    print(f\"Epoch {t+1}\\n-------------------------------\")\n",
        "    train_loop(train_dataloader, model, loss_fn, optimizer)\n",
        "    y_predList,y_valList,testAcc_list,testloss_list = test_loop(test_dataloader, model, loss_fn)\n",
        "    accListWeight.append(testAcc_list*100)\n",
        "print(\"Done!\")"
      ],
      "id": "t6zQwUZzNc9t"
    },
    {
      "cell_type": "code",
      "execution_count": null,
      "metadata": {
        "id": "WtUwCbNgogYo"
      },
      "outputs": [],
      "source": [
        "plt.plot(baseacc_list, label='base Acc')\n",
        "plt.plot(accListWeight, label='weight decay Acc')\n",
        "plt.legend()\n",
        "plt.show()"
      ],
      "id": "WtUwCbNgogYo"
    },
    {
      "cell_type": "code",
      "execution_count": null,
      "metadata": {
        "id": "I7bTUtKmoIkY"
      },
      "outputs": [],
      "source": [
        "# 3.weight decay"
      ],
      "id": "I7bTUtKmoIkY"
    },
    {
      "cell_type": "code",
      "execution_count": null,
      "metadata": {
        "id": "I9QZfV9UNg7z"
      },
      "outputs": [],
      "source": [
        "class NeuralNetwork(nn.Module):\n",
        "    def __init__(self):\n",
        "        super().__init__()\n",
        "        self.flatten = nn.Flatten()\n",
        "        self.linear_relu_stack = nn.Sequential(\n",
        "            nn.Linear(7, 128),\n",
        "            nn.Tanh(),\n",
        "            nn.Linear(128, 128),\n",
        "            nn.Tanh(),\n",
        "            nn.Linear(128, 2),\n",
        "        )\n",
        "\n",
        "    def forward(self, x):\n",
        "        x = self.flatten(x)\n",
        "        logits = self.linear_relu_stack(x)\n",
        "        return logits"
      ],
      "id": "I9QZfV9UNg7z"
    },
    {
      "cell_type": "code",
      "execution_count": null,
      "metadata": {
        "id": "6RpvjQ1plaMw"
      },
      "outputs": [],
      "source": [
        "model = NeuralNetwork().to(device)\n",
        "print(model)"
      ],
      "id": "6RpvjQ1plaMw"
    },
    {
      "cell_type": "code",
      "execution_count": null,
      "metadata": {
        "id": "JCTTXhOzlaRL"
      },
      "outputs": [],
      "source": [
        "learning_rate = 1e-3\n",
        "batch_size = 10\n",
        "epochs = 100\n",
        "\n",
        "# Initialize the loss function and optimizer\n",
        "loss_fn = nn.CrossEntropyLoss()\n",
        "optimizer = optim.SGD(model.parameters(), lr=learning_rate, weight_decay=0.001)"
      ],
      "id": "JCTTXhOzlaRL"
    },
    {
      "cell_type": "code",
      "execution_count": null,
      "metadata": {
        "id": "hvQkXcnJlqax"
      },
      "outputs": [],
      "source": [
        "accListWeight = []\n",
        "epochs = 100\n",
        "for t in range(epochs):\n",
        "    print(f\"Epoch {t+1}\\n-------------------------------\")\n",
        "    train_loop(train_dataloader, model, loss_fn, optimizer)\n",
        "    traininglosses.append(trainingloss_list)\n",
        "    trainingAcc.append(trainAcc_list*100)\n",
        "    y_predList,y_valList,testAcc_list,testloss_list = test_loop(test_dataloader, model, loss_fn)\n",
        "    accListWeight.append(testAcc_list*100)\n",
        "\n",
        "print(\"Done!\")"
      ],
      "id": "hvQkXcnJlqax"
    },
    {
      "cell_type": "code",
      "execution_count": null,
      "metadata": {
        "id": "Uiwpkhe9lAc0"
      },
      "outputs": [],
      "source": [
        "plt.plot(baseacc_list, label='base Acc')\n",
        "plt.plot(accListWeight, label='weight decay Acc')\n",
        "plt.legend()\n",
        "plt.show()"
      ],
      "id": "Uiwpkhe9lAc0"
    },
    {
      "cell_type": "code",
      "execution_count": null,
      "metadata": {
        "id": "bms9O8eMlzvw"
      },
      "outputs": [],
      "source": [
        "# 4.Early stopping"
      ],
      "id": "bms9O8eMlzvw"
    },
    {
      "cell_type": "code",
      "execution_count": null,
      "metadata": {
        "id": "2tqIjH1DqhCl"
      },
      "outputs": [],
      "source": [
        "class NeuralNetwork(nn.Module):\n",
        "    def __init__(self):\n",
        "        super().__init__()\n",
        "        self.flatten = nn.Flatten()\n",
        "        self.linear_relu_stack = nn.Sequential(\n",
        "            nn.Linear(7, 128),\n",
        "            nn.Tanh(),\n",
        "            nn.Linear(128, 128),\n",
        "            nn.Tanh(),\n",
        "            nn.Linear(128, 2),\n",
        "        )\n",
        "\n",
        "    def forward(self, x):\n",
        "        x = self.flatten(x)\n",
        "        logits = self.linear_relu_stack(x)\n",
        "        return logits"
      ],
      "id": "2tqIjH1DqhCl"
    },
    {
      "cell_type": "code",
      "execution_count": null,
      "metadata": {
        "id": "dHkHu_gdYxcY"
      },
      "outputs": [],
      "source": [
        "learning_rate = 1e-3\n",
        "batch_size = 10\n",
        "epochs = 100\n",
        "\n",
        "# Initialize the loss function and optimizer\n",
        "loss_fn = nn.CrossEntropyLoss()\n",
        "optimizer = optim.SGD(model.parameters(), lr=learning_rate, weight_decay=0.001)"
      ],
      "id": "dHkHu_gdYxcY"
    },
    {
      "cell_type": "code",
      "execution_count": null,
      "metadata": {
        "id": "DWiagCu8ZwhW"
      },
      "outputs": [],
      "source": [
        "def test_loop1(dataloader, model, loss_fn):\n",
        "    size , num_batches= len(dataloader.dataset),len(dataloader)\n",
        "    test_loss, correct = 0, 0\n",
        "    testloss_list=[]\n",
        "    testAcc_list=[]\n",
        "    y_predList = []\n",
        "    y_valList= []\n",
        "    with torch.no_grad():\n",
        "        for X, y in dataloader:\n",
        "            pred = model(X)\n",
        "            test_loss += loss_fn(pred, y).item()\n",
        "            correct += (pred.argmax(1) == y).type(torch.float).sum().item()\n",
        "            y_predList.extend(pred.argmax(1).tolist())\n",
        "            y_valList.extend(y.tolist())\n",
        "    test_loss /= num_batches\n",
        "    correct /= size\n",
        "    testloss_list.append(test_loss)\n",
        "    #print(pred_list)\n",
        "    print(f\"Test Error: \\n Accuracy: {(100*correct):>0.1f}%, Avg loss: {test_loss:>8f} \\n\")\n",
        "    return y_predList,y_valList,testloss_list"
      ],
      "id": "DWiagCu8ZwhW"
    },
    {
      "cell_type": "code",
      "execution_count": null,
      "metadata": {
        "id": "Yf0dRo7OY1G9"
      },
      "outputs": [],
      "source": [
        "epochs = 100\n",
        "patience = 10\n",
        "pre_acc = []\n",
        "count = 0\n",
        "for t in range(epochs):\n",
        "    print(f\"Epoch {t+1}\\n-------------------------------\")\n",
        "    train_loop(train_dataloader, model, loss_fn, optimizer)\n",
        "    y_predList,y_valList,testloss_list = test_loop1(test_dataloader, model, loss_fn)\n",
        "    if testloss_list>pre_acc:\n",
        "      print(count)\n",
        "      count = count+1\n",
        "    if count>patience:\n",
        "      print(\"Early stopping occurred....\")\n",
        "      break;\n",
        "    pre_acc = testloss_list\n",
        "print(\"Done!\")"
      ],
      "id": "Yf0dRo7OY1G9"
    },
    {
      "cell_type": "code",
      "execution_count": null,
      "metadata": {
        "id": "kBFEa2VOkEau"
      },
      "outputs": [],
      "source": [
        "#Reference:\n",
        "\n",
        "#https://pytorch.org/docs \n",
        "#https://pytorch.org/tutorials/beginner/basics/buildmodel_tutorial.html \n",
        "#https://scikit-learn.org/stable/modules/generated/sklearn.model_selection.KFold.html \n",
        "#https://pytorch.org/docs/stable/generated/torch.optim.lr_scheduler"
      ],
      "id": "kBFEa2VOkEau"
    },
    {
      "cell_type": "code",
      "execution_count": null,
      "metadata": {
        "id": "l7DBGysmtAFy"
      },
      "outputs": [],
      "source": [],
      "id": "l7DBGysmtAFy"
    }
  ],
  "metadata": {
    "colab": {
      "provenance": []
    },
    "kernelspec": {
      "display_name": "Python 3 (ipykernel)",
      "language": "python",
      "name": "python3"
    },
    "language_info": {
      "codemirror_mode": {
        "name": "ipython",
        "version": 3
      },
      "file_extension": ".py",
      "mimetype": "text/x-python",
      "name": "python",
      "nbconvert_exporter": "python",
      "pygments_lexer": "ipython3",
      "version": "3.9.13"
    }
  },
  "nbformat": 4,
  "nbformat_minor": 5
}